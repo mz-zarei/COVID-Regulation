{
  "nbformat": 4,
  "nbformat_minor": 0,
  "metadata": {
    "colab": {
      "name": "DataPreparationForTFT.ipynb",
      "provenance": [],
      "collapsed_sections": [],
      "toc_visible": true,
      "mount_file_id": "1fo0sgqCTWjn194WP62b5fGMQAbz2QPgr",
      "authorship_tag": "ABX9TyOM1SU3ALwM1BRRMoLzk+bk",
      "include_colab_link": true
    },
    "kernelspec": {
      "name": "python3",
      "display_name": "Python 3"
    },
    "language_info": {
      "name": "python"
    },
    "accelerator": "GPU",
    "widgets": {
      "application/vnd.jupyter.widget-state+json": {
        "5d3aa9ffb9134de8856deafaa0a1cd1e": {
          "model_module": "@jupyter-widgets/controls",
          "model_name": "HBoxModel",
          "state": {
            "_view_name": "HBoxView",
            "_dom_classes": [],
            "_model_name": "HBoxModel",
            "_view_module": "@jupyter-widgets/controls",
            "_model_module_version": "1.5.0",
            "_view_count": null,
            "_view_module_version": "1.5.0",
            "box_style": "",
            "layout": "IPY_MODEL_9ee1b4b654e245b99e9c93576fac0737",
            "_model_module": "@jupyter-widgets/controls",
            "children": [
              "IPY_MODEL_0000f657126347a2ac4e144a6ee6ca3b",
              "IPY_MODEL_c5ee52fa119748828647fecb738ece29"
            ]
          }
        },
        "9ee1b4b654e245b99e9c93576fac0737": {
          "model_module": "@jupyter-widgets/base",
          "model_name": "LayoutModel",
          "state": {
            "_view_name": "LayoutView",
            "grid_template_rows": null,
            "right": null,
            "justify_content": null,
            "_view_module": "@jupyter-widgets/base",
            "overflow": null,
            "_model_module_version": "1.2.0",
            "_view_count": null,
            "flex_flow": null,
            "width": null,
            "min_width": null,
            "border": null,
            "align_items": null,
            "bottom": null,
            "_model_module": "@jupyter-widgets/base",
            "top": null,
            "grid_column": null,
            "overflow_y": null,
            "overflow_x": null,
            "grid_auto_flow": null,
            "grid_area": null,
            "grid_template_columns": null,
            "flex": null,
            "_model_name": "LayoutModel",
            "justify_items": null,
            "grid_row": null,
            "max_height": null,
            "align_content": null,
            "visibility": null,
            "align_self": null,
            "height": null,
            "min_height": null,
            "padding": null,
            "grid_auto_rows": null,
            "grid_gap": null,
            "max_width": null,
            "order": null,
            "_view_module_version": "1.2.0",
            "grid_template_areas": null,
            "object_position": null,
            "object_fit": null,
            "grid_auto_columns": null,
            "margin": null,
            "display": null,
            "left": null
          }
        },
        "0000f657126347a2ac4e144a6ee6ca3b": {
          "model_module": "@jupyter-widgets/controls",
          "model_name": "FloatProgressModel",
          "state": {
            "_view_name": "ProgressView",
            "style": "IPY_MODEL_aa3211cb8e154e13b77ed99f5cd605b3",
            "_dom_classes": [],
            "description": "Downloading: 100%",
            "_model_name": "FloatProgressModel",
            "bar_style": "success",
            "max": 898825,
            "_view_module": "@jupyter-widgets/controls",
            "_model_module_version": "1.5.0",
            "value": 898825,
            "_view_count": null,
            "_view_module_version": "1.5.0",
            "orientation": "horizontal",
            "min": 0,
            "description_tooltip": null,
            "_model_module": "@jupyter-widgets/controls",
            "layout": "IPY_MODEL_5353a16b976c452aab8c4af4e170de67"
          }
        },
        "c5ee52fa119748828647fecb738ece29": {
          "model_module": "@jupyter-widgets/controls",
          "model_name": "HTMLModel",
          "state": {
            "_view_name": "HTMLView",
            "style": "IPY_MODEL_972fd0c53c604c68b90558f1f7a3421c",
            "_dom_classes": [],
            "description": "",
            "_model_name": "HTMLModel",
            "placeholder": "​",
            "_view_module": "@jupyter-widgets/controls",
            "_model_module_version": "1.5.0",
            "value": " 899k/899k [00:06&lt;00:00, 144kB/s]",
            "_view_count": null,
            "_view_module_version": "1.5.0",
            "description_tooltip": null,
            "_model_module": "@jupyter-widgets/controls",
            "layout": "IPY_MODEL_101402b1098245d7b8b5d2b9a4ddb4f3"
          }
        },
        "aa3211cb8e154e13b77ed99f5cd605b3": {
          "model_module": "@jupyter-widgets/controls",
          "model_name": "ProgressStyleModel",
          "state": {
            "_view_name": "StyleView",
            "_model_name": "ProgressStyleModel",
            "description_width": "initial",
            "_view_module": "@jupyter-widgets/base",
            "_model_module_version": "1.5.0",
            "_view_count": null,
            "_view_module_version": "1.2.0",
            "bar_color": null,
            "_model_module": "@jupyter-widgets/controls"
          }
        },
        "5353a16b976c452aab8c4af4e170de67": {
          "model_module": "@jupyter-widgets/base",
          "model_name": "LayoutModel",
          "state": {
            "_view_name": "LayoutView",
            "grid_template_rows": null,
            "right": null,
            "justify_content": null,
            "_view_module": "@jupyter-widgets/base",
            "overflow": null,
            "_model_module_version": "1.2.0",
            "_view_count": null,
            "flex_flow": null,
            "width": null,
            "min_width": null,
            "border": null,
            "align_items": null,
            "bottom": null,
            "_model_module": "@jupyter-widgets/base",
            "top": null,
            "grid_column": null,
            "overflow_y": null,
            "overflow_x": null,
            "grid_auto_flow": null,
            "grid_area": null,
            "grid_template_columns": null,
            "flex": null,
            "_model_name": "LayoutModel",
            "justify_items": null,
            "grid_row": null,
            "max_height": null,
            "align_content": null,
            "visibility": null,
            "align_self": null,
            "height": null,
            "min_height": null,
            "padding": null,
            "grid_auto_rows": null,
            "grid_gap": null,
            "max_width": null,
            "order": null,
            "_view_module_version": "1.2.0",
            "grid_template_areas": null,
            "object_position": null,
            "object_fit": null,
            "grid_auto_columns": null,
            "margin": null,
            "display": null,
            "left": null
          }
        },
        "972fd0c53c604c68b90558f1f7a3421c": {
          "model_module": "@jupyter-widgets/controls",
          "model_name": "DescriptionStyleModel",
          "state": {
            "_view_name": "StyleView",
            "_model_name": "DescriptionStyleModel",
            "description_width": "",
            "_view_module": "@jupyter-widgets/base",
            "_model_module_version": "1.5.0",
            "_view_count": null,
            "_view_module_version": "1.2.0",
            "_model_module": "@jupyter-widgets/controls"
          }
        },
        "101402b1098245d7b8b5d2b9a4ddb4f3": {
          "model_module": "@jupyter-widgets/base",
          "model_name": "LayoutModel",
          "state": {
            "_view_name": "LayoutView",
            "grid_template_rows": null,
            "right": null,
            "justify_content": null,
            "_view_module": "@jupyter-widgets/base",
            "overflow": null,
            "_model_module_version": "1.2.0",
            "_view_count": null,
            "flex_flow": null,
            "width": null,
            "min_width": null,
            "border": null,
            "align_items": null,
            "bottom": null,
            "_model_module": "@jupyter-widgets/base",
            "top": null,
            "grid_column": null,
            "overflow_y": null,
            "overflow_x": null,
            "grid_auto_flow": null,
            "grid_area": null,
            "grid_template_columns": null,
            "flex": null,
            "_model_name": "LayoutModel",
            "justify_items": null,
            "grid_row": null,
            "max_height": null,
            "align_content": null,
            "visibility": null,
            "align_self": null,
            "height": null,
            "min_height": null,
            "padding": null,
            "grid_auto_rows": null,
            "grid_gap": null,
            "max_width": null,
            "order": null,
            "_view_module_version": "1.2.0",
            "grid_template_areas": null,
            "object_position": null,
            "object_fit": null,
            "grid_auto_columns": null,
            "margin": null,
            "display": null,
            "left": null
          }
        },
        "e9425e546b5c491083952a344612ec46": {
          "model_module": "@jupyter-widgets/controls",
          "model_name": "HBoxModel",
          "state": {
            "_view_name": "HBoxView",
            "_dom_classes": [],
            "_model_name": "HBoxModel",
            "_view_module": "@jupyter-widgets/controls",
            "_model_module_version": "1.5.0",
            "_view_count": null,
            "_view_module_version": "1.5.0",
            "box_style": "",
            "layout": "IPY_MODEL_18661cea34724fd4b4bcd48423580fb1",
            "_model_module": "@jupyter-widgets/controls",
            "children": [
              "IPY_MODEL_235ed78d06364e98aeaac512117ef684",
              "IPY_MODEL_e44003abecac49329a7057cef8039019"
            ]
          }
        },
        "18661cea34724fd4b4bcd48423580fb1": {
          "model_module": "@jupyter-widgets/base",
          "model_name": "LayoutModel",
          "state": {
            "_view_name": "LayoutView",
            "grid_template_rows": null,
            "right": null,
            "justify_content": null,
            "_view_module": "@jupyter-widgets/base",
            "overflow": null,
            "_model_module_version": "1.2.0",
            "_view_count": null,
            "flex_flow": null,
            "width": null,
            "min_width": null,
            "border": null,
            "align_items": null,
            "bottom": null,
            "_model_module": "@jupyter-widgets/base",
            "top": null,
            "grid_column": null,
            "overflow_y": null,
            "overflow_x": null,
            "grid_auto_flow": null,
            "grid_area": null,
            "grid_template_columns": null,
            "flex": null,
            "_model_name": "LayoutModel",
            "justify_items": null,
            "grid_row": null,
            "max_height": null,
            "align_content": null,
            "visibility": null,
            "align_self": null,
            "height": null,
            "min_height": null,
            "padding": null,
            "grid_auto_rows": null,
            "grid_gap": null,
            "max_width": null,
            "order": null,
            "_view_module_version": "1.2.0",
            "grid_template_areas": null,
            "object_position": null,
            "object_fit": null,
            "grid_auto_columns": null,
            "margin": null,
            "display": null,
            "left": null
          }
        },
        "235ed78d06364e98aeaac512117ef684": {
          "model_module": "@jupyter-widgets/controls",
          "model_name": "FloatProgressModel",
          "state": {
            "_view_name": "ProgressView",
            "style": "IPY_MODEL_4d9cc0f8e7ab461dbc3a0ad03aaf7c61",
            "_dom_classes": [],
            "description": "Downloading: 100%",
            "_model_name": "FloatProgressModel",
            "bar_style": "success",
            "max": 456318,
            "_view_module": "@jupyter-widgets/controls",
            "_model_module_version": "1.5.0",
            "value": 456318,
            "_view_count": null,
            "_view_module_version": "1.5.0",
            "orientation": "horizontal",
            "min": 0,
            "description_tooltip": null,
            "_model_module": "@jupyter-widgets/controls",
            "layout": "IPY_MODEL_332701bb087a4110847fd6ad373faba9"
          }
        },
        "e44003abecac49329a7057cef8039019": {
          "model_module": "@jupyter-widgets/controls",
          "model_name": "HTMLModel",
          "state": {
            "_view_name": "HTMLView",
            "style": "IPY_MODEL_8fd27f43f79a4ea88c6de203107cf01b",
            "_dom_classes": [],
            "description": "",
            "_model_name": "HTMLModel",
            "placeholder": "​",
            "_view_module": "@jupyter-widgets/controls",
            "_model_module_version": "1.5.0",
            "value": " 456k/456k [00:04&lt;00:00, 113kB/s]",
            "_view_count": null,
            "_view_module_version": "1.5.0",
            "description_tooltip": null,
            "_model_module": "@jupyter-widgets/controls",
            "layout": "IPY_MODEL_061e056637a148aab6759104b44e27bc"
          }
        },
        "4d9cc0f8e7ab461dbc3a0ad03aaf7c61": {
          "model_module": "@jupyter-widgets/controls",
          "model_name": "ProgressStyleModel",
          "state": {
            "_view_name": "StyleView",
            "_model_name": "ProgressStyleModel",
            "description_width": "initial",
            "_view_module": "@jupyter-widgets/base",
            "_model_module_version": "1.5.0",
            "_view_count": null,
            "_view_module_version": "1.2.0",
            "bar_color": null,
            "_model_module": "@jupyter-widgets/controls"
          }
        },
        "332701bb087a4110847fd6ad373faba9": {
          "model_module": "@jupyter-widgets/base",
          "model_name": "LayoutModel",
          "state": {
            "_view_name": "LayoutView",
            "grid_template_rows": null,
            "right": null,
            "justify_content": null,
            "_view_module": "@jupyter-widgets/base",
            "overflow": null,
            "_model_module_version": "1.2.0",
            "_view_count": null,
            "flex_flow": null,
            "width": null,
            "min_width": null,
            "border": null,
            "align_items": null,
            "bottom": null,
            "_model_module": "@jupyter-widgets/base",
            "top": null,
            "grid_column": null,
            "overflow_y": null,
            "overflow_x": null,
            "grid_auto_flow": null,
            "grid_area": null,
            "grid_template_columns": null,
            "flex": null,
            "_model_name": "LayoutModel",
            "justify_items": null,
            "grid_row": null,
            "max_height": null,
            "align_content": null,
            "visibility": null,
            "align_self": null,
            "height": null,
            "min_height": null,
            "padding": null,
            "grid_auto_rows": null,
            "grid_gap": null,
            "max_width": null,
            "order": null,
            "_view_module_version": "1.2.0",
            "grid_template_areas": null,
            "object_position": null,
            "object_fit": null,
            "grid_auto_columns": null,
            "margin": null,
            "display": null,
            "left": null
          }
        },
        "8fd27f43f79a4ea88c6de203107cf01b": {
          "model_module": "@jupyter-widgets/controls",
          "model_name": "DescriptionStyleModel",
          "state": {
            "_view_name": "StyleView",
            "_model_name": "DescriptionStyleModel",
            "description_width": "",
            "_view_module": "@jupyter-widgets/base",
            "_model_module_version": "1.5.0",
            "_view_count": null,
            "_view_module_version": "1.2.0",
            "_model_module": "@jupyter-widgets/controls"
          }
        },
        "061e056637a148aab6759104b44e27bc": {
          "model_module": "@jupyter-widgets/base",
          "model_name": "LayoutModel",
          "state": {
            "_view_name": "LayoutView",
            "grid_template_rows": null,
            "right": null,
            "justify_content": null,
            "_view_module": "@jupyter-widgets/base",
            "overflow": null,
            "_model_module_version": "1.2.0",
            "_view_count": null,
            "flex_flow": null,
            "width": null,
            "min_width": null,
            "border": null,
            "align_items": null,
            "bottom": null,
            "_model_module": "@jupyter-widgets/base",
            "top": null,
            "grid_column": null,
            "overflow_y": null,
            "overflow_x": null,
            "grid_auto_flow": null,
            "grid_area": null,
            "grid_template_columns": null,
            "flex": null,
            "_model_name": "LayoutModel",
            "justify_items": null,
            "grid_row": null,
            "max_height": null,
            "align_content": null,
            "visibility": null,
            "align_self": null,
            "height": null,
            "min_height": null,
            "padding": null,
            "grid_auto_rows": null,
            "grid_gap": null,
            "max_width": null,
            "order": null,
            "_view_module_version": "1.2.0",
            "grid_template_areas": null,
            "object_position": null,
            "object_fit": null,
            "grid_auto_columns": null,
            "margin": null,
            "display": null,
            "left": null
          }
        },
        "33928219b80440a885b25cd99b711dd2": {
          "model_module": "@jupyter-widgets/controls",
          "model_name": "HBoxModel",
          "state": {
            "_view_name": "HBoxView",
            "_dom_classes": [],
            "_model_name": "HBoxModel",
            "_view_module": "@jupyter-widgets/controls",
            "_model_module_version": "1.5.0",
            "_view_count": null,
            "_view_module_version": "1.5.0",
            "box_style": "",
            "layout": "IPY_MODEL_f1d59103f2a24ee8a0a36c81924a39e9",
            "_model_module": "@jupyter-widgets/controls",
            "children": [
              "IPY_MODEL_0e80ae450a6d4eebbca3d58ede4ec877",
              "IPY_MODEL_f72830bf8f7b4f57939681c88fb6e47c"
            ]
          }
        },
        "f1d59103f2a24ee8a0a36c81924a39e9": {
          "model_module": "@jupyter-widgets/base",
          "model_name": "LayoutModel",
          "state": {
            "_view_name": "LayoutView",
            "grid_template_rows": null,
            "right": null,
            "justify_content": null,
            "_view_module": "@jupyter-widgets/base",
            "overflow": null,
            "_model_module_version": "1.2.0",
            "_view_count": null,
            "flex_flow": null,
            "width": null,
            "min_width": null,
            "border": null,
            "align_items": null,
            "bottom": null,
            "_model_module": "@jupyter-widgets/base",
            "top": null,
            "grid_column": null,
            "overflow_y": null,
            "overflow_x": null,
            "grid_auto_flow": null,
            "grid_area": null,
            "grid_template_columns": null,
            "flex": null,
            "_model_name": "LayoutModel",
            "justify_items": null,
            "grid_row": null,
            "max_height": null,
            "align_content": null,
            "visibility": null,
            "align_self": null,
            "height": null,
            "min_height": null,
            "padding": null,
            "grid_auto_rows": null,
            "grid_gap": null,
            "max_width": null,
            "order": null,
            "_view_module_version": "1.2.0",
            "grid_template_areas": null,
            "object_position": null,
            "object_fit": null,
            "grid_auto_columns": null,
            "margin": null,
            "display": null,
            "left": null
          }
        },
        "0e80ae450a6d4eebbca3d58ede4ec877": {
          "model_module": "@jupyter-widgets/controls",
          "model_name": "FloatProgressModel",
          "state": {
            "_view_name": "ProgressView",
            "style": "IPY_MODEL_e736f4775d9e47139b79a1e82ac85ec7",
            "_dom_classes": [],
            "description": "Downloading: 100%",
            "_model_name": "FloatProgressModel",
            "bar_style": "success",
            "max": 52,
            "_view_module": "@jupyter-widgets/controls",
            "_model_module_version": "1.5.0",
            "value": 52,
            "_view_count": null,
            "_view_module_version": "1.5.0",
            "orientation": "horizontal",
            "min": 0,
            "description_tooltip": null,
            "_model_module": "@jupyter-widgets/controls",
            "layout": "IPY_MODEL_701d5ffa64e842f0ae3e680448187535"
          }
        },
        "f72830bf8f7b4f57939681c88fb6e47c": {
          "model_module": "@jupyter-widgets/controls",
          "model_name": "HTMLModel",
          "state": {
            "_view_name": "HTMLView",
            "style": "IPY_MODEL_218950578bf641bf85b581731cef7c39",
            "_dom_classes": [],
            "description": "",
            "_model_name": "HTMLModel",
            "placeholder": "​",
            "_view_module": "@jupyter-widgets/controls",
            "_model_module_version": "1.5.0",
            "value": " 52.0/52.0 [00:00&lt;00:00, 80.2B/s]",
            "_view_count": null,
            "_view_module_version": "1.5.0",
            "description_tooltip": null,
            "_model_module": "@jupyter-widgets/controls",
            "layout": "IPY_MODEL_1962954c0fe243c883d222b77f9dc6d4"
          }
        },
        "e736f4775d9e47139b79a1e82ac85ec7": {
          "model_module": "@jupyter-widgets/controls",
          "model_name": "ProgressStyleModel",
          "state": {
            "_view_name": "StyleView",
            "_model_name": "ProgressStyleModel",
            "description_width": "initial",
            "_view_module": "@jupyter-widgets/base",
            "_model_module_version": "1.5.0",
            "_view_count": null,
            "_view_module_version": "1.2.0",
            "bar_color": null,
            "_model_module": "@jupyter-widgets/controls"
          }
        },
        "701d5ffa64e842f0ae3e680448187535": {
          "model_module": "@jupyter-widgets/base",
          "model_name": "LayoutModel",
          "state": {
            "_view_name": "LayoutView",
            "grid_template_rows": null,
            "right": null,
            "justify_content": null,
            "_view_module": "@jupyter-widgets/base",
            "overflow": null,
            "_model_module_version": "1.2.0",
            "_view_count": null,
            "flex_flow": null,
            "width": null,
            "min_width": null,
            "border": null,
            "align_items": null,
            "bottom": null,
            "_model_module": "@jupyter-widgets/base",
            "top": null,
            "grid_column": null,
            "overflow_y": null,
            "overflow_x": null,
            "grid_auto_flow": null,
            "grid_area": null,
            "grid_template_columns": null,
            "flex": null,
            "_model_name": "LayoutModel",
            "justify_items": null,
            "grid_row": null,
            "max_height": null,
            "align_content": null,
            "visibility": null,
            "align_self": null,
            "height": null,
            "min_height": null,
            "padding": null,
            "grid_auto_rows": null,
            "grid_gap": null,
            "max_width": null,
            "order": null,
            "_view_module_version": "1.2.0",
            "grid_template_areas": null,
            "object_position": null,
            "object_fit": null,
            "grid_auto_columns": null,
            "margin": null,
            "display": null,
            "left": null
          }
        },
        "218950578bf641bf85b581731cef7c39": {
          "model_module": "@jupyter-widgets/controls",
          "model_name": "DescriptionStyleModel",
          "state": {
            "_view_name": "StyleView",
            "_model_name": "DescriptionStyleModel",
            "description_width": "",
            "_view_module": "@jupyter-widgets/base",
            "_model_module_version": "1.5.0",
            "_view_count": null,
            "_view_module_version": "1.2.0",
            "_model_module": "@jupyter-widgets/controls"
          }
        },
        "1962954c0fe243c883d222b77f9dc6d4": {
          "model_module": "@jupyter-widgets/base",
          "model_name": "LayoutModel",
          "state": {
            "_view_name": "LayoutView",
            "grid_template_rows": null,
            "right": null,
            "justify_content": null,
            "_view_module": "@jupyter-widgets/base",
            "overflow": null,
            "_model_module_version": "1.2.0",
            "_view_count": null,
            "flex_flow": null,
            "width": null,
            "min_width": null,
            "border": null,
            "align_items": null,
            "bottom": null,
            "_model_module": "@jupyter-widgets/base",
            "top": null,
            "grid_column": null,
            "overflow_y": null,
            "overflow_x": null,
            "grid_auto_flow": null,
            "grid_area": null,
            "grid_template_columns": null,
            "flex": null,
            "_model_name": "LayoutModel",
            "justify_items": null,
            "grid_row": null,
            "max_height": null,
            "align_content": null,
            "visibility": null,
            "align_self": null,
            "height": null,
            "min_height": null,
            "padding": null,
            "grid_auto_rows": null,
            "grid_gap": null,
            "max_width": null,
            "order": null,
            "_view_module_version": "1.2.0",
            "grid_template_areas": null,
            "object_position": null,
            "object_fit": null,
            "grid_auto_columns": null,
            "margin": null,
            "display": null,
            "left": null
          }
        },
        "48d30a123753428290f630b01f143632": {
          "model_module": "@jupyter-widgets/controls",
          "model_name": "HBoxModel",
          "state": {
            "_view_name": "HBoxView",
            "_dom_classes": [],
            "_model_name": "HBoxModel",
            "_view_module": "@jupyter-widgets/controls",
            "_model_module_version": "1.5.0",
            "_view_count": null,
            "_view_module_version": "1.5.0",
            "box_style": "",
            "layout": "IPY_MODEL_34fb6ad11f2349db9cdb53e73e40cb6d",
            "_model_module": "@jupyter-widgets/controls",
            "children": [
              "IPY_MODEL_0942c05aecf64550a19d0c0337923937",
              "IPY_MODEL_cbf8a728e23a42c281fd7b03e70cf17a"
            ]
          }
        },
        "34fb6ad11f2349db9cdb53e73e40cb6d": {
          "model_module": "@jupyter-widgets/base",
          "model_name": "LayoutModel",
          "state": {
            "_view_name": "LayoutView",
            "grid_template_rows": null,
            "right": null,
            "justify_content": null,
            "_view_module": "@jupyter-widgets/base",
            "overflow": null,
            "_model_module_version": "1.2.0",
            "_view_count": null,
            "flex_flow": null,
            "width": null,
            "min_width": null,
            "border": null,
            "align_items": null,
            "bottom": null,
            "_model_module": "@jupyter-widgets/base",
            "top": null,
            "grid_column": null,
            "overflow_y": null,
            "overflow_x": null,
            "grid_auto_flow": null,
            "grid_area": null,
            "grid_template_columns": null,
            "flex": null,
            "_model_name": "LayoutModel",
            "justify_items": null,
            "grid_row": null,
            "max_height": null,
            "align_content": null,
            "visibility": null,
            "align_self": null,
            "height": null,
            "min_height": null,
            "padding": null,
            "grid_auto_rows": null,
            "grid_gap": null,
            "max_width": null,
            "order": null,
            "_view_module_version": "1.2.0",
            "grid_template_areas": null,
            "object_position": null,
            "object_fit": null,
            "grid_auto_columns": null,
            "margin": null,
            "display": null,
            "left": null
          }
        },
        "0942c05aecf64550a19d0c0337923937": {
          "model_module": "@jupyter-widgets/controls",
          "model_name": "FloatProgressModel",
          "state": {
            "_view_name": "ProgressView",
            "style": "IPY_MODEL_d11a6d4b22bc42d9b777bdd9d98701e8",
            "_dom_classes": [],
            "description": "Downloading: 100%",
            "_model_name": "FloatProgressModel",
            "bar_style": "success",
            "max": 474,
            "_view_module": "@jupyter-widgets/controls",
            "_model_module_version": "1.5.0",
            "value": 474,
            "_view_count": null,
            "_view_module_version": "1.5.0",
            "orientation": "horizontal",
            "min": 0,
            "description_tooltip": null,
            "_model_module": "@jupyter-widgets/controls",
            "layout": "IPY_MODEL_1b72ab98c0d04402ad5fb2efe1ddaa65"
          }
        },
        "cbf8a728e23a42c281fd7b03e70cf17a": {
          "model_module": "@jupyter-widgets/controls",
          "model_name": "HTMLModel",
          "state": {
            "_view_name": "HTMLView",
            "style": "IPY_MODEL_4935056300a947e79538e9e1ad3f59cf",
            "_dom_classes": [],
            "description": "",
            "_model_name": "HTMLModel",
            "placeholder": "​",
            "_view_module": "@jupyter-widgets/controls",
            "_model_module_version": "1.5.0",
            "value": " 474/474 [00:00&lt;00:00, 503B/s]",
            "_view_count": null,
            "_view_module_version": "1.5.0",
            "description_tooltip": null,
            "_model_module": "@jupyter-widgets/controls",
            "layout": "IPY_MODEL_43c767404fee4da586a883a28e93e5a1"
          }
        },
        "d11a6d4b22bc42d9b777bdd9d98701e8": {
          "model_module": "@jupyter-widgets/controls",
          "model_name": "ProgressStyleModel",
          "state": {
            "_view_name": "StyleView",
            "_model_name": "ProgressStyleModel",
            "description_width": "initial",
            "_view_module": "@jupyter-widgets/base",
            "_model_module_version": "1.5.0",
            "_view_count": null,
            "_view_module_version": "1.2.0",
            "bar_color": null,
            "_model_module": "@jupyter-widgets/controls"
          }
        },
        "1b72ab98c0d04402ad5fb2efe1ddaa65": {
          "model_module": "@jupyter-widgets/base",
          "model_name": "LayoutModel",
          "state": {
            "_view_name": "LayoutView",
            "grid_template_rows": null,
            "right": null,
            "justify_content": null,
            "_view_module": "@jupyter-widgets/base",
            "overflow": null,
            "_model_module_version": "1.2.0",
            "_view_count": null,
            "flex_flow": null,
            "width": null,
            "min_width": null,
            "border": null,
            "align_items": null,
            "bottom": null,
            "_model_module": "@jupyter-widgets/base",
            "top": null,
            "grid_column": null,
            "overflow_y": null,
            "overflow_x": null,
            "grid_auto_flow": null,
            "grid_area": null,
            "grid_template_columns": null,
            "flex": null,
            "_model_name": "LayoutModel",
            "justify_items": null,
            "grid_row": null,
            "max_height": null,
            "align_content": null,
            "visibility": null,
            "align_self": null,
            "height": null,
            "min_height": null,
            "padding": null,
            "grid_auto_rows": null,
            "grid_gap": null,
            "max_width": null,
            "order": null,
            "_view_module_version": "1.2.0",
            "grid_template_areas": null,
            "object_position": null,
            "object_fit": null,
            "grid_auto_columns": null,
            "margin": null,
            "display": null,
            "left": null
          }
        },
        "4935056300a947e79538e9e1ad3f59cf": {
          "model_module": "@jupyter-widgets/controls",
          "model_name": "DescriptionStyleModel",
          "state": {
            "_view_name": "StyleView",
            "_model_name": "DescriptionStyleModel",
            "description_width": "",
            "_view_module": "@jupyter-widgets/base",
            "_model_module_version": "1.5.0",
            "_view_count": null,
            "_view_module_version": "1.2.0",
            "_model_module": "@jupyter-widgets/controls"
          }
        },
        "43c767404fee4da586a883a28e93e5a1": {
          "model_module": "@jupyter-widgets/base",
          "model_name": "LayoutModel",
          "state": {
            "_view_name": "LayoutView",
            "grid_template_rows": null,
            "right": null,
            "justify_content": null,
            "_view_module": "@jupyter-widgets/base",
            "overflow": null,
            "_model_module_version": "1.2.0",
            "_view_count": null,
            "flex_flow": null,
            "width": null,
            "min_width": null,
            "border": null,
            "align_items": null,
            "bottom": null,
            "_model_module": "@jupyter-widgets/base",
            "top": null,
            "grid_column": null,
            "overflow_y": null,
            "overflow_x": null,
            "grid_auto_flow": null,
            "grid_area": null,
            "grid_template_columns": null,
            "flex": null,
            "_model_name": "LayoutModel",
            "justify_items": null,
            "grid_row": null,
            "max_height": null,
            "align_content": null,
            "visibility": null,
            "align_self": null,
            "height": null,
            "min_height": null,
            "padding": null,
            "grid_auto_rows": null,
            "grid_gap": null,
            "max_width": null,
            "order": null,
            "_view_module_version": "1.2.0",
            "grid_template_areas": null,
            "object_position": null,
            "object_fit": null,
            "grid_auto_columns": null,
            "margin": null,
            "display": null,
            "left": null
          }
        },
        "5e45c5fdab7d436880989f6c4586d409": {
          "model_module": "@jupyter-widgets/controls",
          "model_name": "HBoxModel",
          "state": {
            "_view_name": "HBoxView",
            "_dom_classes": [],
            "_model_name": "HBoxModel",
            "_view_module": "@jupyter-widgets/controls",
            "_model_module_version": "1.5.0",
            "_view_count": null,
            "_view_module_version": "1.5.0",
            "box_style": "",
            "layout": "IPY_MODEL_822b2aac13b141819f42fc1eacfa9f1f",
            "_model_module": "@jupyter-widgets/controls",
            "children": [
              "IPY_MODEL_ffec7c449e944ef4906cc26bca2ef3e2",
              "IPY_MODEL_cb78285827524f56873899725549eab8"
            ]
          }
        },
        "822b2aac13b141819f42fc1eacfa9f1f": {
          "model_module": "@jupyter-widgets/base",
          "model_name": "LayoutModel",
          "state": {
            "_view_name": "LayoutView",
            "grid_template_rows": null,
            "right": null,
            "justify_content": null,
            "_view_module": "@jupyter-widgets/base",
            "overflow": null,
            "_model_module_version": "1.2.0",
            "_view_count": null,
            "flex_flow": null,
            "width": null,
            "min_width": null,
            "border": null,
            "align_items": null,
            "bottom": null,
            "_model_module": "@jupyter-widgets/base",
            "top": null,
            "grid_column": null,
            "overflow_y": null,
            "overflow_x": null,
            "grid_auto_flow": null,
            "grid_area": null,
            "grid_template_columns": null,
            "flex": null,
            "_model_name": "LayoutModel",
            "justify_items": null,
            "grid_row": null,
            "max_height": null,
            "align_content": null,
            "visibility": null,
            "align_self": null,
            "height": null,
            "min_height": null,
            "padding": null,
            "grid_auto_rows": null,
            "grid_gap": null,
            "max_width": null,
            "order": null,
            "_view_module_version": "1.2.0",
            "grid_template_areas": null,
            "object_position": null,
            "object_fit": null,
            "grid_auto_columns": null,
            "margin": null,
            "display": null,
            "left": null
          }
        },
        "ffec7c449e944ef4906cc26bca2ef3e2": {
          "model_module": "@jupyter-widgets/controls",
          "model_name": "FloatProgressModel",
          "state": {
            "_view_name": "ProgressView",
            "style": "IPY_MODEL_513942467e0942869323532e48feed64",
            "_dom_classes": [],
            "description": "Downloading: 100%",
            "_model_name": "FloatProgressModel",
            "bar_style": "success",
            "max": 558582766,
            "_view_module": "@jupyter-widgets/controls",
            "_model_module_version": "1.5.0",
            "value": 558582766,
            "_view_count": null,
            "_view_module_version": "1.5.0",
            "orientation": "horizontal",
            "min": 0,
            "description_tooltip": null,
            "_model_module": "@jupyter-widgets/controls",
            "layout": "IPY_MODEL_2af77842b528441299dec8d5c3a17be7"
          }
        },
        "cb78285827524f56873899725549eab8": {
          "model_module": "@jupyter-widgets/controls",
          "model_name": "HTMLModel",
          "state": {
            "_view_name": "HTMLView",
            "style": "IPY_MODEL_7fccdf06ba5d454ebed99f6ea4a673f3",
            "_dom_classes": [],
            "description": "",
            "_model_name": "HTMLModel",
            "placeholder": "​",
            "_view_module": "@jupyter-widgets/controls",
            "_model_module_version": "1.5.0",
            "value": " 559M/559M [09:42&lt;00:00, 959kB/s]",
            "_view_count": null,
            "_view_module_version": "1.5.0",
            "description_tooltip": null,
            "_model_module": "@jupyter-widgets/controls",
            "layout": "IPY_MODEL_2257f0d6afa544b483d3ad46a335db3e"
          }
        },
        "513942467e0942869323532e48feed64": {
          "model_module": "@jupyter-widgets/controls",
          "model_name": "ProgressStyleModel",
          "state": {
            "_view_name": "StyleView",
            "_model_name": "ProgressStyleModel",
            "description_width": "initial",
            "_view_module": "@jupyter-widgets/base",
            "_model_module_version": "1.5.0",
            "_view_count": null,
            "_view_module_version": "1.2.0",
            "bar_color": null,
            "_model_module": "@jupyter-widgets/controls"
          }
        },
        "2af77842b528441299dec8d5c3a17be7": {
          "model_module": "@jupyter-widgets/base",
          "model_name": "LayoutModel",
          "state": {
            "_view_name": "LayoutView",
            "grid_template_rows": null,
            "right": null,
            "justify_content": null,
            "_view_module": "@jupyter-widgets/base",
            "overflow": null,
            "_model_module_version": "1.2.0",
            "_view_count": null,
            "flex_flow": null,
            "width": null,
            "min_width": null,
            "border": null,
            "align_items": null,
            "bottom": null,
            "_model_module": "@jupyter-widgets/base",
            "top": null,
            "grid_column": null,
            "overflow_y": null,
            "overflow_x": null,
            "grid_auto_flow": null,
            "grid_area": null,
            "grid_template_columns": null,
            "flex": null,
            "_model_name": "LayoutModel",
            "justify_items": null,
            "grid_row": null,
            "max_height": null,
            "align_content": null,
            "visibility": null,
            "align_self": null,
            "height": null,
            "min_height": null,
            "padding": null,
            "grid_auto_rows": null,
            "grid_gap": null,
            "max_width": null,
            "order": null,
            "_view_module_version": "1.2.0",
            "grid_template_areas": null,
            "object_position": null,
            "object_fit": null,
            "grid_auto_columns": null,
            "margin": null,
            "display": null,
            "left": null
          }
        },
        "7fccdf06ba5d454ebed99f6ea4a673f3": {
          "model_module": "@jupyter-widgets/controls",
          "model_name": "DescriptionStyleModel",
          "state": {
            "_view_name": "StyleView",
            "_model_name": "DescriptionStyleModel",
            "description_width": "",
            "_view_module": "@jupyter-widgets/base",
            "_model_module_version": "1.5.0",
            "_view_count": null,
            "_view_module_version": "1.2.0",
            "_model_module": "@jupyter-widgets/controls"
          }
        },
        "2257f0d6afa544b483d3ad46a335db3e": {
          "model_module": "@jupyter-widgets/base",
          "model_name": "LayoutModel",
          "state": {
            "_view_name": "LayoutView",
            "grid_template_rows": null,
            "right": null,
            "justify_content": null,
            "_view_module": "@jupyter-widgets/base",
            "overflow": null,
            "_model_module_version": "1.2.0",
            "_view_count": null,
            "flex_flow": null,
            "width": null,
            "min_width": null,
            "border": null,
            "align_items": null,
            "bottom": null,
            "_model_module": "@jupyter-widgets/base",
            "top": null,
            "grid_column": null,
            "overflow_y": null,
            "overflow_x": null,
            "grid_auto_flow": null,
            "grid_area": null,
            "grid_template_columns": null,
            "flex": null,
            "_model_name": "LayoutModel",
            "justify_items": null,
            "grid_row": null,
            "max_height": null,
            "align_content": null,
            "visibility": null,
            "align_self": null,
            "height": null,
            "min_height": null,
            "padding": null,
            "grid_auto_rows": null,
            "grid_gap": null,
            "max_width": null,
            "order": null,
            "_view_module_version": "1.2.0",
            "grid_template_areas": null,
            "object_position": null,
            "object_fit": null,
            "grid_auto_columns": null,
            "margin": null,
            "display": null,
            "left": null
          }
        }
      }
    }
  },
  "cells": [
    {
      "cell_type": "markdown",
      "metadata": {
        "id": "view-in-github",
        "colab_type": "text"
      },
      "source": [
        "<a href=\"https://colab.research.google.com/github/arashms/DL-project/blob/main/DataPreparationForTFT.ipynb\" target=\"_parent\"><img src=\"https://colab.research.google.com/assets/colab-badge.svg\" alt=\"Open In Colab\"/></a>"
      ]
    },
    {
      "cell_type": "markdown",
      "metadata": {
        "id": "hbEqmVApz_64"
      },
      "source": [
        "# 1. Install and Import libraries and define parameters"
      ]
    },
    {
      "cell_type": "markdown",
      "metadata": {
        "id": "_nYK2n3Y0Ei9"
      },
      "source": [
        "### Install & Import Libraries"
      ]
    },
    {
      "cell_type": "code",
      "metadata": {
        "colab": {
          "base_uri": "https://localhost:8080/"
        },
        "id": "GwUDsD-40hk0",
        "outputId": "01dd6a44-7fe9-42a6-9dcb-b937c10f22c3"
      },
      "source": [
        "!pip install transformers\n",
        "!pip install pytorch-forecasting\n",
        "!pip install pytorch_lightning"
      ],
      "execution_count": 1,
      "outputs": [
        {
          "output_type": "stream",
          "text": [
            "Collecting transformers\n",
            "\u001b[?25l  Downloading https://files.pythonhosted.org/packages/d8/b2/57495b5309f09fa501866e225c84532d1fd89536ea62406b2181933fb418/transformers-4.5.1-py3-none-any.whl (2.1MB)\n",
            "\u001b[K     |████████████████████████████████| 2.1MB 4.1MB/s \n",
            "\u001b[?25hCollecting tokenizers<0.11,>=0.10.1\n",
            "\u001b[?25l  Downloading https://files.pythonhosted.org/packages/ae/04/5b870f26a858552025a62f1649c20d29d2672c02ff3c3fb4c688ca46467a/tokenizers-0.10.2-cp37-cp37m-manylinux2010_x86_64.whl (3.3MB)\n",
            "\u001b[K     |████████████████████████████████| 3.3MB 30.8MB/s \n",
            "\u001b[?25hRequirement already satisfied: tqdm>=4.27 in /usr/local/lib/python3.7/dist-packages (from transformers) (4.41.1)\n",
            "Requirement already satisfied: numpy>=1.17 in /usr/local/lib/python3.7/dist-packages (from transformers) (1.19.5)\n",
            "Requirement already satisfied: importlib-metadata; python_version < \"3.8\" in /usr/local/lib/python3.7/dist-packages (from transformers) (3.10.0)\n",
            "Requirement already satisfied: requests in /usr/local/lib/python3.7/dist-packages (from transformers) (2.23.0)\n",
            "Requirement already satisfied: regex!=2019.12.17 in /usr/local/lib/python3.7/dist-packages (from transformers) (2019.12.20)\n",
            "Requirement already satisfied: filelock in /usr/local/lib/python3.7/dist-packages (from transformers) (3.0.12)\n",
            "Collecting sacremoses\n",
            "\u001b[?25l  Downloading https://files.pythonhosted.org/packages/08/cd/342e584ee544d044fb573ae697404ce22ede086c9e87ce5960772084cad0/sacremoses-0.0.44.tar.gz (862kB)\n",
            "\u001b[K     |████████████████████████████████| 870kB 38.4MB/s \n",
            "\u001b[?25hRequirement already satisfied: packaging in /usr/local/lib/python3.7/dist-packages (from transformers) (20.9)\n",
            "Requirement already satisfied: typing-extensions>=3.6.4; python_version < \"3.8\" in /usr/local/lib/python3.7/dist-packages (from importlib-metadata; python_version < \"3.8\"->transformers) (3.7.4.3)\n",
            "Requirement already satisfied: zipp>=0.5 in /usr/local/lib/python3.7/dist-packages (from importlib-metadata; python_version < \"3.8\"->transformers) (3.4.1)\n",
            "Requirement already satisfied: certifi>=2017.4.17 in /usr/local/lib/python3.7/dist-packages (from requests->transformers) (2020.12.5)\n",
            "Requirement already satisfied: idna<3,>=2.5 in /usr/local/lib/python3.7/dist-packages (from requests->transformers) (2.10)\n",
            "Requirement already satisfied: urllib3!=1.25.0,!=1.25.1,<1.26,>=1.21.1 in /usr/local/lib/python3.7/dist-packages (from requests->transformers) (1.24.3)\n",
            "Requirement already satisfied: chardet<4,>=3.0.2 in /usr/local/lib/python3.7/dist-packages (from requests->transformers) (3.0.4)\n",
            "Requirement already satisfied: six in /usr/local/lib/python3.7/dist-packages (from sacremoses->transformers) (1.15.0)\n",
            "Requirement already satisfied: click in /usr/local/lib/python3.7/dist-packages (from sacremoses->transformers) (7.1.2)\n",
            "Requirement already satisfied: joblib in /usr/local/lib/python3.7/dist-packages (from sacremoses->transformers) (1.0.1)\n",
            "Requirement already satisfied: pyparsing>=2.0.2 in /usr/local/lib/python3.7/dist-packages (from packaging->transformers) (2.4.7)\n",
            "Building wheels for collected packages: sacremoses\n",
            "  Building wheel for sacremoses (setup.py) ... \u001b[?25l\u001b[?25hdone\n",
            "  Created wheel for sacremoses: filename=sacremoses-0.0.44-cp37-none-any.whl size=886084 sha256=9037b7c417bcdf304235f2f88eed47d850c05645a3b6c3a12f2a4087cc46b967\n",
            "  Stored in directory: /root/.cache/pip/wheels/3e/fb/c0/13ab4d63d537658f448366744654323077c4d90069b6512f3c\n",
            "Successfully built sacremoses\n",
            "Installing collected packages: tokenizers, sacremoses, transformers\n",
            "Successfully installed sacremoses-0.0.44 tokenizers-0.10.2 transformers-4.5.1\n",
            "Collecting pytorch-forecasting\n",
            "\u001b[?25l  Downloading https://files.pythonhosted.org/packages/7f/56/446f7c2d4d68ef08234441bf6b67f4e6b6a19409e763ca07d75ccaf6f5e5/pytorch_forecasting-0.8.4-py3-none-any.whl (105kB)\n",
            "\u001b[K     |████████████████████████████████| 112kB 5.8MB/s \n",
            "\u001b[?25hRequirement already satisfied: statsmodels in /usr/local/lib/python3.7/dist-packages (from pytorch-forecasting) (0.10.2)\n",
            "Requirement already satisfied: matplotlib in /usr/local/lib/python3.7/dist-packages (from pytorch-forecasting) (3.2.2)\n",
            "Requirement already satisfied: scipy in /usr/local/lib/python3.7/dist-packages (from pytorch-forecasting) (1.4.1)\n",
            "Requirement already satisfied: torch<2.0,>=1.7 in /usr/local/lib/python3.7/dist-packages (from pytorch-forecasting) (1.8.1+cu101)\n",
            "Collecting scikit-learn<0.25,>=0.23\n",
            "\u001b[?25l  Downloading https://files.pythonhosted.org/packages/f3/74/eb899f41d55f957e2591cde5528e75871f817d9fb46d4732423ecaca736d/scikit_learn-0.24.1-cp37-cp37m-manylinux2010_x86_64.whl (22.3MB)\n",
            "\u001b[K     |████████████████████████████████| 22.3MB 1.7MB/s \n",
            "\u001b[?25hCollecting pytorch-lightning<2.0.0,>=1.0.4\n",
            "\u001b[?25l  Downloading https://files.pythonhosted.org/packages/e6/13/fb401b8f9d9c5e2aa08769d230bb401bf11dee0bc93e069d7337a4201ec8/pytorch_lightning-1.2.7-py3-none-any.whl (830kB)\n",
            "\u001b[K     |████████████████████████████████| 839kB 39.2MB/s \n",
            "\u001b[?25hCollecting optuna<3.0.0,>=2.3.0\n",
            "\u001b[?25l  Downloading https://files.pythonhosted.org/packages/2b/21/d13081805e1e1afc71f5bb743ece324c8bd576237c51b899ecb38a717502/optuna-2.7.0-py3-none-any.whl (293kB)\n",
            "\u001b[K     |████████████████████████████████| 296kB 33.1MB/s \n",
            "\u001b[?25hRequirement already satisfied: pandas<2.0.0,>=1.1.0 in /usr/local/lib/python3.7/dist-packages (from pytorch-forecasting) (1.1.5)\n",
            "Collecting fsspec<0.9.0,>=0.8.5\n",
            "\u001b[?25l  Downloading https://files.pythonhosted.org/packages/91/0d/a6bfee0ddf47b254286b9bd574e6f50978c69897647ae15b14230711806e/fsspec-0.8.7-py3-none-any.whl (103kB)\n",
            "\u001b[K     |████████████████████████████████| 112kB 42.6MB/s \n",
            "\u001b[?25hRequirement already satisfied: patsy>=0.4.0 in /usr/local/lib/python3.7/dist-packages (from statsmodels->pytorch-forecasting) (0.5.1)\n",
            "Requirement already satisfied: numpy>=1.11 in /usr/local/lib/python3.7/dist-packages (from statsmodels->pytorch-forecasting) (1.19.5)\n",
            "Requirement already satisfied: python-dateutil>=2.1 in /usr/local/lib/python3.7/dist-packages (from matplotlib->pytorch-forecasting) (2.8.1)\n",
            "Requirement already satisfied: kiwisolver>=1.0.1 in /usr/local/lib/python3.7/dist-packages (from matplotlib->pytorch-forecasting) (1.3.1)\n",
            "Requirement already satisfied: pyparsing!=2.0.4,!=2.1.2,!=2.1.6,>=2.0.1 in /usr/local/lib/python3.7/dist-packages (from matplotlib->pytorch-forecasting) (2.4.7)\n",
            "Requirement already satisfied: cycler>=0.10 in /usr/local/lib/python3.7/dist-packages (from matplotlib->pytorch-forecasting) (0.10.0)\n",
            "Requirement already satisfied: typing-extensions in /usr/local/lib/python3.7/dist-packages (from torch<2.0,>=1.7->pytorch-forecasting) (3.7.4.3)\n",
            "Requirement already satisfied: joblib>=0.11 in /usr/local/lib/python3.7/dist-packages (from scikit-learn<0.25,>=0.23->pytorch-forecasting) (1.0.1)\n",
            "Collecting threadpoolctl>=2.0.0\n",
            "  Downloading https://files.pythonhosted.org/packages/f7/12/ec3f2e203afa394a149911729357aa48affc59c20e2c1c8297a60f33f133/threadpoolctl-2.1.0-py3-none-any.whl\n",
            "Collecting PyYAML!=5.4.*,>=5.1\n",
            "\u001b[?25l  Downloading https://files.pythonhosted.org/packages/64/c2/b80047c7ac2478f9501676c988a5411ed5572f35d1beff9cae07d321512c/PyYAML-5.3.1.tar.gz (269kB)\n",
            "\u001b[K     |████████████████████████████████| 276kB 41.0MB/s \n",
            "\u001b[?25hCollecting torchmetrics>=0.2.0\n",
            "\u001b[?25l  Downloading https://files.pythonhosted.org/packages/3a/42/d984612cabf005a265aa99c8d4ab2958e37b753aafb12f31c81df38751c8/torchmetrics-0.2.0-py3-none-any.whl (176kB)\n",
            "\u001b[K     |████████████████████████████████| 184kB 43.3MB/s \n",
            "\u001b[?25hRequirement already satisfied: tensorboard>=2.2.0 in /usr/local/lib/python3.7/dist-packages (from pytorch-lightning<2.0.0,>=1.0.4->pytorch-forecasting) (2.4.1)\n",
            "Collecting future>=0.17.1\n",
            "\u001b[?25l  Downloading https://files.pythonhosted.org/packages/45/0b/38b06fd9b92dc2b68d58b75f900e97884c45bedd2ff83203d933cf5851c9/future-0.18.2.tar.gz (829kB)\n",
            "\u001b[K     |████████████████████████████████| 829kB 39.1MB/s \n",
            "\u001b[?25hRequirement already satisfied: tqdm>=4.41.0 in /usr/local/lib/python3.7/dist-packages (from pytorch-lightning<2.0.0,>=1.0.4->pytorch-forecasting) (4.41.1)\n",
            "Collecting colorlog\n",
            "  Downloading https://files.pythonhosted.org/packages/32/e6/e9ddc6fa1104fda718338b341e4b3dc31cd8039ab29e52fc73b508515361/colorlog-5.0.1-py2.py3-none-any.whl\n",
            "Collecting alembic\n",
            "\u001b[?25l  Downloading https://files.pythonhosted.org/packages/72/a4/97eb6273839655cac14947986fa7a5935350fcfd4fff872e9654264c82d8/alembic-1.5.8-py2.py3-none-any.whl (159kB)\n",
            "\u001b[K     |████████████████████████████████| 163kB 41.8MB/s \n",
            "\u001b[?25hCollecting cliff\n",
            "\u001b[?25l  Downloading https://files.pythonhosted.org/packages/a2/d6/7d9acb68a77acd140be7fececb7f2701b2a29d2da9c54184cb8f93509590/cliff-3.7.0-py3-none-any.whl (80kB)\n",
            "\u001b[K     |████████████████████████████████| 81kB 8.3MB/s \n",
            "\u001b[?25hCollecting cmaes>=0.8.2\n",
            "  Downloading https://files.pythonhosted.org/packages/01/1f/43b01223a0366171f474320c6e966c39a11587287f098a5f09809b45e05f/cmaes-0.8.2-py3-none-any.whl\n",
            "Requirement already satisfied: packaging>=20.0 in /usr/local/lib/python3.7/dist-packages (from optuna<3.0.0,>=2.3.0->pytorch-forecasting) (20.9)\n",
            "Requirement already satisfied: sqlalchemy>=1.1.0 in /usr/local/lib/python3.7/dist-packages (from optuna<3.0.0,>=2.3.0->pytorch-forecasting) (1.4.6)\n",
            "Requirement already satisfied: pytz>=2017.2 in /usr/local/lib/python3.7/dist-packages (from pandas<2.0.0,>=1.1.0->pytorch-forecasting) (2018.9)\n",
            "Requirement already satisfied: importlib-metadata; python_version < \"3.8\" in /usr/local/lib/python3.7/dist-packages (from fsspec<0.9.0,>=0.8.5->pytorch-forecasting) (3.10.0)\n",
            "Requirement already satisfied: six in /usr/local/lib/python3.7/dist-packages (from patsy>=0.4.0->statsmodels->pytorch-forecasting) (1.15.0)\n",
            "Requirement already satisfied: wheel>=0.26; python_version >= \"3\" in /usr/local/lib/python3.7/dist-packages (from tensorboard>=2.2.0->pytorch-lightning<2.0.0,>=1.0.4->pytorch-forecasting) (0.36.2)\n",
            "Requirement already satisfied: markdown>=2.6.8 in /usr/local/lib/python3.7/dist-packages (from tensorboard>=2.2.0->pytorch-lightning<2.0.0,>=1.0.4->pytorch-forecasting) (3.3.4)\n",
            "Requirement already satisfied: google-auth<2,>=1.6.3 in /usr/local/lib/python3.7/dist-packages (from tensorboard>=2.2.0->pytorch-lightning<2.0.0,>=1.0.4->pytorch-forecasting) (1.28.1)\n",
            "Requirement already satisfied: requests<3,>=2.21.0 in /usr/local/lib/python3.7/dist-packages (from tensorboard>=2.2.0->pytorch-lightning<2.0.0,>=1.0.4->pytorch-forecasting) (2.23.0)\n",
            "Requirement already satisfied: setuptools>=41.0.0 in /usr/local/lib/python3.7/dist-packages (from tensorboard>=2.2.0->pytorch-lightning<2.0.0,>=1.0.4->pytorch-forecasting) (54.2.0)\n",
            "Requirement already satisfied: werkzeug>=0.11.15 in /usr/local/lib/python3.7/dist-packages (from tensorboard>=2.2.0->pytorch-lightning<2.0.0,>=1.0.4->pytorch-forecasting) (1.0.1)\n",
            "Requirement already satisfied: tensorboard-plugin-wit>=1.6.0 in /usr/local/lib/python3.7/dist-packages (from tensorboard>=2.2.0->pytorch-lightning<2.0.0,>=1.0.4->pytorch-forecasting) (1.8.0)\n",
            "Requirement already satisfied: google-auth-oauthlib<0.5,>=0.4.1 in /usr/local/lib/python3.7/dist-packages (from tensorboard>=2.2.0->pytorch-lightning<2.0.0,>=1.0.4->pytorch-forecasting) (0.4.4)\n",
            "Requirement already satisfied: protobuf>=3.6.0 in /usr/local/lib/python3.7/dist-packages (from tensorboard>=2.2.0->pytorch-lightning<2.0.0,>=1.0.4->pytorch-forecasting) (3.12.4)\n",
            "Requirement already satisfied: grpcio>=1.24.3 in /usr/local/lib/python3.7/dist-packages (from tensorboard>=2.2.0->pytorch-lightning<2.0.0,>=1.0.4->pytorch-forecasting) (1.32.0)\n",
            "Requirement already satisfied: absl-py>=0.4 in /usr/local/lib/python3.7/dist-packages (from tensorboard>=2.2.0->pytorch-lightning<2.0.0,>=1.0.4->pytorch-forecasting) (0.12.0)\n",
            "Collecting Mako\n",
            "\u001b[?25l  Downloading https://files.pythonhosted.org/packages/f3/54/dbc07fbb20865d3b78fdb7cf7fa713e2cba4f87f71100074ef2dc9f9d1f7/Mako-1.1.4-py2.py3-none-any.whl (75kB)\n",
            "\u001b[K     |████████████████████████████████| 81kB 9.2MB/s \n",
            "\u001b[?25hCollecting python-editor>=0.3\n",
            "  Downloading https://files.pythonhosted.org/packages/c6/d3/201fc3abe391bbae6606e6f1d598c15d367033332bd54352b12f35513717/python_editor-1.0.4-py3-none-any.whl\n",
            "Collecting pbr!=2.1.0,>=2.0.0\n",
            "\u001b[?25l  Downloading https://files.pythonhosted.org/packages/fb/48/69046506f6ac61c1eaa9a0d42d22d54673b69e176d30ca98e3f61513e980/pbr-5.5.1-py2.py3-none-any.whl (106kB)\n",
            "\u001b[K     |████████████████████████████████| 112kB 43.7MB/s \n",
            "\u001b[?25hCollecting cmd2>=1.0.0\n",
            "\u001b[?25l  Downloading https://files.pythonhosted.org/packages/15/8b/15061b32332bb35ea2a2f6263d0f616779d576e82739ec8e7fcf3c94abf5/cmd2-1.5.0-py3-none-any.whl (133kB)\n",
            "\u001b[K     |████████████████████████████████| 143kB 43.7MB/s \n",
            "\u001b[?25hCollecting stevedore>=2.0.1\n",
            "\u001b[?25l  Downloading https://files.pythonhosted.org/packages/d4/49/b602307aeac3df3384ff1fcd05da9c0376c622a6c48bb5325f28ab165b57/stevedore-3.3.0-py3-none-any.whl (49kB)\n",
            "\u001b[K     |████████████████████████████████| 51kB 5.5MB/s \n",
            "\u001b[?25hRequirement already satisfied: PrettyTable>=0.7.2 in /usr/local/lib/python3.7/dist-packages (from cliff->optuna<3.0.0,>=2.3.0->pytorch-forecasting) (2.1.0)\n",
            "Requirement already satisfied: greenlet!=0.4.17; python_version >= \"3\" in /usr/local/lib/python3.7/dist-packages (from sqlalchemy>=1.1.0->optuna<3.0.0,>=2.3.0->pytorch-forecasting) (1.0.0)\n",
            "Requirement already satisfied: zipp>=0.5 in /usr/local/lib/python3.7/dist-packages (from importlib-metadata; python_version < \"3.8\"->fsspec<0.9.0,>=0.8.5->pytorch-forecasting) (3.4.1)\n",
            "Requirement already satisfied: pyasn1-modules>=0.2.1 in /usr/local/lib/python3.7/dist-packages (from google-auth<2,>=1.6.3->tensorboard>=2.2.0->pytorch-lightning<2.0.0,>=1.0.4->pytorch-forecasting) (0.2.8)\n",
            "Requirement already satisfied: cachetools<5.0,>=2.0.0 in /usr/local/lib/python3.7/dist-packages (from google-auth<2,>=1.6.3->tensorboard>=2.2.0->pytorch-lightning<2.0.0,>=1.0.4->pytorch-forecasting) (4.2.1)\n",
            "Requirement already satisfied: rsa<5,>=3.1.4; python_version >= \"3.6\" in /usr/local/lib/python3.7/dist-packages (from google-auth<2,>=1.6.3->tensorboard>=2.2.0->pytorch-lightning<2.0.0,>=1.0.4->pytorch-forecasting) (4.7.2)\n",
            "Requirement already satisfied: urllib3!=1.25.0,!=1.25.1,<1.26,>=1.21.1 in /usr/local/lib/python3.7/dist-packages (from requests<3,>=2.21.0->tensorboard>=2.2.0->pytorch-lightning<2.0.0,>=1.0.4->pytorch-forecasting) (1.24.3)\n",
            "Requirement already satisfied: certifi>=2017.4.17 in /usr/local/lib/python3.7/dist-packages (from requests<3,>=2.21.0->tensorboard>=2.2.0->pytorch-lightning<2.0.0,>=1.0.4->pytorch-forecasting) (2020.12.5)\n",
            "Requirement already satisfied: chardet<4,>=3.0.2 in /usr/local/lib/python3.7/dist-packages (from requests<3,>=2.21.0->tensorboard>=2.2.0->pytorch-lightning<2.0.0,>=1.0.4->pytorch-forecasting) (3.0.4)\n",
            "Requirement already satisfied: idna<3,>=2.5 in /usr/local/lib/python3.7/dist-packages (from requests<3,>=2.21.0->tensorboard>=2.2.0->pytorch-lightning<2.0.0,>=1.0.4->pytorch-forecasting) (2.10)\n",
            "Requirement already satisfied: requests-oauthlib>=0.7.0 in /usr/local/lib/python3.7/dist-packages (from google-auth-oauthlib<0.5,>=0.4.1->tensorboard>=2.2.0->pytorch-lightning<2.0.0,>=1.0.4->pytorch-forecasting) (1.3.0)\n",
            "Requirement already satisfied: MarkupSafe>=0.9.2 in /usr/local/lib/python3.7/dist-packages (from Mako->alembic->optuna<3.0.0,>=2.3.0->pytorch-forecasting) (1.1.1)\n",
            "Requirement already satisfied: attrs>=16.3.0 in /usr/local/lib/python3.7/dist-packages (from cmd2>=1.0.0->cliff->optuna<3.0.0,>=2.3.0->pytorch-forecasting) (20.3.0)\n",
            "Collecting pyperclip>=1.6\n",
            "  Downloading https://files.pythonhosted.org/packages/a7/2c/4c64579f847bd5d539803c8b909e54ba087a79d01bb3aba433a95879a6c5/pyperclip-1.8.2.tar.gz\n",
            "Requirement already satisfied: wcwidth>=0.1.7 in /usr/local/lib/python3.7/dist-packages (from cmd2>=1.0.0->cliff->optuna<3.0.0,>=2.3.0->pytorch-forecasting) (0.2.5)\n",
            "Collecting colorama>=0.3.7\n",
            "  Downloading https://files.pythonhosted.org/packages/44/98/5b86278fbbf250d239ae0ecb724f8572af1c91f4a11edf4d36a206189440/colorama-0.4.4-py2.py3-none-any.whl\n",
            "Requirement already satisfied: pyasn1<0.5.0,>=0.4.6 in /usr/local/lib/python3.7/dist-packages (from pyasn1-modules>=0.2.1->google-auth<2,>=1.6.3->tensorboard>=2.2.0->pytorch-lightning<2.0.0,>=1.0.4->pytorch-forecasting) (0.4.8)\n",
            "Requirement already satisfied: oauthlib>=3.0.0 in /usr/local/lib/python3.7/dist-packages (from requests-oauthlib>=0.7.0->google-auth-oauthlib<0.5,>=0.4.1->tensorboard>=2.2.0->pytorch-lightning<2.0.0,>=1.0.4->pytorch-forecasting) (3.1.0)\n",
            "Building wheels for collected packages: PyYAML, future, pyperclip\n",
            "  Building wheel for PyYAML (setup.py) ... \u001b[?25l\u001b[?25hdone\n",
            "  Created wheel for PyYAML: filename=PyYAML-5.3.1-cp37-cp37m-linux_x86_64.whl size=44620 sha256=848f8db8da3c668380323565fa30fe31f5898848359d4ccbebdec95c98b2b03c\n",
            "  Stored in directory: /root/.cache/pip/wheels/a7/c1/ea/cf5bd31012e735dc1dfea3131a2d5eae7978b251083d6247bd\n",
            "  Building wheel for future (setup.py) ... \u001b[?25l\u001b[?25hdone\n",
            "  Created wheel for future: filename=future-0.18.2-cp37-none-any.whl size=491058 sha256=265d7b4dab07ce5952888046ca980b5990beeb7604ca51761b45d2c2205ff4ad\n",
            "  Stored in directory: /root/.cache/pip/wheels/8b/99/a0/81daf51dcd359a9377b110a8a886b3895921802d2fc1b2397e\n",
            "  Building wheel for pyperclip (setup.py) ... \u001b[?25l\u001b[?25hdone\n",
            "  Created wheel for pyperclip: filename=pyperclip-1.8.2-cp37-none-any.whl size=11107 sha256=a481155f7dae47e51e2a91c2e98737ee0e91783869f2bd3b7366ddce5909aa45\n",
            "  Stored in directory: /root/.cache/pip/wheels/25/af/b8/3407109267803f4015e1ee2ff23be0c8c19ce4008665931ee1\n",
            "Successfully built PyYAML future pyperclip\n",
            "Installing collected packages: threadpoolctl, scikit-learn, fsspec, PyYAML, torchmetrics, future, pytorch-lightning, colorlog, Mako, python-editor, alembic, pbr, pyperclip, colorama, cmd2, stevedore, cliff, cmaes, optuna, pytorch-forecasting\n",
            "  Found existing installation: scikit-learn 0.22.2.post1\n",
            "    Uninstalling scikit-learn-0.22.2.post1:\n",
            "      Successfully uninstalled scikit-learn-0.22.2.post1\n",
            "  Found existing installation: PyYAML 3.13\n",
            "    Uninstalling PyYAML-3.13:\n",
            "      Successfully uninstalled PyYAML-3.13\n",
            "  Found existing installation: future 0.16.0\n",
            "    Uninstalling future-0.16.0:\n",
            "      Successfully uninstalled future-0.16.0\n",
            "Successfully installed Mako-1.1.4 PyYAML-5.3.1 alembic-1.5.8 cliff-3.7.0 cmaes-0.8.2 cmd2-1.5.0 colorama-0.4.4 colorlog-5.0.1 fsspec-0.8.7 future-0.18.2 optuna-2.7.0 pbr-5.5.1 pyperclip-1.8.2 python-editor-1.0.4 pytorch-forecasting-0.8.4 pytorch-lightning-1.2.7 scikit-learn-0.24.1 stevedore-3.3.0 threadpoolctl-2.1.0 torchmetrics-0.2.0\n",
            "Requirement already satisfied: pytorch_lightning in /usr/local/lib/python3.7/dist-packages (1.2.7)\n",
            "Requirement already satisfied: tqdm>=4.41.0 in /usr/local/lib/python3.7/dist-packages (from pytorch_lightning) (4.41.1)\n",
            "Requirement already satisfied: future>=0.17.1 in /usr/local/lib/python3.7/dist-packages (from pytorch_lightning) (0.18.2)\n",
            "Requirement already satisfied: torch>=1.4 in /usr/local/lib/python3.7/dist-packages (from pytorch_lightning) (1.8.1+cu101)\n",
            "Requirement already satisfied: numpy>=1.16.6 in /usr/local/lib/python3.7/dist-packages (from pytorch_lightning) (1.19.5)\n",
            "Requirement already satisfied: torchmetrics>=0.2.0 in /usr/local/lib/python3.7/dist-packages (from pytorch_lightning) (0.2.0)\n",
            "Requirement already satisfied: fsspec[http]>=0.8.1 in /usr/local/lib/python3.7/dist-packages (from pytorch_lightning) (0.8.7)\n",
            "Requirement already satisfied: tensorboard>=2.2.0 in /usr/local/lib/python3.7/dist-packages (from pytorch_lightning) (2.4.1)\n",
            "Requirement already satisfied: PyYAML!=5.4.*,>=5.1 in /usr/local/lib/python3.7/dist-packages (from pytorch_lightning) (5.3.1)\n",
            "Requirement already satisfied: typing-extensions in /usr/local/lib/python3.7/dist-packages (from torch>=1.4->pytorch_lightning) (3.7.4.3)\n",
            "Requirement already satisfied: importlib-metadata; python_version < \"3.8\" in /usr/local/lib/python3.7/dist-packages (from fsspec[http]>=0.8.1->pytorch_lightning) (3.10.0)\n",
            "Requirement already satisfied: requests; extra == \"http\" in /usr/local/lib/python3.7/dist-packages (from fsspec[http]>=0.8.1->pytorch_lightning) (2.23.0)\n",
            "Collecting aiohttp; extra == \"http\"\n",
            "\u001b[?25l  Downloading https://files.pythonhosted.org/packages/88/c0/5890b4c8b04a79b7360e8fe4490feb0bb3ab179743f199f0e6220cebd568/aiohttp-3.7.4.post0-cp37-cp37m-manylinux2014_x86_64.whl (1.3MB)\n",
            "\u001b[K     |████████████████████████████████| 1.3MB 4.3MB/s \n",
            "\u001b[?25hRequirement already satisfied: google-auth-oauthlib<0.5,>=0.4.1 in /usr/local/lib/python3.7/dist-packages (from tensorboard>=2.2.0->pytorch_lightning) (0.4.4)\n",
            "Requirement already satisfied: wheel>=0.26; python_version >= \"3\" in /usr/local/lib/python3.7/dist-packages (from tensorboard>=2.2.0->pytorch_lightning) (0.36.2)\n",
            "Requirement already satisfied: absl-py>=0.4 in /usr/local/lib/python3.7/dist-packages (from tensorboard>=2.2.0->pytorch_lightning) (0.12.0)\n",
            "Requirement already satisfied: setuptools>=41.0.0 in /usr/local/lib/python3.7/dist-packages (from tensorboard>=2.2.0->pytorch_lightning) (54.2.0)\n",
            "Requirement already satisfied: markdown>=2.6.8 in /usr/local/lib/python3.7/dist-packages (from tensorboard>=2.2.0->pytorch_lightning) (3.3.4)\n",
            "Requirement already satisfied: werkzeug>=0.11.15 in /usr/local/lib/python3.7/dist-packages (from tensorboard>=2.2.0->pytorch_lightning) (1.0.1)\n",
            "Requirement already satisfied: grpcio>=1.24.3 in /usr/local/lib/python3.7/dist-packages (from tensorboard>=2.2.0->pytorch_lightning) (1.32.0)\n",
            "Requirement already satisfied: six>=1.10.0 in /usr/local/lib/python3.7/dist-packages (from tensorboard>=2.2.0->pytorch_lightning) (1.15.0)\n",
            "Requirement already satisfied: google-auth<2,>=1.6.3 in /usr/local/lib/python3.7/dist-packages (from tensorboard>=2.2.0->pytorch_lightning) (1.28.1)\n",
            "Requirement already satisfied: tensorboard-plugin-wit>=1.6.0 in /usr/local/lib/python3.7/dist-packages (from tensorboard>=2.2.0->pytorch_lightning) (1.8.0)\n",
            "Requirement already satisfied: protobuf>=3.6.0 in /usr/local/lib/python3.7/dist-packages (from tensorboard>=2.2.0->pytorch_lightning) (3.12.4)\n",
            "Requirement already satisfied: zipp>=0.5 in /usr/local/lib/python3.7/dist-packages (from importlib-metadata; python_version < \"3.8\"->fsspec[http]>=0.8.1->pytorch_lightning) (3.4.1)\n",
            "Requirement already satisfied: certifi>=2017.4.17 in /usr/local/lib/python3.7/dist-packages (from requests; extra == \"http\"->fsspec[http]>=0.8.1->pytorch_lightning) (2020.12.5)\n",
            "Requirement already satisfied: chardet<4,>=3.0.2 in /usr/local/lib/python3.7/dist-packages (from requests; extra == \"http\"->fsspec[http]>=0.8.1->pytorch_lightning) (3.0.4)\n",
            "Requirement already satisfied: idna<3,>=2.5 in /usr/local/lib/python3.7/dist-packages (from requests; extra == \"http\"->fsspec[http]>=0.8.1->pytorch_lightning) (2.10)\n",
            "Requirement already satisfied: urllib3!=1.25.0,!=1.25.1,<1.26,>=1.21.1 in /usr/local/lib/python3.7/dist-packages (from requests; extra == \"http\"->fsspec[http]>=0.8.1->pytorch_lightning) (1.24.3)\n",
            "Collecting yarl<2.0,>=1.0\n",
            "\u001b[?25l  Downloading https://files.pythonhosted.org/packages/f1/62/046834c5fc998c88ab2ef722f5d42122230a632212c8afa76418324f53ff/yarl-1.6.3-cp37-cp37m-manylinux2014_x86_64.whl (294kB)\n",
            "\u001b[K     |████████████████████████████████| 296kB 16.7MB/s \n",
            "\u001b[?25hCollecting async-timeout<4.0,>=3.0\n",
            "  Downloading https://files.pythonhosted.org/packages/e1/1e/5a4441be21b0726c4464f3f23c8b19628372f606755a9d2e46c187e65ec4/async_timeout-3.0.1-py3-none-any.whl\n",
            "Collecting multidict<7.0,>=4.5\n",
            "\u001b[?25l  Downloading https://files.pythonhosted.org/packages/7c/a6/4123b8165acbe773d1a8dc8e3f0d1edea16d29f7de018eda769abb56bd30/multidict-5.1.0-cp37-cp37m-manylinux2014_x86_64.whl (142kB)\n",
            "\u001b[K     |████████████████████████████████| 143kB 16.8MB/s \n",
            "\u001b[?25hRequirement already satisfied: attrs>=17.3.0 in /usr/local/lib/python3.7/dist-packages (from aiohttp; extra == \"http\"->fsspec[http]>=0.8.1->pytorch_lightning) (20.3.0)\n",
            "Requirement already satisfied: requests-oauthlib>=0.7.0 in /usr/local/lib/python3.7/dist-packages (from google-auth-oauthlib<0.5,>=0.4.1->tensorboard>=2.2.0->pytorch_lightning) (1.3.0)\n",
            "Requirement already satisfied: cachetools<5.0,>=2.0.0 in /usr/local/lib/python3.7/dist-packages (from google-auth<2,>=1.6.3->tensorboard>=2.2.0->pytorch_lightning) (4.2.1)\n",
            "Requirement already satisfied: pyasn1-modules>=0.2.1 in /usr/local/lib/python3.7/dist-packages (from google-auth<2,>=1.6.3->tensorboard>=2.2.0->pytorch_lightning) (0.2.8)\n",
            "Requirement already satisfied: rsa<5,>=3.1.4; python_version >= \"3.6\" in /usr/local/lib/python3.7/dist-packages (from google-auth<2,>=1.6.3->tensorboard>=2.2.0->pytorch_lightning) (4.7.2)\n",
            "Requirement already satisfied: oauthlib>=3.0.0 in /usr/local/lib/python3.7/dist-packages (from requests-oauthlib>=0.7.0->google-auth-oauthlib<0.5,>=0.4.1->tensorboard>=2.2.0->pytorch_lightning) (3.1.0)\n",
            "Requirement already satisfied: pyasn1<0.5.0,>=0.4.6 in /usr/local/lib/python3.7/dist-packages (from pyasn1-modules>=0.2.1->google-auth<2,>=1.6.3->tensorboard>=2.2.0->pytorch_lightning) (0.4.8)\n",
            "Installing collected packages: multidict, yarl, async-timeout, aiohttp\n",
            "Successfully installed aiohttp-3.7.4.post0 async-timeout-3.0.1 multidict-5.1.0 yarl-1.6.3\n"
          ],
          "name": "stdout"
        }
      ]
    },
    {
      "cell_type": "code",
      "metadata": {
        "id": "Duysy8f6zlTc"
      },
      "source": [
        "import numpy as np\n",
        "import pandas as pd\n",
        "import torch\n",
        "import torch.nn as nn\n",
        "import torch.nn.functional as F\n",
        "import torch.optim as optim\n",
        "from torch.utils.data import TensorDataset, random_split\n",
        "from torch.utils.data import DataLoader, RandomSampler, SequentialSampler\n",
        "from torch.nn.functional import softmax\n",
        "import matplotlib.pyplot as plt\n",
        "from tqdm import tqdm\n",
        "import os\n",
        "import csv \n",
        "import random\n",
        "from transformers import BertTokenizer, RobertaTokenizer\n",
        "from transformers import BertForNextSentencePrediction, AdamW, BertConfig\n",
        "from transformers import get_linear_schedule_with_warmup\n",
        "from scipy import stats\n",
        "import time\n",
        "import datetime\n",
        "import pickle\n",
        "from sklearn.model_selection import train_test_split\n",
        "from nltk.tokenize import word_tokenize\n",
        "import gc\n",
        "import itertools\n",
        "import nltk\n",
        "import transformers\n",
        "import pytorch_lightning as pl\n",
        "from pytorch_lightning.callbacks import EarlyStopping, LearningRateMonitor\n",
        "from pytorch_forecasting import TimeSeriesDataSet, TemporalFusionTransformer\n",
        "# nltk.download('punkt')"
      ],
      "execution_count": 2,
      "outputs": []
    },
    {
      "cell_type": "markdown",
      "metadata": {
        "id": "xNlHSZJN_-lR"
      },
      "source": [
        "### Setting device, random seed, and runtime parameters"
      ]
    },
    {
      "cell_type": "code",
      "metadata": {
        "colab": {
          "base_uri": "https://localhost:8080/"
        },
        "id": "h-DQtNqcAHPC",
        "outputId": "1670308f-a791-4194-b5d0-8ec6fcc3f9e9"
      },
      "source": [
        "device = torch.device('cuda' if torch.cuda.is_available() else 'cpu')\n",
        "print(\"Cuda available: \",torch.cuda.is_available())\n",
        "if torch.cuda.is_available():\n",
        "    print(\"Current device: \",  torch.cuda.current_device())\n",
        "\n",
        "seed = 204920\n",
        "seed2 = 293652\n",
        "\n",
        "random.seed(seed2)\n",
        "np.random.seed(seed2)\n",
        "torch.manual_seed(seed2)\n",
        "\n",
        "if device.type == 'cuda':\n",
        "    torch.cuda.manual_seed_all(seed)"
      ],
      "execution_count": 3,
      "outputs": [
        {
          "output_type": "stream",
          "text": [
            "Cuda available:  True\n",
            "Current device:  0\n"
          ],
          "name": "stdout"
        }
      ]
    },
    {
      "cell_type": "markdown",
      "metadata": {
        "id": "axiVHVrAQQib"
      },
      "source": [
        "### Setting Parameters"
      ]
    },
    {
      "cell_type": "code",
      "metadata": {
        "colab": {
          "base_uri": "https://localhost:8080/"
        },
        "id": "QxoS5ritQT2h",
        "outputId": "567aa96b-3114-48ff-aba8-dd07a83b7541"
      },
      "source": [
        "COMMENT_DIMENSIONS = 20\n",
        "first_day = datetime.datetime(2020, 1, 1)\n",
        "last_day = datetime.datetime(2021, 2, 27)\n",
        "number_of_days = (last_day - first_day).days + 1\n",
        "print('Number of days: ', number_of_days)"
      ],
      "execution_count": 4,
      "outputs": [
        {
          "output_type": "stream",
          "text": [
            "Number of days:  424\n"
          ],
          "name": "stdout"
        }
      ]
    },
    {
      "cell_type": "markdown",
      "metadata": {
        "id": "sRwiF8MRC7Qm"
      },
      "source": [
        "# 2. Reading and Processing Datasets"
      ]
    },
    {
      "cell_type": "markdown",
      "metadata": {
        "id": "X354BP30GCsp"
      },
      "source": [
        "### Moving datasets to Colab "
      ]
    },
    {
      "cell_type": "code",
      "metadata": {
        "id": "DD87Mk5oF5hG"
      },
      "source": [
        "!cp  /content/drive/MyDrive/DL-project/Combined.xlsx Combined.xlsx\n",
        "!cp  /content/drive/MyDrive/DL-project/acaps_covid19_government_measures_dataset_0.xlsx acaps_covid19_government_measures_dataset_0.xlsx\n",
        "!cp /content/drive/MyDrive/DL-project/time_series_covid_19_confirmed_aggregated.csv time_series_covid_19_confirmed_aggregated.csv\n",
        "!cp /content/drive/MyDrive/DL-project/comment-embeddings.json comment-embeddings.json\n",
        "!cp /content/drive/MyDrive/DL-project/reduced-embeddings.json reduced-embeddings.json"
      ],
      "execution_count": 5,
      "outputs": []
    },
    {
      "cell_type": "markdown",
      "metadata": {
        "id": "bATl96nKFkew"
      },
      "source": [
        "### Reading and processing time-series dataset"
      ]
    },
    {
      "cell_type": "code",
      "metadata": {
        "colab": {
          "base_uri": "https://localhost:8080/"
        },
        "id": "0cHr9oV6GRVq",
        "outputId": "e3be4fda-95b9-4b8c-9729-98c827a492ba"
      },
      "source": [
        "time_series_country_list = []\n",
        "time_series_date_list = [0]\n",
        "time_series_confirmed_cases = {}\n",
        "\n",
        "with open('time_series_covid_19_confirmed_aggregated.csv') as csvfile:    \n",
        "    reader = csv.reader(csvfile, delimiter=',')\n",
        "    cnt = 0\n",
        "    \n",
        "    for row in reader:\n",
        "        if cnt == 0:\n",
        "            for i in range(1, len(row)):\n",
        "                datetimeObject = datetime.datetime.strptime(row[i], '%m/%d/%Y')\n",
        "                time_series_date_list.append((datetimeObject - first_day).days)\n",
        "        else:\n",
        "            country = row[0]\n",
        "            time_series_country_list.append(country)\n",
        "            time_series_confirmed_cases[country] = [0 for i in range(number_of_days)]\n",
        "\n",
        "            previous_accumulative_cases = 0\n",
        "            for i in range(1, len(row)):\n",
        "                time_series_confirmed_cases[country][time_series_date_list[i]] = int(row[i]) - previous_accumulative_cases\n",
        "                previous_accumulative_cases = int(row[i])\n",
        "\n",
        "        cnt += 1\n",
        "\n",
        "\n",
        "print('Countries: ', len(time_series_country_list), time_series_country_list)\n",
        "print('Dates: ', len(time_series_date_list), time_series_date_list)\n",
        "print('\\nConfirmed cases in China: \\n', time_series_confirmed_cases['China'])"
      ],
      "execution_count": 6,
      "outputs": [
        {
          "output_type": "stream",
          "text": [
            "Countries:  201 ['Australia', 'Canada', 'China', 'Denmark', 'France', 'Netherlands', 'United Kingdom', 'Afghanistan', 'Albania', 'Algeria', 'Andorra', 'Angola', 'Antigua and Barbuda', 'Argentina', 'Armenia', 'Austria', 'Azerbaijan', 'Bahamas', 'Bahrain', 'Bangladesh', 'Barbados', 'Belarus', 'Belgium', 'Belize', 'Benin', 'Bhutan', 'Bolivia', 'Bosnia and Herzegovina', 'Botswana', 'Brazil', 'Brunei', 'Bulgaria', 'Burkina Faso', 'Burma', 'Burundi', 'Cabo Verde', 'Cambodia', 'Cameroon', 'Central African Republic', 'Chad', 'Chile', 'Colombia', 'Comoros', 'Congo (Brazzaville)', 'Congo (Kinshasa)', 'Costa Rica', \"Cote d'Ivoire\", 'Croatia', 'Cuba', 'Cyprus', 'Czechia', 'Denmark', 'Diamond Princess', 'Djibouti', 'Dominica', 'Dominican Republic', 'Ecuador', 'Egypt', 'El Salvador', 'Equatorial Guinea', 'Eritrea', 'Estonia', 'Eswatini', 'Ethiopia', 'Fiji', 'Finland', 'France', 'Gabon', 'Gambia', 'Georgia', 'Germany', 'Ghana', 'Greece', 'Grenada', 'Guatemala', 'Guinea', 'Guinea-Bissau', 'Guyana', 'Haiti', 'Holy See', 'Honduras', 'Hungary', 'Iceland', 'India', 'Indonesia', 'Iran', 'Iraq', 'Ireland', 'Israel', 'Italy', 'Jamaica', 'Japan', 'Jordan', 'Kazakhstan', 'Kenya', 'Korea, South', 'Kosovo', 'Kuwait', 'Kyrgyzstan', 'Laos', 'Latvia', 'Lebanon', 'Lesotho', 'Liberia', 'Libya', 'Liechtenstein', 'Lithuania', 'Luxembourg', 'MS Zaandam', 'Madagascar', 'Malawi', 'Malaysia', 'Maldives', 'Mali', 'Malta', 'Marshall Islands', 'Mauritania', 'Mauritius', 'Mexico', 'Micronesia', 'Moldova', 'Monaco', 'Mongolia', 'Montenegro', 'Morocco', 'Mozambique', 'Namibia', 'Nepal', 'Netherlands', 'New Zealand', 'Nicaragua', 'Niger', 'Nigeria', 'North Macedonia', 'Norway', 'Oman', 'Pakistan', 'Panama', 'Papua New Guinea', 'Paraguay', 'Peru', 'Philippines', 'Poland', 'Portugal', 'Qatar', 'Romania', 'Russia', 'Rwanda', 'Saint Kitts and Nevis', 'Saint Lucia', 'Saint Vincent and the Grenadines', 'Samoa', 'San Marino', 'Sao Tome and Principe', 'Saudi Arabia', 'Senegal', 'Serbia', 'Seychelles', 'Sierra Leone', 'Singapore', 'Slovakia', 'Slovenia', 'Solomon Islands', 'Somalia', 'South Africa', 'South Sudan', 'Spain', 'Sri Lanka', 'Sudan', 'Suriname', 'Sweden', 'Switzerland', 'Syria', 'Taiwan*', 'Tajikistan', 'Tanzania', 'Thailand', 'Timor-Leste', 'Togo', 'Trinidad and Tobago', 'Tunisia', 'Turkey', 'US', 'Uganda', 'Ukraine', 'United Arab Emirates', 'United Kingdom', 'Uruguay', 'Uzbekistan', 'Vanuatu', 'Venezuela', 'Vietnam', 'West Bank and Gaza', 'Yemen', 'Zambia', 'Zimbabwe', 'United States', 'Cape Verde', 'Czech Republic', 'Korea, Republic of', 'Myanmar']\n",
            "Dates:  404 [0, 21, 22, 23, 24, 25, 26, 27, 28, 29, 30, 31, 32, 33, 34, 35, 36, 37, 38, 39, 40, 41, 42, 43, 44, 45, 46, 47, 48, 49, 50, 51, 52, 53, 54, 55, 56, 57, 58, 59, 60, 61, 62, 63, 64, 65, 66, 67, 68, 69, 70, 71, 72, 73, 74, 75, 76, 77, 78, 79, 80, 81, 82, 83, 84, 85, 86, 87, 88, 89, 90, 91, 92, 93, 94, 95, 96, 97, 98, 99, 100, 101, 102, 103, 104, 105, 106, 107, 108, 109, 110, 111, 112, 113, 114, 115, 116, 117, 118, 119, 120, 121, 122, 123, 124, 125, 126, 127, 128, 129, 130, 131, 132, 133, 134, 135, 136, 137, 138, 139, 140, 141, 142, 143, 144, 145, 146, 147, 148, 149, 150, 151, 152, 153, 154, 155, 156, 157, 158, 159, 160, 161, 162, 163, 164, 165, 166, 167, 168, 169, 170, 171, 172, 173, 174, 175, 176, 177, 178, 179, 180, 181, 182, 183, 184, 185, 186, 187, 188, 189, 190, 191, 192, 193, 194, 195, 196, 197, 198, 199, 200, 201, 202, 203, 204, 205, 206, 207, 208, 209, 210, 211, 212, 213, 214, 215, 216, 217, 218, 219, 220, 221, 222, 223, 224, 225, 226, 227, 228, 229, 230, 231, 232, 233, 234, 235, 236, 237, 238, 239, 240, 241, 242, 243, 244, 245, 246, 247, 248, 249, 250, 251, 252, 253, 254, 255, 256, 257, 258, 259, 260, 261, 262, 263, 264, 265, 266, 267, 268, 269, 270, 271, 272, 273, 274, 275, 276, 277, 278, 279, 280, 281, 282, 283, 284, 285, 286, 287, 288, 289, 290, 291, 292, 293, 294, 295, 296, 297, 298, 299, 300, 301, 302, 303, 304, 305, 306, 307, 308, 309, 310, 311, 312, 313, 314, 315, 316, 317, 318, 319, 320, 321, 322, 323, 324, 325, 326, 327, 328, 329, 330, 331, 332, 333, 334, 335, 336, 337, 338, 339, 340, 341, 342, 343, 344, 345, 346, 347, 348, 349, 350, 351, 352, 353, 354, 355, 356, 357, 358, 359, 360, 361, 362, 363, 364, 365, 366, 367, 368, 369, 370, 371, 372, 373, 374, 375, 376, 377, 378, 379, 380, 381, 382, 383, 384, 385, 386, 387, 388, 389, 390, 391, 392, 393, 394, 395, 396, 397, 398, 399, 400, 401, 402, 403, 404, 405, 406, 407, 408, 409, 410, 411, 412, 413, 414, 415, 416, 417, 418, 419, 420, 421, 422, 423]\n",
            "\n",
            "Confirmed cases in China: \n",
            " [0, 0, 0, 0, 0, 0, 0, 0, 0, 0, 0, 0, 0, 0, 0, 0, 0, 0, 0, 0, 0, 548, 95, 277, 486, 669, 802, 2632, 578, 2054, 1661, 2089, 4739, 3086, 3991, 3733, 3147, 3523, 2704, 3015, 2525, 2032, 373, 15136, 6463, 2055, 2100, 1921, 1777, 408, 458, 473, 1451, 21, 219, 513, 412, 434, 328, 428, 576, 204, 125, 125, 151, 153, 80, 53, 37, 27, 34, 11, 13, 32, 26, 30, 25, 44, 54, 94, 55, 130, 63, 93, 70, 121, 115, 102, 123, 76, 81, 82, 71, 79, 32, 59, 63, 53, 91, 74, 58, 73, 120, 79, 93, 50, 47, 357, 27, 18, 12, 36, 15, 16, 15, 10, 3, 6, 22, 4, 12, 3, 0, 5, 2, 2, 2, 5, 1, 14, 20, 1, 7, 6, 5, 9, 6, 10, 9, 0, 0, 0, 18, 3, 11, 7, 1, 3, 0, 17, 5, 18, 8, 7, -1, 11, 6, 9, 5, 4, 3, 11, 7, 12, 58, 49, 43, 44, 36, 36, 0, 59, 19, 52, 29, 20, 28, 24, 18, 14, 23, 5, 31, 14, 8, 19, 14, 18, 28, 33, 42, 0, 79, 46, 0, 109, 20, 81, 75, 16, 85, 119, 86, 198, 139, 157, 179, 189, 213, 207, 223, 276, 166, 172, 158, 114, 107, 122, 132, 120, 92, 121, 113, 52, 87, 99, 70, 65, 96, 66, 53, 33, 40, 49, 38, 41, 23, 34, 32, 30, 22, 27, 32, 19, 19, 20, 33, 22, 17, 33, 20, 9, 13, 27, 18, 23, 29, 22, 16, 18, 41, 17, 23, 35, 12, 18, 10, 15, 17, 15, 27, 22, 23, 17, 22, 17, 20, 25, 23, 15, 20, 41, 23, 27, 34, 18, 28, 11, 36, 20, 30, 17, 34, 16, 22, 29, 35, 20, 23, 24, 47, 49, 28, 40, 27, 31, 55, 26, 31, 43, 39, 31, 43, 28, 26, 33, 31, 24, 21, 22, 22, 13, 21, 29, 42, 60, 79, 95, 85, 106, 86, 98, 95, 133, 88, 91, 120, 108, 127, 119, 110, 93, 112, 116, 127, 99, 93, 111, 99, 110, 89, 108, 87, 132, 97, 100, 78, 70, 85, 77, 81, 91, 88, 77, 79, 87, 60, 63, 74, 86, 64, 88, 86, 78, 128, 134, 96, 175, 180, 173, 168, 159, 164, 225, 159, 221, 242, 100, 161, 200, 155, 139, 114, 91, 102, 120, 95, 64, 50, 49, 42, 50, 30, 41, 46, 40, 19, 33, 32, 19, 21, 25, 15, 27, 18, 21, 22, 31, 26, 23, 25, 19, 34, 39]\n"
          ],
          "name": "stdout"
        }
      ]
    },
    {
      "cell_type": "markdown",
      "metadata": {
        "id": "cfUOMPJZLm9P"
      },
      "source": [
        "### Reading regulation dataset"
      ]
    },
    {
      "cell_type": "code",
      "metadata": {
        "colab": {
          "base_uri": "https://localhost:8080/"
        },
        "id": "IPaNoawre29O",
        "outputId": "7948d1ba-a6a8-4a44-ebe9-3b845b6b6d2f"
      },
      "source": [
        "from sklearn.preprocessing import LabelEncoder as le\n",
        "\n",
        "xl_file = pd.ExcelFile('acaps_covid19_government_measures_dataset_0.xlsx')\n",
        "\n",
        "sheets = {sheet_name: xl_file.parse(sheet_name) \n",
        "          for sheet_name in xl_file.sheet_names}\n",
        "\n",
        "dataframe = sheets['Dataset']\n",
        "\n",
        "print('Sheets in the dataset:   ', sheets.keys())\n",
        "print('Number of regulations in the dataset: ', len(dataframe), '\\n')\n",
        "\n",
        "# print(dataframe.head())\n",
        "print('\\n', dataframe.info(), '\\n')\n",
        "\n",
        "dataset = {}\n",
        "for key in dataframe:\n",
        "    # dataframe[key] = le.fit_transform(dataframe[key].astype(str))\n",
        "    dataframe[key]=dataframe[key].astype('str')\n",
        "    dataset[key] = list(dataframe[key])\n"
      ],
      "execution_count": 7,
      "outputs": [
        {
          "output_type": "stream",
          "text": [
            "Sheets in the dataset:    dict_keys(['About', 'Dataset', 'Dictionary'])\n",
            "Number of regulations in the dataset:  23923 \n",
            "\n",
            "<class 'pandas.core.frame.DataFrame'>\n",
            "RangeIndex: 23923 entries, 0 to 23922\n",
            "Data columns (total 18 columns):\n",
            " #   Column              Non-Null Count  Dtype         \n",
            "---  ------              --------------  -----         \n",
            " 0   ID                  23923 non-null  int64         \n",
            " 1   ISO                 23923 non-null  object        \n",
            " 2   COUNTRY             23923 non-null  object        \n",
            " 3   REGION              23923 non-null  object        \n",
            " 4   ADMIN_LEVEL_NAME    3682 non-null   object        \n",
            " 5   PCODE               0 non-null      float64       \n",
            " 6   LOG_TYPE            23923 non-null  object        \n",
            " 7   CATEGORY            23923 non-null  object        \n",
            " 8   MEASURE             23923 non-null  object        \n",
            " 9   TARGETED_POP_GROUP  7556 non-null   object        \n",
            " 10  COMMENTS            23799 non-null  object        \n",
            " 11  NON_COMPLIANCE      22764 non-null  object        \n",
            " 12  DATE_IMPLEMENTED    23630 non-null  datetime64[ns]\n",
            " 13  SOURCE              23900 non-null  object        \n",
            " 14  SOURCE_TYPE         23912 non-null  object        \n",
            " 15  LINK                23890 non-null  object        \n",
            " 16  ENTRY_DATE          23923 non-null  datetime64[ns]\n",
            " 17  Alternative source  1779 non-null   object        \n",
            "dtypes: datetime64[ns](2), float64(1), int64(1), object(14)\n",
            "memory usage: 3.3+ MB\n",
            "\n",
            " None \n",
            "\n"
          ],
          "name": "stdout"
        }
      ]
    },
    {
      "cell_type": "markdown",
      "metadata": {
        "id": "i1UWFoB5KhoL"
      },
      "source": [
        "### Processing regulation dataset"
      ]
    },
    {
      "cell_type": "code",
      "metadata": {
        "colab": {
          "base_uri": "https://localhost:8080/"
        },
        "id": "03Dv_MsFLzc6",
        "outputId": "583436b4-ff20-4d75-b547-010e53c9b7de"
      },
      "source": [
        "country_list = set([])\n",
        "\n",
        "for i in range(len(dataset['ID'])):\n",
        "    country = dataset['COUNTRY'][i]    \n",
        "    country_list.add(country)\n",
        "    \n",
        "country_list = list(country_list)\n",
        "country_list.sort()\n",
        "time_series_country_list.sort()\n",
        "\n",
        "print('Countries in regulation dataset: ', len(country_list), country_list)\n",
        "print('Countries in time-series dataset: ', len(time_series_country_list), time_series_country_list)\n",
        "\n",
        "common_countries = []\n",
        "for country in country_list:\n",
        "    if country in time_series_country_list:\n",
        "        common_countries.append(country)\n",
        "\n",
        "print('Number of countries in intersection of both datasets: ', len(common_countries), common_countries)\n",
        "\n",
        "regulations = {}\n",
        "\n",
        "for country in common_countries:\n",
        "    regulations[country] = {'positive':[[] for i in range(number_of_days)], 'negative':[[] for i in range(number_of_days)]}\n",
        "\n",
        "for i in range(len(dataset['ID'])):\n",
        "    \n",
        "    # Ignore the regulations with unknown implementation time\n",
        "    if dataset['DATE_IMPLEMENTED'][i] == 'NaT':\n",
        "        continue\n",
        "    \n",
        "    # Ignore the regulations that we don't have time-series of their countries\n",
        "    if dataset['COUNTRY'][i] not in common_countries:\n",
        "        continue\n",
        "    \n",
        "    # fill the empty comment field with ----\n",
        "    if dataset['COMMENTS'][i] == 'nan':\n",
        "        dataset['COMMENTS'][i] = '----'\n",
        "\n",
        "\n",
        "    country = dataset['COUNTRY'][i]\n",
        "    datetimeObject = datetime.datetime.strptime(dataset['DATE_IMPLEMENTED'][i], '%Y-%m-%d')\n",
        "    date = (datetimeObject - first_day).days\n",
        "\n",
        "    if dataset['LOG_TYPE'][i] == 'Introduction / extension of measures':\n",
        "        regulations[country]['positive'][date].append(i)\n",
        "    else: # Phase-out measure \n",
        "        regulations[country]['negative'][date].append(i)\n",
        "    \n",
        "print('\\nA sample of positive and negative regulation ids in Ghana: ')\n",
        "print(regulations['Ghana'])\n"
      ],
      "execution_count": 8,
      "outputs": [
        {
          "output_type": "stream",
          "text": [
            "Countries in regulation dataset:  193 ['Afghanistan', 'Albania', 'Algeria', 'Angola', 'Antigua and Barbuda', 'Argentina', 'Armenia', 'Australia', 'Austria', 'Azerbaijan', 'Bahamas', 'Bahrain', 'Bangladesh', 'Barbados', 'Belarus', 'Belgium', 'Belize', 'Benin', 'Bhutan', 'Bolivia', 'Bosnia and Herzegovina', 'Botswana', 'Brazil', 'Brunei', 'Bulgaria', 'Burkina Faso', 'Burundi', 'CAR', 'Cambodia', 'Cameroon', 'Canada', 'Cape Verde', 'Chad', 'Chile', 'China', 'Colombia', 'Comoros', 'Congo', 'Costa Rica', 'Croatia', 'Cuba', 'Cyprus', 'Czech Republic', \"CÃ´te d'Ivoire\", 'DPRK', 'DRC', 'Denmark', 'Djibouti', 'Dominica', 'Dominican Republic', 'Ecuador', 'Egypt', 'El Salvador', 'Equatorial Guinea', 'Eritrea', 'Estonia', 'Eswatini', 'Ethiopia', 'Fiji', 'Finland', 'France', 'Gabon', 'Gambia', 'Georgia', 'Germany', 'Ghana', 'Greece', 'Grenada', 'Guatemala', 'Guinea', 'Guinea-Bissau', 'Guyana', 'Haiti', 'Honduras', 'Hong Kong', 'Hungary', 'Iceland', 'India', 'Indonesia', 'Iran', 'Iraq', 'Ireland', 'Israel', 'Italy', 'Jamaica', 'Japan', 'Jordan', 'Kazakhstan', 'Kenya', 'Kiribati', 'Korea, Republic of', 'Kuwait', 'Kyrgyzstan', 'Laos', 'Latvia', 'Lebanon', 'Lesotho', 'Liberia', 'Libya', 'Liechtenstein', 'Lithuania', 'Luxembourg', 'Macedonia', 'Madagascar', 'Malawi', 'Malaysia', 'Maldives', 'Mali', 'Malta', 'Marshall Islands', 'Mauritania', 'Mauritius', 'Mexico', 'Micronesia', 'Moldova', 'Mongolia', 'Montenegro', 'Morocco', 'Mozambique', 'Myanmar', 'Namibia', 'Nauru', 'Nepal', 'Netherlands', 'New Zealand', 'Nicaragua', 'Niger', 'Nigeria', 'Norway', 'Oman', 'Pakistan', 'Palau', 'Palestine', 'Panama', 'Papua New Guinea', 'Paraguay', 'Peru', 'Philippines', 'Poland', 'Portugal', 'Qatar', 'Romania', 'Russia', 'Rwanda', 'Samoa', 'San Marino', 'Sao Tome and Principe', 'Saudi Arabia', 'Senegal', 'Serbia', 'Seychelles', 'Sierra Leone', 'Singapore', 'Slovakia', 'Slovenia', 'Solomon Islands', 'Somalia', 'South Africa', 'South Sudan', 'Spain', 'Sri Lanka', 'St. Kitts and Nevis', 'St. Lucia', 'St. Vincent and the Grenadines', 'Sudan', 'Suriname', 'Sweden', 'Switzerland', 'Syria', 'Tajikistan', 'Tanzania', 'Thailand', 'Timor Leste', 'Togo', 'Tonga', 'Trinidad and Tobago', 'Tunisia', 'Turkey', 'Turkmenistan', 'Tuvalu', 'Uganda', 'Ukraine', 'United Arab Emirates', 'United Kingdom', 'United States', 'Uruguay', 'Uzbekistan', 'Vanuatu', 'Venezuela', 'Vietnam', 'Yemen', 'Zambia', 'Zimbabwe']\n",
            "Countries in time-series dataset:  201 ['Afghanistan', 'Albania', 'Algeria', 'Andorra', 'Angola', 'Antigua and Barbuda', 'Argentina', 'Armenia', 'Australia', 'Austria', 'Azerbaijan', 'Bahamas', 'Bahrain', 'Bangladesh', 'Barbados', 'Belarus', 'Belgium', 'Belize', 'Benin', 'Bhutan', 'Bolivia', 'Bosnia and Herzegovina', 'Botswana', 'Brazil', 'Brunei', 'Bulgaria', 'Burkina Faso', 'Burma', 'Burundi', 'Cabo Verde', 'Cambodia', 'Cameroon', 'Canada', 'Cape Verde', 'Central African Republic', 'Chad', 'Chile', 'China', 'Colombia', 'Comoros', 'Congo (Brazzaville)', 'Congo (Kinshasa)', 'Costa Rica', \"Cote d'Ivoire\", 'Croatia', 'Cuba', 'Cyprus', 'Czech Republic', 'Czechia', 'Denmark', 'Denmark', 'Diamond Princess', 'Djibouti', 'Dominica', 'Dominican Republic', 'Ecuador', 'Egypt', 'El Salvador', 'Equatorial Guinea', 'Eritrea', 'Estonia', 'Eswatini', 'Ethiopia', 'Fiji', 'Finland', 'France', 'France', 'Gabon', 'Gambia', 'Georgia', 'Germany', 'Ghana', 'Greece', 'Grenada', 'Guatemala', 'Guinea', 'Guinea-Bissau', 'Guyana', 'Haiti', 'Holy See', 'Honduras', 'Hungary', 'Iceland', 'India', 'Indonesia', 'Iran', 'Iraq', 'Ireland', 'Israel', 'Italy', 'Jamaica', 'Japan', 'Jordan', 'Kazakhstan', 'Kenya', 'Korea, Republic of', 'Korea, South', 'Kosovo', 'Kuwait', 'Kyrgyzstan', 'Laos', 'Latvia', 'Lebanon', 'Lesotho', 'Liberia', 'Libya', 'Liechtenstein', 'Lithuania', 'Luxembourg', 'MS Zaandam', 'Madagascar', 'Malawi', 'Malaysia', 'Maldives', 'Mali', 'Malta', 'Marshall Islands', 'Mauritania', 'Mauritius', 'Mexico', 'Micronesia', 'Moldova', 'Monaco', 'Mongolia', 'Montenegro', 'Morocco', 'Mozambique', 'Myanmar', 'Namibia', 'Nepal', 'Netherlands', 'Netherlands', 'New Zealand', 'Nicaragua', 'Niger', 'Nigeria', 'North Macedonia', 'Norway', 'Oman', 'Pakistan', 'Panama', 'Papua New Guinea', 'Paraguay', 'Peru', 'Philippines', 'Poland', 'Portugal', 'Qatar', 'Romania', 'Russia', 'Rwanda', 'Saint Kitts and Nevis', 'Saint Lucia', 'Saint Vincent and the Grenadines', 'Samoa', 'San Marino', 'Sao Tome and Principe', 'Saudi Arabia', 'Senegal', 'Serbia', 'Seychelles', 'Sierra Leone', 'Singapore', 'Slovakia', 'Slovenia', 'Solomon Islands', 'Somalia', 'South Africa', 'South Sudan', 'Spain', 'Sri Lanka', 'Sudan', 'Suriname', 'Sweden', 'Switzerland', 'Syria', 'Taiwan*', 'Tajikistan', 'Tanzania', 'Thailand', 'Timor-Leste', 'Togo', 'Trinidad and Tobago', 'Tunisia', 'Turkey', 'US', 'Uganda', 'Ukraine', 'United Arab Emirates', 'United Kingdom', 'United Kingdom', 'United States', 'Uruguay', 'Uzbekistan', 'Vanuatu', 'Venezuela', 'Vietnam', 'West Bank and Gaza', 'Yemen', 'Zambia', 'Zimbabwe']\n",
            "Number of countries in intersection of both datasets:  175 ['Afghanistan', 'Albania', 'Algeria', 'Angola', 'Antigua and Barbuda', 'Argentina', 'Armenia', 'Australia', 'Austria', 'Azerbaijan', 'Bahamas', 'Bahrain', 'Bangladesh', 'Barbados', 'Belarus', 'Belgium', 'Belize', 'Benin', 'Bhutan', 'Bolivia', 'Bosnia and Herzegovina', 'Botswana', 'Brazil', 'Brunei', 'Bulgaria', 'Burkina Faso', 'Burundi', 'Cambodia', 'Cameroon', 'Canada', 'Cape Verde', 'Chad', 'Chile', 'China', 'Colombia', 'Comoros', 'Costa Rica', 'Croatia', 'Cuba', 'Cyprus', 'Czech Republic', 'Denmark', 'Djibouti', 'Dominica', 'Dominican Republic', 'Ecuador', 'Egypt', 'El Salvador', 'Equatorial Guinea', 'Eritrea', 'Estonia', 'Eswatini', 'Ethiopia', 'Fiji', 'Finland', 'France', 'Gabon', 'Gambia', 'Georgia', 'Germany', 'Ghana', 'Greece', 'Grenada', 'Guatemala', 'Guinea', 'Guinea-Bissau', 'Guyana', 'Haiti', 'Honduras', 'Hungary', 'Iceland', 'India', 'Indonesia', 'Iran', 'Iraq', 'Ireland', 'Israel', 'Italy', 'Jamaica', 'Japan', 'Jordan', 'Kazakhstan', 'Kenya', 'Korea, Republic of', 'Kuwait', 'Kyrgyzstan', 'Laos', 'Latvia', 'Lebanon', 'Lesotho', 'Liberia', 'Libya', 'Liechtenstein', 'Lithuania', 'Luxembourg', 'Madagascar', 'Malawi', 'Malaysia', 'Maldives', 'Mali', 'Malta', 'Marshall Islands', 'Mauritania', 'Mauritius', 'Mexico', 'Micronesia', 'Moldova', 'Mongolia', 'Montenegro', 'Morocco', 'Mozambique', 'Myanmar', 'Namibia', 'Nepal', 'Netherlands', 'New Zealand', 'Nicaragua', 'Niger', 'Nigeria', 'Norway', 'Oman', 'Pakistan', 'Panama', 'Papua New Guinea', 'Paraguay', 'Peru', 'Philippines', 'Poland', 'Portugal', 'Qatar', 'Romania', 'Russia', 'Rwanda', 'Samoa', 'San Marino', 'Sao Tome and Principe', 'Saudi Arabia', 'Senegal', 'Serbia', 'Seychelles', 'Sierra Leone', 'Singapore', 'Slovakia', 'Slovenia', 'Solomon Islands', 'Somalia', 'South Africa', 'South Sudan', 'Spain', 'Sri Lanka', 'Sudan', 'Suriname', 'Sweden', 'Switzerland', 'Syria', 'Tajikistan', 'Tanzania', 'Thailand', 'Togo', 'Trinidad and Tobago', 'Tunisia', 'Turkey', 'Uganda', 'Ukraine', 'United Arab Emirates', 'United Kingdom', 'United States', 'Uruguay', 'Uzbekistan', 'Vanuatu', 'Venezuela', 'Vietnam', 'Yemen', 'Zambia', 'Zimbabwe']\n",
            "\n",
            "A sample of positive and negative regulation ids in Ghana: \n",
            "{'positive': [[], [], [], [], [], [], [], [], [], [], [], [], [], [], [], [], [], [], [], [], [], [], [], [], [], [], [], [], [], [], [], [], [], [], [], [], [], [], [], [], [], [], [], [], [], [], [], [], [], [], [], [], [], [], [], [], [], [], [], [], [], [], [], [], [], [8615], [], [], [], [8616], [8617], [], [], [], [8618, 8619, 8620, 8621], [8622], [8623, 8624], [], [], [], [8625, 8626], [], [8627], [], [], [], [], [8628, 8629, 8630], [], [8631, 8632], [], [8633], [], [], [], [8634, 8635, 8636, 8637, 8638, 8639], [], [8640, 8641], [], [], [8642, 8643], [], [], [8644, 8645, 8646], [], [], [], [8647, 8648], [], [8649, 8650, 8651], [8654], [], [], [], [], [], [], [8655, 8656], [], [], [], [], [], [], [], [8657], [], [], [8658], [], [8659], [], [], [], [], [], [], [], [], [8660, 8661], [], [], [], [], [], [], [], [], [], [], [], [], [8662], [8663, 8664, 8665], [], [8666], [], [], [], [], [], [], [], [], [], [8670], [], [], [], [], [], [], [], [], [], [], [8673], [], [], [8674], [], [], [], [], [], [], [], [], [], [], [], [], [], [], [], [], [], [], [], [], [], [], [], [], [], [], [], [8676], [], [], [], [], [], [], [], [], [], [], [], [], [], [], [], [], [], [], [], [], [], [], [], [], [], [], [], [], [], [], [], [], [], [], [8682], [], [8684, 8685], [], [8686], [], [], [], [], [], [], [], [], [], [], [8687], [], [], [], [], [], [], [], [], [], [], [], [], [], [], [], [], [], [], [], [], [], [], [], [], [], [], [], [], [], [], [], [], [], [], [], [], [], [], [], [], [], [], [], [], [], [], [], [], [], [], [], [], [], [], [8692, 8693], [], [], [], [], [], [], [], [8694, 8695, 8696], [], [], [], [], [], [], [], [], [], [], [], [], [], [], [], [], [], [], [], [], [], [], [], [], [], [], [], [], [], [], [], [], [], [], [], [], [], [], [], [], [], [], [], [], [], [], [], [], [], [], [], [], [], [], [], [], [], [], [], [], [], [], [], [], [], [], [], [], [], [], [], [], [], [], [], [], [], [], [], [], [], [], [], [], [], [], [], [], [], [], [], [], [], [], [], [], [], [], [], [], [], [], []], 'negative': [[], [], [], [], [], [], [], [], [], [], [], [], [], [], [], [], [], [], [], [], [], [], [], [], [], [], [], [], [], [], [], [], [], [], [], [], [], [], [], [], [], [], [], [], [], [], [], [], [], [], [], [], [], [], [], [], [], [], [], [], [], [], [], [], [], [], [], [], [], [], [], [], [], [], [], [], [], [], [], [], [], [], [], [], [], [], [], [], [], [], [], [], [], [], [], [], [], [], [], [], [], [], [], [], [], [], [], [], [], [], [8652, 8653], [], [], [], [], [], [], [], [], [], [], [], [], [], [], [], [], [], [], [], [], [], [], [], [], [], [], [], [], [], [], [], [], [], [], [], [], [], [], [], [], [], [], [], [], [], [8667, 8668, 8669], [], [], [], [], [], [], [], [], [], [8671], [], [], [], [], [], [], [8672], [], [], [], [], [], [], [8675], [], [], [], [], [], [], [], [], [], [], [], [], [], [], [], [], [], [], [], [], [], [], [], [], [], [], [8677, 8678], [], [], [], [], [], [8679], [], [], [], [], [], [], [], [], [], [], [], [], [], [], [8680], [], [], [], [], [], [], [], [], [], [], [], [], [], [8681], [], [8683], [], [], [], [], [], [], [], [], [], [], [], [], [], [], [], [], [], [], [8688, 8689], [], [], [], [], [], [], [], [], [], [], [], [], [], [], [], [], [], [], [], [], [], [], [], [], [], [], [], [8690], [], [], [], [], [], [], [], [], [], [8691], [], [], [], [], [], [], [], [], [], [], [], [], [], [], [], [], [], [], [], [], [], [], [], [], [], [], [], [], [], [], [], [], [], [], [], [], [], [], [], [], [], [], [], [], [], [], [], [], [], [], [], [], [], [], [], [], [], [], [], [], [], [], [], [], [], [], [], [], [], [], [], [], [], [], [], [], [], [], [], [], [], [], [], [], [], [], [], [], [], [], [], [], [], [], [], [], [], [], [], [], [], [], [], [], [], [], [], [], [], [], [], [], [], [], [], [], [], [], [], [], [], []]}\n"
          ],
          "name": "stdout"
        }
      ]
    },
    {
      "cell_type": "markdown",
      "metadata": {
        "id": "7jYxQVAdZQ6V"
      },
      "source": [
        "### Creating Measure and Category dictionaries"
      ]
    },
    {
      "cell_type": "code",
      "metadata": {
        "colab": {
          "base_uri": "https://localhost:8080/"
        },
        "id": "uxF6NP7TZWE9",
        "outputId": "f26acddb-84c1-4f2a-a742-c54a47d96877"
      },
      "source": [
        "measure_dic = {}\n",
        "category_dic = {}\n",
        "\n",
        "for i in range(len(dataset['ID'])):\n",
        "    category = dataset['CATEGORY'][i]\n",
        "    measure = dataset['MEASURE'][i]\n",
        "\n",
        "    if category not in category_dic:\n",
        "        category_dic[category] = 0\n",
        "\n",
        "    if measure not in measure_dic:\n",
        "        measure_dic[measure] = 0\n",
        "    \n",
        "print(len(category_dic.keys()), category_dic)\n",
        "print(len(measure_dic.keys()), measure_dic)"
      ],
      "execution_count": 9,
      "outputs": [
        {
          "output_type": "stream",
          "text": [
            "6 {'Public health measures': 0, 'Movement restrictions': 0, 'Governance and socio-economic measures': 0, 'Social distancing': 0, 'Lockdown': 0, 'Humanitarian exemption': 0}\n",
            "35 {'Awareness campaigns': 0, 'Health screenings in airports and border crossings': 0, 'International flights suspension': 0, 'Border checks': 0, 'Strengthening the public health system': 0, 'Isolation and quarantine policies': 0, 'Emergency administrative structures activated or established': 0, 'Surveillance and monitoring': 0, 'Other public health measures enforced': 0, 'Border closure': 0, 'General recommendations': 0, 'State of emergency declared': 0, 'Domestic travel restrictions': 0, 'Limit public gatherings': 0, 'Limit product imports/exports': 0, 'Schools closure': 0, 'Partial lockdown': 0, 'Changes in prison-related policies': 0, 'Closure of businesses and public services': 0, 'Checkpoints within the country': 0, 'Economic measures': 0, 'Military deployment': 0, 'Curfews': 0, 'Visa restrictions': 0, 'Requirement to wear protective gear in public': 0, 'Testing policy': 0, 'Amendments to funeral and burial regulations': 0, 'Full lockdown': 0, 'Lockdown of refugee/idp camps or other minorities': 0, 'Additional health/documents requirements upon arrival': 0, 'Mass population testing': 0, 'Humanitarian exemptions': 0, 'Psychological assistance and medical social work': 0, 'Complete border closure': 0, 'Obligatory medical tests not related to COVID-19': 0}\n"
          ],
          "name": "stdout"
        }
      ]
    },
    {
      "cell_type": "markdown",
      "metadata": {
        "id": "BX0cOhgw-6AA"
      },
      "source": [
        "### Creating country2region dictionary"
      ]
    },
    {
      "cell_type": "code",
      "metadata": {
        "colab": {
          "base_uri": "https://localhost:8080/"
        },
        "id": "zpWbgTDl_Cjv",
        "outputId": "f1ff4a54-a46a-4f62-ebb3-8f23d27ce855"
      },
      "source": [
        "country2region = {}\n",
        "\n",
        "for i in range(len(dataset['ID'])):\n",
        "    country = dataset['COUNTRY'][i]\n",
        "    region = dataset['REGION'][i]\n",
        "\n",
        "    if country not in country2region:\n",
        "        country2region[country] = region\n",
        "\n",
        "print(country2region)"
      ],
      "execution_count": 18,
      "outputs": [
        {
          "output_type": "stream",
          "text": [
            "{'Afghanistan': 'Asia', 'Albania': 'Europe', 'Algeria': 'Africa', 'Angola': 'Africa', 'Antigua and Barbuda': 'Americas', 'Argentina': 'Americas', 'Armenia': 'Middle east', 'Australia': 'Pacific', 'Austria': 'Europe', 'Azerbaijan': 'Middle east', 'Bahamas': 'Americas', 'Bahrain': 'Middle east', 'Bangladesh': 'Asia', 'Barbados': 'Americas', 'Belarus': 'Europe', 'Belgium': 'Europe', 'Belize': 'Americas', 'Benin': 'Africa', 'Bhutan': 'Middle east', 'Bolivia': 'Americas', 'Bosnia and Herzegovina': 'Europe', 'Botswana': 'Africa', 'Brazil': 'Americas', 'Brunei': 'Middle east', 'Bulgaria': 'Europe', 'Burkina Faso': 'Africa', 'Burundi': 'Africa', \"CÃ´te d'Ivoire\": 'Africa', 'Cambodia': 'Asia', 'Cameroon': 'Africa', 'Canada': 'Americas', 'Cape Verde': 'Africa', 'CAR': 'Africa', 'Chad': 'Africa', 'Chile': 'Americas', 'China': 'Asia', 'Colombia': 'Americas', 'Comoros': 'Africa', 'Congo': 'Africa', 'Costa Rica': 'Americas', 'Croatia': 'Europe', 'Cuba': 'Americas', 'Cyprus': 'Europe', 'Czech Republic': 'Europe', 'Denmark': 'Europe', 'Djibouti': 'Africa', 'Dominica': 'Americas', 'Dominican Republic': 'Americas', 'DPRK': 'Asia', 'DRC': 'Africa', 'Ecuador': 'Americas', 'Egypt': 'Africa', 'El Salvador': 'Americas', 'Equatorial Guinea': 'Africa', 'Eritrea': 'Africa', 'Estonia': 'Europe', 'Eswatini': 'Africa', 'Ethiopia': 'Africa', 'Fiji': 'Pacific', 'Finland': 'Europe', 'France': 'Europe', 'Gabon': 'Africa', 'Gambia': 'Africa', 'Georgia': 'Europe', 'Germany': 'Europe', 'Ghana': 'Africa', 'Greece': 'Europe', 'Grenada': 'Americas', 'Guatemala': 'Americas', 'Guinea': 'Africa', 'Guinea-Bissau': 'Africa', 'Guyana': 'Americas', 'Haiti': 'Americas', 'Honduras': 'Americas', 'Hong Kong': 'Asia', 'Hungary': 'Europe', 'Iceland': 'Europe', 'India': 'Asia', 'Indonesia': 'Asia', 'Iran': 'Middle east', 'Iraq': 'Middle east', 'Ireland': 'Europe', 'Israel': 'Middle east', 'Italy': 'Europe', 'Jamaica': 'Americas', 'Japan': 'Asia', 'Jordan': 'Middle east', 'Kazakhstan': 'Asia', 'Kenya': 'Africa', 'Kiribati': 'Pacific', 'Korea, Republic of': 'Asia', 'Kuwait': 'Middle east', 'Kyrgyzstan': 'Asia', 'Laos': 'Asia', 'Latvia': 'Europe', 'Lebanon': 'Middle east', 'Lesotho': 'Africa', 'Liberia': 'Africa', 'Libya': 'Africa', 'Liechtenstein': 'Europe', 'Lithuania': 'Europe', 'Luxembourg': 'Europe', 'Macedonia': 'Europe', 'Madagascar': 'Africa', 'Malawi': 'Africa', 'Malaysia': 'Asia', 'Maldives': 'Asia', 'Mali': 'Africa', 'Malta': 'Europe', 'Marshall Islands': 'Pacific', 'Mauritania': 'Africa', 'Mauritius': 'Africa', 'Mexico': 'Americas', 'Micronesia': 'Pacific', 'Moldova': 'Europe', 'Mongolia': 'Asia', 'Montenegro': 'Europe', 'Morocco': 'Africa', 'Mozambique': 'Africa', 'Myanmar': 'Asia', 'Namibia': 'Africa', 'Nauru': 'Pacific', 'Nepal': 'Asia', 'Netherlands': 'Europe', 'New Zealand': 'Pacific', 'Nicaragua': 'Americas', 'Niger': 'Africa', 'Nigeria': 'Africa', 'Norway': 'Europe', 'Oman': 'Middle east', 'Pakistan': 'Asia', 'Palau': 'Pacific', 'Palestine': 'Middle east', 'Panama': 'Americas', 'Papua New Guinea': 'Pacific', 'Paraguay': 'Americas', 'Peru': 'Americas', 'Philippines': 'Asia', 'Poland': 'Europe', 'Portugal': 'Europe', 'Qatar': 'Middle east', 'Romania': 'Europe', 'Russia': 'Europe', 'Rwanda': 'Africa', 'Samoa': 'Pacific', 'San Marino': 'Europe', 'Sao Tome and Principe': 'Africa', 'Saudi Arabia': 'Middle east', 'Senegal': 'Africa', 'Serbia': 'Europe', 'Seychelles': 'Africa', 'Sierra Leone': 'Africa', 'Singapore': 'Asia', 'Slovakia': 'Europe', 'Slovenia': 'Europe', 'Solomon Islands': 'Pacific', 'Somalia': 'Africa', 'South Africa': 'Africa', 'South Sudan': 'Africa', 'Spain': 'Europe', 'Sri Lanka': 'Asia', 'St. Kitts and Nevis': 'Americas', 'St. Lucia': 'Americas', 'St. Vincent and the Grenadines': 'Americas', 'Sudan': 'Africa', 'Suriname': 'Americas', 'Sweden': 'Europe', 'Switzerland': 'Europe', 'Syria': 'Middle east', 'Tajikistan': 'Asia', 'Tanzania': 'Africa', 'Thailand': 'Asia', 'Timor Leste': 'Asia', 'Togo': 'Africa', 'Tonga': 'Pacific', 'Trinidad and Tobago': 'Americas', 'Tunisia': 'Africa', 'Turkey': 'Middle east', 'Turkmenistan': 'Asia', 'Tuvalu': 'Pacific', 'Uganda': 'Africa', 'Ukraine': 'Europe', 'United Arab Emirates': 'Middle east', 'United Kingdom': 'Europe', 'United States': 'Americas', 'Uruguay': 'Americas', 'Uzbekistan': 'Asia', 'Vanuatu': 'Pacific', 'Venezuela': 'Americas', 'Vietnam': 'Asia', 'Yemen': 'Middle east', 'Zambia': 'Africa', 'Zimbabwe': 'Africa'}\n"
          ],
          "name": "stdout"
        }
      ]
    },
    {
      "cell_type": "markdown",
      "metadata": {
        "id": "CcF4gVgLgx3C"
      },
      "source": [
        "# 3. Comment embeddings from DeBerta model"
      ]
    },
    {
      "cell_type": "markdown",
      "metadata": {
        "id": "4IYYV72WgztS"
      },
      "source": [
        "### creating list of comments"
      ]
    },
    {
      "cell_type": "code",
      "metadata": {
        "colab": {
          "base_uri": "https://localhost:8080/"
        },
        "id": "6vF5nj8xi9CH",
        "outputId": "d8d9f715-8c4a-4c86-a7e3-cbb764ed6a6d"
      },
      "source": [
        "comments = []\n",
        "comment_infos = []\n",
        "\n",
        "for country in regulations:\n",
        "    for log_type in regulations[country]:\n",
        "        for day in range(len(regulations[country][log_type])):\n",
        "\n",
        "            if len(regulations[country][log_type][day]) == 0:\n",
        "                continue\n",
        "\n",
        "            comment = ''\n",
        "            for index in regulations[country][log_type][day]:\n",
        "                comment = comment + ' ' + dataset['COMMENTS'][index]\n",
        "            \n",
        "            comments.append(comment)\n",
        "            comment_infos.append((country, log_type, day))\n",
        "\n",
        "print('Number of comments: ', len(comments))\n",
        "print(comments[0:5])\n",
        "print(comment_infos[0:5])"
      ],
      "execution_count": 10,
      "outputs": [
        {
          "output_type": "stream",
          "text": [
            "Number of comments:  11048\n",
            "[' MoPH begins announcements on their facebook to make public aware of coronavirus. ', ' Health teams at airports will check passengers coming from China. ', ' Flights to China are suspended.  Health screenings of all passengers at airports. ', ' All China and Iran nationals', ' the ministry has prepared 100 bed to control this virus in Kabul and 200 others in the province hospital with all the facilities needed in the country. ----']\n",
            "[('Afghanistan', 'positive', 23), ('Afghanistan', 'positive', 25), ('Afghanistan', 'positive', 26), ('Afghanistan', 'positive', 31), ('Afghanistan', 'positive', 32)]\n"
          ],
          "name": "stdout"
        }
      ]
    },
    {
      "cell_type": "markdown",
      "metadata": {
        "id": "CZ6aqRdgac4n"
      },
      "source": [
        "### Tokenizing"
      ]
    },
    {
      "cell_type": "code",
      "metadata": {
        "id": "MzP53Wzsac4o",
        "colab": {
          "base_uri": "https://localhost:8080/",
          "height": 165,
          "referenced_widgets": [
            "5d3aa9ffb9134de8856deafaa0a1cd1e",
            "9ee1b4b654e245b99e9c93576fac0737",
            "0000f657126347a2ac4e144a6ee6ca3b",
            "c5ee52fa119748828647fecb738ece29",
            "aa3211cb8e154e13b77ed99f5cd605b3",
            "5353a16b976c452aab8c4af4e170de67",
            "972fd0c53c604c68b90558f1f7a3421c",
            "101402b1098245d7b8b5d2b9a4ddb4f3",
            "e9425e546b5c491083952a344612ec46",
            "18661cea34724fd4b4bcd48423580fb1",
            "235ed78d06364e98aeaac512117ef684",
            "e44003abecac49329a7057cef8039019",
            "4d9cc0f8e7ab461dbc3a0ad03aaf7c61",
            "332701bb087a4110847fd6ad373faba9",
            "8fd27f43f79a4ea88c6de203107cf01b",
            "061e056637a148aab6759104b44e27bc",
            "33928219b80440a885b25cd99b711dd2",
            "f1d59103f2a24ee8a0a36c81924a39e9",
            "0e80ae450a6d4eebbca3d58ede4ec877",
            "f72830bf8f7b4f57939681c88fb6e47c",
            "e736f4775d9e47139b79a1e82ac85ec7",
            "701d5ffa64e842f0ae3e680448187535",
            "218950578bf641bf85b581731cef7c39",
            "1962954c0fe243c883d222b77f9dc6d4"
          ]
        },
        "outputId": "10fae2f8-f4ef-42eb-9492-10f343ca55e6"
      },
      "source": [
        "tokenizer = transformers.DebertaTokenizer.from_pretrained('microsoft/deberta-base') \n",
        "max_length = 256\n",
        "train_encodings = tokenizer(comments, add_special_tokens=True, return_token_type_ids=False, truncation=True, padding=True, max_length=max_length)"
      ],
      "execution_count": 11,
      "outputs": [
        {
          "output_type": "display_data",
          "data": {
            "application/vnd.jupyter.widget-view+json": {
              "model_id": "5d3aa9ffb9134de8856deafaa0a1cd1e",
              "version_minor": 0,
              "version_major": 2
            },
            "text/plain": [
              "HBox(children=(FloatProgress(value=0.0, description='Downloading', max=898825.0, style=ProgressStyle(descripti…"
            ]
          },
          "metadata": {
            "tags": []
          }
        },
        {
          "output_type": "stream",
          "text": [
            "\n"
          ],
          "name": "stdout"
        },
        {
          "output_type": "display_data",
          "data": {
            "application/vnd.jupyter.widget-view+json": {
              "model_id": "e9425e546b5c491083952a344612ec46",
              "version_minor": 0,
              "version_major": 2
            },
            "text/plain": [
              "HBox(children=(FloatProgress(value=0.0, description='Downloading', max=456318.0, style=ProgressStyle(descripti…"
            ]
          },
          "metadata": {
            "tags": []
          }
        },
        {
          "output_type": "stream",
          "text": [
            "\n"
          ],
          "name": "stdout"
        },
        {
          "output_type": "display_data",
          "data": {
            "application/vnd.jupyter.widget-view+json": {
              "model_id": "33928219b80440a885b25cd99b711dd2",
              "version_minor": 0,
              "version_major": 2
            },
            "text/plain": [
              "HBox(children=(FloatProgress(value=0.0, description='Downloading', max=52.0, style=ProgressStyle(description_w…"
            ]
          },
          "metadata": {
            "tags": []
          }
        },
        {
          "output_type": "stream",
          "text": [
            "\n"
          ],
          "name": "stdout"
        }
      ]
    },
    {
      "cell_type": "markdown",
      "metadata": {
        "id": "7G5kUUQWac4p"
      },
      "source": [
        "### Creating pytorch Dataset"
      ]
    },
    {
      "cell_type": "code",
      "metadata": {
        "id": "crdsqJosac4p"
      },
      "source": [
        "class NSPDataset(torch.utils.data.Dataset):\n",
        "    def __init__(self, encodings):\n",
        "        self.encodings = encodings\n",
        "#         self.labels = labels\n",
        "\n",
        "    def __getitem__(self, idx):\n",
        "        item = {key: torch.tensor(val[idx]) for key, val in self.encodings.items()}\n",
        "#         if self.labels != None:\n",
        "#           item['labels'] = torch.tensor(self.labels[idx])\n",
        "        return item\n",
        "\n",
        "    def __len__(self):\n",
        "        # return len(self.labels)\n",
        "        return len(self.encodings['input_ids'])"
      ],
      "execution_count": 12,
      "outputs": []
    },
    {
      "cell_type": "code",
      "metadata": {
        "id": "Fvcs4q22ac4q"
      },
      "source": [
        "train_dataset = NSPDataset(train_encodings)\n",
        "train_loader = DataLoader(train_dataset, batch_size=32, shuffle=False)"
      ],
      "execution_count": 13,
      "outputs": []
    },
    {
      "cell_type": "markdown",
      "metadata": {
        "id": "06zqtx-rac4q"
      },
      "source": [
        "### Creating DeBerta Model"
      ]
    },
    {
      "cell_type": "code",
      "metadata": {
        "colab": {
          "base_uri": "https://localhost:8080/",
          "height": 1000,
          "referenced_widgets": [
            "48d30a123753428290f630b01f143632",
            "34fb6ad11f2349db9cdb53e73e40cb6d",
            "0942c05aecf64550a19d0c0337923937",
            "cbf8a728e23a42c281fd7b03e70cf17a",
            "d11a6d4b22bc42d9b777bdd9d98701e8",
            "1b72ab98c0d04402ad5fb2efe1ddaa65",
            "4935056300a947e79538e9e1ad3f59cf",
            "43c767404fee4da586a883a28e93e5a1",
            "5e45c5fdab7d436880989f6c4586d409",
            "822b2aac13b141819f42fc1eacfa9f1f",
            "ffec7c449e944ef4906cc26bca2ef3e2",
            "cb78285827524f56873899725549eab8",
            "513942467e0942869323532e48feed64",
            "2af77842b528441299dec8d5c3a17be7",
            "7fccdf06ba5d454ebed99f6ea4a673f3",
            "2257f0d6afa544b483d3ad46a335db3e"
          ]
        },
        "id": "bKOTYuVwac4q",
        "outputId": "67d8e5fd-2d9c-412d-db13-1c6a4dd2dee5"
      },
      "source": [
        "device = torch.device(\"cuda:0\" if torch.cuda.is_available() else \"cpu\")\n",
        "\n",
        "model = transformers.DebertaModel.from_pretrained('microsoft/deberta-base')\n",
        "\n",
        "\n",
        "if torch.cuda.device_count() > 1:\n",
        "#   print(\"Let's use\", torch.cuda.device_count(), \"GPUs!\")\n",
        "  model = torch.nn.DataParallel(model)\n",
        "    \n",
        "model.to(device)\n",
        "model.train()"
      ],
      "execution_count": 14,
      "outputs": [
        {
          "output_type": "display_data",
          "data": {
            "application/vnd.jupyter.widget-view+json": {
              "model_id": "48d30a123753428290f630b01f143632",
              "version_minor": 0,
              "version_major": 2
            },
            "text/plain": [
              "HBox(children=(FloatProgress(value=0.0, description='Downloading', max=474.0, style=ProgressStyle(description_…"
            ]
          },
          "metadata": {
            "tags": []
          }
        },
        {
          "output_type": "stream",
          "text": [
            "\n"
          ],
          "name": "stdout"
        },
        {
          "output_type": "display_data",
          "data": {
            "application/vnd.jupyter.widget-view+json": {
              "model_id": "5e45c5fdab7d436880989f6c4586d409",
              "version_minor": 0,
              "version_major": 2
            },
            "text/plain": [
              "HBox(children=(FloatProgress(value=0.0, description='Downloading', max=558582766.0, style=ProgressStyle(descri…"
            ]
          },
          "metadata": {
            "tags": []
          }
        },
        {
          "output_type": "stream",
          "text": [
            "\n"
          ],
          "name": "stdout"
        },
        {
          "output_type": "execute_result",
          "data": {
            "text/plain": [
              "DebertaModel(\n",
              "  (embeddings): DebertaEmbeddings(\n",
              "    (word_embeddings): Embedding(50265, 768, padding_idx=0)\n",
              "    (LayerNorm): DebertaLayerNorm()\n",
              "    (dropout): StableDropout()\n",
              "  )\n",
              "  (encoder): DebertaEncoder(\n",
              "    (layer): ModuleList(\n",
              "      (0): DebertaLayer(\n",
              "        (attention): DebertaAttention(\n",
              "          (self): DisentangledSelfAttention(\n",
              "            (in_proj): Linear(in_features=768, out_features=2304, bias=False)\n",
              "            (pos_dropout): StableDropout()\n",
              "            (pos_proj): Linear(in_features=768, out_features=768, bias=False)\n",
              "            (pos_q_proj): Linear(in_features=768, out_features=768, bias=True)\n",
              "            (dropout): StableDropout()\n",
              "          )\n",
              "          (output): DebertaSelfOutput(\n",
              "            (dense): Linear(in_features=768, out_features=768, bias=True)\n",
              "            (LayerNorm): DebertaLayerNorm()\n",
              "            (dropout): StableDropout()\n",
              "          )\n",
              "        )\n",
              "        (intermediate): DebertaIntermediate(\n",
              "          (dense): Linear(in_features=768, out_features=3072, bias=True)\n",
              "        )\n",
              "        (output): DebertaOutput(\n",
              "          (dense): Linear(in_features=3072, out_features=768, bias=True)\n",
              "          (LayerNorm): DebertaLayerNorm()\n",
              "          (dropout): StableDropout()\n",
              "        )\n",
              "      )\n",
              "      (1): DebertaLayer(\n",
              "        (attention): DebertaAttention(\n",
              "          (self): DisentangledSelfAttention(\n",
              "            (in_proj): Linear(in_features=768, out_features=2304, bias=False)\n",
              "            (pos_dropout): StableDropout()\n",
              "            (pos_proj): Linear(in_features=768, out_features=768, bias=False)\n",
              "            (pos_q_proj): Linear(in_features=768, out_features=768, bias=True)\n",
              "            (dropout): StableDropout()\n",
              "          )\n",
              "          (output): DebertaSelfOutput(\n",
              "            (dense): Linear(in_features=768, out_features=768, bias=True)\n",
              "            (LayerNorm): DebertaLayerNorm()\n",
              "            (dropout): StableDropout()\n",
              "          )\n",
              "        )\n",
              "        (intermediate): DebertaIntermediate(\n",
              "          (dense): Linear(in_features=768, out_features=3072, bias=True)\n",
              "        )\n",
              "        (output): DebertaOutput(\n",
              "          (dense): Linear(in_features=3072, out_features=768, bias=True)\n",
              "          (LayerNorm): DebertaLayerNorm()\n",
              "          (dropout): StableDropout()\n",
              "        )\n",
              "      )\n",
              "      (2): DebertaLayer(\n",
              "        (attention): DebertaAttention(\n",
              "          (self): DisentangledSelfAttention(\n",
              "            (in_proj): Linear(in_features=768, out_features=2304, bias=False)\n",
              "            (pos_dropout): StableDropout()\n",
              "            (pos_proj): Linear(in_features=768, out_features=768, bias=False)\n",
              "            (pos_q_proj): Linear(in_features=768, out_features=768, bias=True)\n",
              "            (dropout): StableDropout()\n",
              "          )\n",
              "          (output): DebertaSelfOutput(\n",
              "            (dense): Linear(in_features=768, out_features=768, bias=True)\n",
              "            (LayerNorm): DebertaLayerNorm()\n",
              "            (dropout): StableDropout()\n",
              "          )\n",
              "        )\n",
              "        (intermediate): DebertaIntermediate(\n",
              "          (dense): Linear(in_features=768, out_features=3072, bias=True)\n",
              "        )\n",
              "        (output): DebertaOutput(\n",
              "          (dense): Linear(in_features=3072, out_features=768, bias=True)\n",
              "          (LayerNorm): DebertaLayerNorm()\n",
              "          (dropout): StableDropout()\n",
              "        )\n",
              "      )\n",
              "      (3): DebertaLayer(\n",
              "        (attention): DebertaAttention(\n",
              "          (self): DisentangledSelfAttention(\n",
              "            (in_proj): Linear(in_features=768, out_features=2304, bias=False)\n",
              "            (pos_dropout): StableDropout()\n",
              "            (pos_proj): Linear(in_features=768, out_features=768, bias=False)\n",
              "            (pos_q_proj): Linear(in_features=768, out_features=768, bias=True)\n",
              "            (dropout): StableDropout()\n",
              "          )\n",
              "          (output): DebertaSelfOutput(\n",
              "            (dense): Linear(in_features=768, out_features=768, bias=True)\n",
              "            (LayerNorm): DebertaLayerNorm()\n",
              "            (dropout): StableDropout()\n",
              "          )\n",
              "        )\n",
              "        (intermediate): DebertaIntermediate(\n",
              "          (dense): Linear(in_features=768, out_features=3072, bias=True)\n",
              "        )\n",
              "        (output): DebertaOutput(\n",
              "          (dense): Linear(in_features=3072, out_features=768, bias=True)\n",
              "          (LayerNorm): DebertaLayerNorm()\n",
              "          (dropout): StableDropout()\n",
              "        )\n",
              "      )\n",
              "      (4): DebertaLayer(\n",
              "        (attention): DebertaAttention(\n",
              "          (self): DisentangledSelfAttention(\n",
              "            (in_proj): Linear(in_features=768, out_features=2304, bias=False)\n",
              "            (pos_dropout): StableDropout()\n",
              "            (pos_proj): Linear(in_features=768, out_features=768, bias=False)\n",
              "            (pos_q_proj): Linear(in_features=768, out_features=768, bias=True)\n",
              "            (dropout): StableDropout()\n",
              "          )\n",
              "          (output): DebertaSelfOutput(\n",
              "            (dense): Linear(in_features=768, out_features=768, bias=True)\n",
              "            (LayerNorm): DebertaLayerNorm()\n",
              "            (dropout): StableDropout()\n",
              "          )\n",
              "        )\n",
              "        (intermediate): DebertaIntermediate(\n",
              "          (dense): Linear(in_features=768, out_features=3072, bias=True)\n",
              "        )\n",
              "        (output): DebertaOutput(\n",
              "          (dense): Linear(in_features=3072, out_features=768, bias=True)\n",
              "          (LayerNorm): DebertaLayerNorm()\n",
              "          (dropout): StableDropout()\n",
              "        )\n",
              "      )\n",
              "      (5): DebertaLayer(\n",
              "        (attention): DebertaAttention(\n",
              "          (self): DisentangledSelfAttention(\n",
              "            (in_proj): Linear(in_features=768, out_features=2304, bias=False)\n",
              "            (pos_dropout): StableDropout()\n",
              "            (pos_proj): Linear(in_features=768, out_features=768, bias=False)\n",
              "            (pos_q_proj): Linear(in_features=768, out_features=768, bias=True)\n",
              "            (dropout): StableDropout()\n",
              "          )\n",
              "          (output): DebertaSelfOutput(\n",
              "            (dense): Linear(in_features=768, out_features=768, bias=True)\n",
              "            (LayerNorm): DebertaLayerNorm()\n",
              "            (dropout): StableDropout()\n",
              "          )\n",
              "        )\n",
              "        (intermediate): DebertaIntermediate(\n",
              "          (dense): Linear(in_features=768, out_features=3072, bias=True)\n",
              "        )\n",
              "        (output): DebertaOutput(\n",
              "          (dense): Linear(in_features=3072, out_features=768, bias=True)\n",
              "          (LayerNorm): DebertaLayerNorm()\n",
              "          (dropout): StableDropout()\n",
              "        )\n",
              "      )\n",
              "      (6): DebertaLayer(\n",
              "        (attention): DebertaAttention(\n",
              "          (self): DisentangledSelfAttention(\n",
              "            (in_proj): Linear(in_features=768, out_features=2304, bias=False)\n",
              "            (pos_dropout): StableDropout()\n",
              "            (pos_proj): Linear(in_features=768, out_features=768, bias=False)\n",
              "            (pos_q_proj): Linear(in_features=768, out_features=768, bias=True)\n",
              "            (dropout): StableDropout()\n",
              "          )\n",
              "          (output): DebertaSelfOutput(\n",
              "            (dense): Linear(in_features=768, out_features=768, bias=True)\n",
              "            (LayerNorm): DebertaLayerNorm()\n",
              "            (dropout): StableDropout()\n",
              "          )\n",
              "        )\n",
              "        (intermediate): DebertaIntermediate(\n",
              "          (dense): Linear(in_features=768, out_features=3072, bias=True)\n",
              "        )\n",
              "        (output): DebertaOutput(\n",
              "          (dense): Linear(in_features=3072, out_features=768, bias=True)\n",
              "          (LayerNorm): DebertaLayerNorm()\n",
              "          (dropout): StableDropout()\n",
              "        )\n",
              "      )\n",
              "      (7): DebertaLayer(\n",
              "        (attention): DebertaAttention(\n",
              "          (self): DisentangledSelfAttention(\n",
              "            (in_proj): Linear(in_features=768, out_features=2304, bias=False)\n",
              "            (pos_dropout): StableDropout()\n",
              "            (pos_proj): Linear(in_features=768, out_features=768, bias=False)\n",
              "            (pos_q_proj): Linear(in_features=768, out_features=768, bias=True)\n",
              "            (dropout): StableDropout()\n",
              "          )\n",
              "          (output): DebertaSelfOutput(\n",
              "            (dense): Linear(in_features=768, out_features=768, bias=True)\n",
              "            (LayerNorm): DebertaLayerNorm()\n",
              "            (dropout): StableDropout()\n",
              "          )\n",
              "        )\n",
              "        (intermediate): DebertaIntermediate(\n",
              "          (dense): Linear(in_features=768, out_features=3072, bias=True)\n",
              "        )\n",
              "        (output): DebertaOutput(\n",
              "          (dense): Linear(in_features=3072, out_features=768, bias=True)\n",
              "          (LayerNorm): DebertaLayerNorm()\n",
              "          (dropout): StableDropout()\n",
              "        )\n",
              "      )\n",
              "      (8): DebertaLayer(\n",
              "        (attention): DebertaAttention(\n",
              "          (self): DisentangledSelfAttention(\n",
              "            (in_proj): Linear(in_features=768, out_features=2304, bias=False)\n",
              "            (pos_dropout): StableDropout()\n",
              "            (pos_proj): Linear(in_features=768, out_features=768, bias=False)\n",
              "            (pos_q_proj): Linear(in_features=768, out_features=768, bias=True)\n",
              "            (dropout): StableDropout()\n",
              "          )\n",
              "          (output): DebertaSelfOutput(\n",
              "            (dense): Linear(in_features=768, out_features=768, bias=True)\n",
              "            (LayerNorm): DebertaLayerNorm()\n",
              "            (dropout): StableDropout()\n",
              "          )\n",
              "        )\n",
              "        (intermediate): DebertaIntermediate(\n",
              "          (dense): Linear(in_features=768, out_features=3072, bias=True)\n",
              "        )\n",
              "        (output): DebertaOutput(\n",
              "          (dense): Linear(in_features=3072, out_features=768, bias=True)\n",
              "          (LayerNorm): DebertaLayerNorm()\n",
              "          (dropout): StableDropout()\n",
              "        )\n",
              "      )\n",
              "      (9): DebertaLayer(\n",
              "        (attention): DebertaAttention(\n",
              "          (self): DisentangledSelfAttention(\n",
              "            (in_proj): Linear(in_features=768, out_features=2304, bias=False)\n",
              "            (pos_dropout): StableDropout()\n",
              "            (pos_proj): Linear(in_features=768, out_features=768, bias=False)\n",
              "            (pos_q_proj): Linear(in_features=768, out_features=768, bias=True)\n",
              "            (dropout): StableDropout()\n",
              "          )\n",
              "          (output): DebertaSelfOutput(\n",
              "            (dense): Linear(in_features=768, out_features=768, bias=True)\n",
              "            (LayerNorm): DebertaLayerNorm()\n",
              "            (dropout): StableDropout()\n",
              "          )\n",
              "        )\n",
              "        (intermediate): DebertaIntermediate(\n",
              "          (dense): Linear(in_features=768, out_features=3072, bias=True)\n",
              "        )\n",
              "        (output): DebertaOutput(\n",
              "          (dense): Linear(in_features=3072, out_features=768, bias=True)\n",
              "          (LayerNorm): DebertaLayerNorm()\n",
              "          (dropout): StableDropout()\n",
              "        )\n",
              "      )\n",
              "      (10): DebertaLayer(\n",
              "        (attention): DebertaAttention(\n",
              "          (self): DisentangledSelfAttention(\n",
              "            (in_proj): Linear(in_features=768, out_features=2304, bias=False)\n",
              "            (pos_dropout): StableDropout()\n",
              "            (pos_proj): Linear(in_features=768, out_features=768, bias=False)\n",
              "            (pos_q_proj): Linear(in_features=768, out_features=768, bias=True)\n",
              "            (dropout): StableDropout()\n",
              "          )\n",
              "          (output): DebertaSelfOutput(\n",
              "            (dense): Linear(in_features=768, out_features=768, bias=True)\n",
              "            (LayerNorm): DebertaLayerNorm()\n",
              "            (dropout): StableDropout()\n",
              "          )\n",
              "        )\n",
              "        (intermediate): DebertaIntermediate(\n",
              "          (dense): Linear(in_features=768, out_features=3072, bias=True)\n",
              "        )\n",
              "        (output): DebertaOutput(\n",
              "          (dense): Linear(in_features=3072, out_features=768, bias=True)\n",
              "          (LayerNorm): DebertaLayerNorm()\n",
              "          (dropout): StableDropout()\n",
              "        )\n",
              "      )\n",
              "      (11): DebertaLayer(\n",
              "        (attention): DebertaAttention(\n",
              "          (self): DisentangledSelfAttention(\n",
              "            (in_proj): Linear(in_features=768, out_features=2304, bias=False)\n",
              "            (pos_dropout): StableDropout()\n",
              "            (pos_proj): Linear(in_features=768, out_features=768, bias=False)\n",
              "            (pos_q_proj): Linear(in_features=768, out_features=768, bias=True)\n",
              "            (dropout): StableDropout()\n",
              "          )\n",
              "          (output): DebertaSelfOutput(\n",
              "            (dense): Linear(in_features=768, out_features=768, bias=True)\n",
              "            (LayerNorm): DebertaLayerNorm()\n",
              "            (dropout): StableDropout()\n",
              "          )\n",
              "        )\n",
              "        (intermediate): DebertaIntermediate(\n",
              "          (dense): Linear(in_features=768, out_features=3072, bias=True)\n",
              "        )\n",
              "        (output): DebertaOutput(\n",
              "          (dense): Linear(in_features=3072, out_features=768, bias=True)\n",
              "          (LayerNorm): DebertaLayerNorm()\n",
              "          (dropout): StableDropout()\n",
              "        )\n",
              "      )\n",
              "    )\n",
              "    (rel_embeddings): Embedding(1024, 768)\n",
              "  )\n",
              ")"
            ]
          },
          "metadata": {
            "tags": []
          },
          "execution_count": 14
        }
      ]
    },
    {
      "cell_type": "markdown",
      "metadata": {
        "id": "A5eHPqgNac4r"
      },
      "source": [
        "### Generating Comment Embeddings"
      ]
    },
    {
      "cell_type": "code",
      "metadata": {
        "colab": {
          "base_uri": "https://localhost:8080/"
        },
        "id": "-6-aHVqtac4s",
        "outputId": "e4371cf6-e3c7-41de-b5b9-824044c58c4f"
      },
      "source": [
        "all_cls = []\n",
        "\n",
        "for iteration, batch in tqdm(enumerate(train_loader)):\n",
        "    \n",
        "    input_ids = batch['input_ids'].to(device)\n",
        "    attention_mask = batch['attention_mask'].to(device)\n",
        "    \n",
        "    with torch.no_grad():\n",
        "        \n",
        "        last_hidden_state = model(input_ids, attention_mask=attention_mask).last_hidden_state\n",
        "        cls_tokens = last_hidden_state[:,0,:].detach()\n",
        "        \n",
        "        all_cls.append(cls_tokens)\n",
        "\n",
        "        \n",
        "# out_cls is a matrix of size number_of_not_null_comments (23799) X size_of_hidden_state_of_BERT (768)\n",
        "# In this matrix, for each comment we have an embedding vector.\n",
        "# Use \"ids\" list to map each comment with its ids.\n",
        "out_cls = torch.cat(all_cls, 0)\n",
        "\n",
        "print(\"shape of output matrix :\", out_cls.shape)\n",
        "comment_embeddings = out_cls.tolist()"
      ],
      "execution_count": 15,
      "outputs": [
        {
          "output_type": "stream",
          "text": [
            "346it [09:01,  1.56s/it]\n"
          ],
          "name": "stderr"
        },
        {
          "output_type": "stream",
          "text": [
            "shape of output matrix : torch.Size([11048, 768])\n"
          ],
          "name": "stdout"
        }
      ]
    },
    {
      "cell_type": "markdown",
      "metadata": {
        "id": "WB6Kn1K2K865"
      },
      "source": [
        "### Save and load comment embeddings"
      ]
    },
    {
      "cell_type": "code",
      "metadata": {
        "id": "GRY6jZ_8D4lF"
      },
      "source": [
        "import json\n",
        "with open('comment-embeddings.json', 'w') as file1, open('/content/drive/MyDrive/DL-project/comment-embeddings.json', 'w') as file2:\n",
        "    json.dump(comment_embeddings, file1)\n",
        "    json.dump(comment_embeddings, file2)"
      ],
      "execution_count": 28,
      "outputs": []
    },
    {
      "cell_type": "code",
      "metadata": {
        "colab": {
          "base_uri": "https://localhost:8080/"
        },
        "id": "uyZlEcgRISYO",
        "outputId": "4850818c-d9ca-4f82-dd86-cd63cd008218"
      },
      "source": [
        "comment_embeddings = []\n",
        "with open('comment-embeddings.json', 'r') as file:\n",
        "    comment_embeddings = json.load(file)\n",
        "\n",
        "print(len(comment_embeddings), len(comment_embeddings[0]), comment_embeddings[0])"
      ],
      "execution_count": 27,
      "outputs": [
        {
          "output_type": "stream",
          "text": [
            "11048 768 [-0.0021092742681503296, -0.07381375133991241, -0.11492428183555603, -0.06525909155607224, -0.006907906383275986, 0.07458068430423737, -0.13755455613136292, -0.0265787485986948, 0.09799185395240784, -0.06330740451812744, -0.09887293726205826, 0.007764849811792374, -0.04174366965889931, -0.04749990999698639, -0.03481698036193848, -0.06963647156953812, -0.023818157613277435, -0.01967502012848854, 0.04264158383011818, -0.021032515913248062, 0.027185000479221344, 0.03490302339196205, 0.0002858266234397888, -0.07306428253650665, 0.01342175155878067, -0.01583166792988777, -0.0002553015947341919, 0.06236741691827774, -0.0389697402715683, -0.02120368182659149, -0.09736765921115875, 0.026904448866844177, -0.005332056432962418, -0.10552310943603516, 0.08812673389911652, 0.009326308965682983, -0.006019853055477142, -0.08018489927053452, 0.021022941917181015, 0.049953579902648926, -0.0428997240960598, -0.16011479496955872, -0.10330456495285034, 0.03169439360499382, -0.05761684477329254, 0.06548461318016052, -0.02391151525080204, -0.025021500885486603, 0.06773284077644348, -0.018145304173231125, -0.02461090311408043, -0.01210550032556057, -0.029869109392166138, -0.07176285237073898, -0.005887717008590698, 0.031301483511924744, -0.05596642196178436, -0.06208429113030434, 0.019079942256212234, 0.0444810688495636, -0.09431186318397522, 0.042394790798425674, -0.09355145692825317, -0.04745592176914215, -0.11919211596250534, -0.0017254576086997986, -0.0399644672870636, -0.1044105812907219, -0.03747072070837021, 0.03017301857471466, -0.04812752082943916, -0.0727221667766571, 0.05434884876012802, -0.1405887007713318, -0.03778189793229103, 0.02978564240038395, -0.024839801713824272, -0.03199885040521622, -0.11313368380069733, -0.08213594555854797, -0.030725043267011642, -0.005344804376363754, -0.11886153370141983, -0.030171841382980347, -0.10492401570081711, -0.05231596156954765, 0.07615455985069275, -0.0756358876824379, 0.04373127967119217, -0.08718693256378174, 0.021857500076293945, -0.023645736277103424, 0.0007566977292299271, -0.020516473799943924, -0.05587267130613327, -0.04720691591501236, 0.0049680303782224655, -1.2862257957458496, -0.009936422109603882, -0.07416459918022156, -0.06695801019668579, -0.14670169353485107, -0.07804343104362488, 0.049520909786224365, -0.19463030993938446, -0.002882853150367737, -0.012916218489408493, 0.00767376646399498, 0.0582837276160717, -0.09829776734113693, 0.0022475123405456543, -0.07967379689216614, 0.00034708529710769653, -0.024594565853476524, -0.09087704122066498, -0.10872669517993927, -0.09895053505897522, 0.045321300625801086, -0.020423930138349533, 0.010073581710457802, -0.010636823251843452, 0.030689310282468796, 0.009848307818174362, -0.05464987829327583, 0.011456772685050964, -0.014948338270187378, -0.0013650581240653992, -0.015651050955057144, -0.029482262209057808, -0.006773263216018677, -0.05493436008691788, -0.025068707764148712, -0.06628639250993729, -0.037188947200775146, -0.06735057383775711, 0.0274018794298172, -0.07367458939552307, -0.06291142106056213, -0.3307529091835022, -0.027676284313201904, -0.026437148451805115, -0.007797721773386002, -0.05947978049516678, -0.023882301524281502, 0.05342835932970047, 0.005197495222091675, 0.05247193202376366, 0.008436482399702072, -0.014085172675549984, -0.04367288202047348, 0.00575057789683342, -0.11726657301187515, 0.012297406792640686, 0.03177376836538315, -0.02962104044854641, -0.009406603872776031, -0.05707690864801407, 0.045749492943286896, -0.03448709100484848, -0.1624399721622467, 0.022795777767896652, 0.0062712132930755615, -0.035468995571136475, -0.004522029310464859, -0.04140479862689972, -0.023556813597679138, 0.0031661614775657654, -0.04219426214694977, -0.07030399143695831, -0.0652841255068779, 0.022442642599344254, -0.017239252105355263, 0.06689171493053436, 0.044440656900405884, -0.08991589397192001, -0.1212250143289566, -0.006174873560667038, -0.038408055901527405, -0.005800236016511917, -0.012326162308454514, -0.03167609125375748, -0.0577387735247612, -0.0799223855137825, -0.025563081726431847, 0.00356241874396801, 0.0057569630444049835, 0.024029608815908432, 0.025557082146406174, -0.11638405919075012, 0.05551194027066231, 0.01408388838171959, -0.005437683314085007, -0.18170574307441711, -0.01895471289753914, 0.01494869589805603, 0.016443174332380295, -0.06390269100666046, -0.0874740481376648, 0.011056125164031982, -0.008214019238948822, 0.024897202849388123, -0.09881085157394409, -0.005750827491283417, -0.028241144493222237, -0.013653136789798737, 0.05222972109913826, -0.08914799988269806, -0.02142595872282982, -0.019335906952619553, -0.03908644989132881, -0.08259965479373932, -0.03529848903417587, -0.0848856195807457, -0.05395282804965973, 0.010210776701569557, -0.1308826208114624, -0.11990777403116226, -0.0675596222281456, -0.0013353973627090454, -0.02810003235936165, -0.01260453462600708, 0.04433998093008995, -0.09460984170436859, -0.02895243838429451, -0.05407615751028061, -0.04866820573806763, -0.05070260912179947, -0.09160669893026352, 0.06099352240562439, 0.009749393910169601, -0.05902023985981941, -0.00021528080105781555, 0.018561094999313354, 0.0027698464691638947, -0.02224266156554222, -0.003215748816728592, -0.0016652122139930725, -0.03861816227436066, -0.1106581911444664, 0.003628421574831009, -0.05150292068719864, -0.011135987937450409, -0.07147690653800964, -0.0215458907186985, -0.08809303492307663, -0.04457325115799904, 0.032460927963256836, 0.018005460500717163, -0.11258754134178162, -0.02038254588842392, -0.08165133744478226, -0.0357389934360981, -0.04336582496762276, -0.04926662892103195, -0.03510882705450058, 0.12105555832386017, 0.01753988116979599, -0.09073600172996521, 0.13156236708164215, -0.10461065173149109, 0.03479383885860443, -0.03082331269979477, -0.030472487211227417, -0.06614820659160614, -0.02033582329750061, -0.023177344352006912, 0.06205883249640465, -0.008830998092889786, -0.020236864686012268, -0.027262073010206223, -0.04341587796807289, -0.02420460432767868, -0.029235970228910446, -0.005591895431280136, -0.0878731906414032, -0.046121060848236084, -0.10785636305809021, 0.0043541863560676575, -0.00736373383551836, -0.029281090945005417, -0.03844379633665085, -0.03049841709434986, 9.511696815490723, 0.012708283960819244, -0.017662538215517998, 0.08592113107442856, -0.014151506125926971, 0.10511234402656555, -0.015244808048009872, -0.0015395469963550568, 0.027680277824401855, -0.05892179161310196, -0.054080285131931305, -0.0021876879036426544, 0.0064392127096652985, 0.01579488255083561, -0.04750680550932884, -0.038177490234375, -0.03390820696949959, -0.11430707573890686, -0.006366651505231857, 0.014349155128002167, -0.0995204895734787, -0.1254384070634842, -0.002630205824971199, -0.02443426474928856, -0.001880653202533722, -0.05554579943418503, -0.14674963057041168, 0.0190720334649086, -0.040130507200956345, -0.03103621117770672, -0.051288217306137085, 0.027031563222408295, -0.06685608625411987, -0.1590934693813324, -0.03298752382397652, -0.006153542548418045, -0.035862479358911514, -0.03747688978910446, 0.01797974854707718, -0.06037817895412445, 0.11503437161445618, 0.05372078716754913, 0.07145465910434723, -0.08586379885673523, 0.057561084628105164, -0.11303051561117172, 0.04259819909930229, -0.03455401211977005, -0.10971896350383759, -0.028993727639317513, -0.010222967714071274, -0.03226547688245773, -0.08165273815393448, -0.09665092080831528, -0.08475619554519653, 0.05366777256131172, 0.0012212656438350677, -0.014116480946540833, -0.03965968266129494, -0.11647304892539978, -0.023461628705263138, 0.001591615378856659, -0.06250666826963425, -0.04348617419600487, -0.13940536975860596, -0.012336879968643188, 0.004157461225986481, -0.042787402868270874, -0.09519016742706299, 0.0037725940346717834, 0.04539552703499794, -0.14700838923454285, -0.0039373114705085754, 0.018529944121837616, -0.10227257013320923, -0.04307081550359726, -0.05401737987995148, -0.017686722800135612, -0.012264236807823181, 0.0337630920112133, -0.047940462827682495, -0.004683053120970726, -0.11140317469835281, 0.014415595680475235, -0.04029124975204468, -0.025283224880695343, 0.003168724477291107, 0.007863111793994904, -0.03126287832856178, 0.02378196269273758, 0.018382253125309944, 0.10834504663944244, -0.05715164914727211, -0.08247561752796173, -0.038814887404441833, -0.05246346443891525, -0.09082791209220886, -0.0718393623828888, -0.035316191613674164, -0.032987501472234726, 0.0022423788905143738, 0.05108797550201416, -0.0050169602036476135, 0.036086611449718475, 0.09463644027709961, 0.06177250295877457, -0.0018494948744773865, -0.03494777902960777, 0.00014076381921768188, 0.06943423300981522, -0.03698387369513512, -0.08437120914459229, -0.014308959245681763, -0.0012518465518951416, 0.1119852364063263, -0.04777824133634567, -0.11033953726291656, -0.0019834190607070923, 0.07511374354362488, 0.03346188738942146, 0.04567580670118332, 0.01607615500688553, -0.11978744715452194, -0.027684614062309265, -0.11810372769832611, -0.07236332446336746, -0.1397903859615326, 0.016643911600112915, -0.0331784263253212, -0.15928933024406433, -0.02797050029039383, -0.04082926735281944, -0.07776840031147003, -0.0303192101418972, -0.0415252260863781, 0.0378422848880291, 0.005039233714342117, -0.04772216081619263, -0.07244144380092621, 0.041318800300359726, -0.05782885104417801, -0.08810093998908997, -0.09117284417152405, 0.020644333213567734, -0.04842957854270935, 0.07138752192258835, -0.09315599501132965, -0.030347615480422974, -0.014692461118102074, 0.012297019362449646, -0.030841020867228508, -0.05644162371754646, -0.03532044216990471, 0.011230461299419403, -0.08223026245832443, -0.0036413308698683977, -0.007380046881735325, 0.034203000366687775, -0.09255249053239822, 0.04423877224326134, 0.060940004885196686, 0.011710966005921364, -0.010275512933731079, 0.035095978528261185, 0.07766351103782654, -0.04137932136654854, -0.016768595203757286, 0.006906972266733646, 0.018900811672210693, -0.0460333451628685, 0.0159543976187706, -0.0911673903465271, -0.043929167091846466, -0.05668472498655319, -0.0702163577079773, -0.05017535388469696, 0.002804253250360489, -0.028781134635210037, 0.029742106795310974, -0.06264495104551315, -0.08493393659591675, 0.04035978019237518, -0.011198554188013077, -0.1074059009552002, -0.07598087936639786, 0.004927773028612137, -0.03577883169054985, -0.03508898615837097, -0.05987321585416794, -0.007907357066869736, -0.04161803796887398, 0.0496324822306633, -0.007396377623081207, 0.018260382115840912, -0.03228478878736496, 0.048785243183374405, -0.13792762160301208, 0.01161137968301773, -0.12799783051013947, 0.1062384843826294, 0.030416078865528107, -0.11721818149089813, -0.016323678195476532, 0.004907097667455673, -0.07348863035440445, -0.0072594694793224335, 0.07206277549266815, -0.0043105557560920715, 0.026900101453065872, 0.024687379598617554, -0.024702273309230804, -0.10472437739372253, -0.0008615627884864807, -0.00041065365076065063, -0.05675722286105156, 0.07124345004558563, 0.015517156571149826, -0.10255411267280579, -0.07821338623762131, -0.07205431908369064, -0.09731519222259521, -0.018231790512800217, 0.01595139503479004, -0.09178575873374939, -0.04620959609746933, -0.08433802425861359, 0.06261785328388214, -0.04674501344561577, 0.06106457859277725, -0.055348098278045654, 0.03103753924369812, 0.045758165419101715, -0.07093961536884308, -0.021314993500709534, -0.03924371674656868, -0.1147492527961731, -0.08267130702733994, -0.10385733842849731, 0.049228817224502563, -0.05383247882127762, 0.043704669922590256, -0.008862257935106754, 0.03573630377650261, -0.04555238038301468, 0.03954708203673363, -0.05152963101863861, 0.06565128266811371, 0.02781396359205246, -0.10509750992059708, -0.027832865715026855, -0.08941000699996948, 0.045785918831825256, -0.0719776451587677, -0.010678455233573914, 0.05125325173139572, -0.014066819101572037, -0.051749397069215775, -0.07179045677185059, 0.014541033655405045, -0.09485235810279846, -0.038350168615579605, 11.287851333618164, -0.029930628836154938, -0.04560215026140213, 0.025073770433664322, 0.006781280040740967, -0.08128298819065094, -0.012401331216096878, -0.034972645342350006, -0.08954479545354843, -0.04072831571102142, 0.08077380061149597, 0.008074220269918442, -0.0040908195078372955, -0.031033067032694817, -0.054836951196193695, -0.025922289118170738, -0.05300864204764366, -0.0361945703625679, -0.09700566530227661, 0.0520981065928936, -0.07447227835655212, -0.000743325799703598, 0.05252262204885483, -0.044181447476148605, -0.035932913422584534, -0.07800751179456711, 0.027212809771299362, -0.02503916621208191, -0.033798858523368835, -0.05120507627725601, -0.07306331396102905, 0.013345491141080856, -0.01511010155081749, 0.011410340666770935, -0.11327668279409409, -0.12855148315429688, -0.09100376814603806, -0.1417641043663025, 0.061741217970848083, -0.04440200701355934, -0.04910893738269806, -0.05162432789802551, -0.035466134548187256, -0.005076397210359573, 0.025091376155614853, -0.011416910216212273, -0.0531083382666111, 0.005889177322387695, -0.025228161364793777, -0.012193311005830765, 2.117170810699463, -0.04591729864478111, -0.05332637578248978, -0.014630578458309174, 0.020192302763462067, 0.00895405188202858, -0.03372953459620476, -0.06997473537921906, 0.042270414531230927, -0.13257011771202087, -0.010397452861070633, 0.07432204484939575, -0.05972758308053017, 0.02712666243314743, -0.09573117643594742, -0.0459117628633976, 0.054088324308395386, 0.01033525075763464, -0.07756026089191437, -0.0573279969394207, -0.09461336582899094, -0.07104150205850601, 0.03087412565946579, -0.0755431279540062, -0.01948397606611252, -0.09401027113199234, -0.14414411783218384, -0.10270333290100098, -0.1282731294631958, -0.026937298476696014, 0.006660958752036095, -0.05013681575655937, 0.03520514443516731, -0.018865492194890976, -0.07723785936832428, -0.11757329851388931, -0.13403189182281494, 0.03882896900177002, 0.047330886125564575, -0.05185893923044205, -0.028897013515233994, -0.043104786425828934, -0.033359259366989136, 0.037933316081762314, 0.0051291584968566895, -0.007171565666794777, -0.03743106126785278, -0.06549471616744995, -0.07547686994075775, -0.01974053680896759, -0.06976394355297089, 0.040482427924871445, 0.022465495392680168, -0.010050546377897263, -0.06386978924274445, -0.09068262577056885, 0.013001222163438797, -0.5061623454093933, 0.01514441892504692, -0.10592415928840637, -0.1009058952331543, -0.013493342325091362, -0.0081452876329422, 0.05691017583012581, -0.013348311185836792, -0.019968848675489426, 0.0162680484354496, -0.00032053887844085693, -0.0708085224032402, -0.022595316171646118, 0.033268459141254425, -0.02201848104596138, -0.07893199473619461, -0.04948145151138306, -0.13430513441562653, -0.036458536982536316, -0.09840817749500275, 0.014265051111578941, -0.015589304268360138, -0.1338047981262207, 0.045229971408843994, -0.04788099229335785, -0.025537531822919846, -0.07517781108617783, -0.08555106818675995, -0.007906990125775337, -0.02957303822040558, 0.010964028537273407, -0.020436502993106842, -0.029916172847151756, -0.11473263800144196, -0.006825808435678482, 0.02279839664697647, -0.07680626213550568, -0.1289168894290924, -0.036375224590301514, -0.008558662608265877, 0.038188349455595016, 0.05001077800989151, -0.06132357940077782, 0.003073018044233322, -0.03531203791499138, -0.05414225533604622, -0.02295578643679619, -0.10979865491390228, -0.0023830197751522064, 0.004488952457904816, -0.14693303406238556, -0.12939082086086273, 0.010291974991559982, -0.02933291532099247, -0.03568476065993309, -0.004800055176019669, -0.08759105205535889, -0.014052346348762512, -0.05588751286268234, 0.023363064974546432, -0.14744287729263306, -0.07429006695747375, -0.03524835780262947, -0.016594327986240387, 0.016994066536426544, -0.12251798808574677, 0.06691444665193558, 0.07293897867202759, 0.00367133691906929, -0.08075784891843796, -0.024078847840428352, -0.07485633343458176, 0.0333530530333519, 0.006173543632030487, -0.03900264948606491, -0.0828024223446846, 0.15890845656394958, -0.024385899305343628, -0.09161840379238129, -0.0452105849981308, 0.0020252764225006104, -0.06520378589630127, -0.05568908154964447, 0.0324629545211792, -0.08278405666351318, -0.1623374968767166, -0.06765606254339218, -0.002903810702264309, 0.025996964424848557, -0.04645310714840889, -0.07042078673839569, -0.0372580923140049, -0.14910362660884857, -0.019087843596935272, -0.061901651322841644, -0.000333152711391449, -0.02184946835041046, -0.06425124406814575, -0.01904168725013733, -0.04197186231613159, -0.1291770190000534, -0.0017940811812877655, -0.06490001082420349, 5.783754825592041, 0.02361913025379181, -0.03773896396160126, -0.08691199123859406, -0.05382503569126129, -0.044729091227054596, -0.06611819565296173, 0.02773626334965229, -0.044927503913640976, -0.03338519111275673, 0.034677907824516296, -0.06282204389572144, -0.001370500773191452, 0.04648745805025101, -0.08068066835403442]\n",
            "11048 768 [-0.0021092742681503296, -0.07381375133991241, -0.11492428183555603, -0.06525909155607224, -0.006907906383275986, 0.07458068430423737, -0.13755455613136292, -0.0265787485986948, 0.09799185395240784, -0.06330740451812744, -0.09887293726205826, 0.007764849811792374, -0.04174366965889931, -0.04749990999698639, -0.03481698036193848, -0.06963647156953812, -0.023818157613277435, -0.01967502012848854, 0.04264158383011818, -0.021032515913248062, 0.027185000479221344, 0.03490302339196205, 0.0002858266234397888, -0.07306428253650665, 0.01342175155878067, -0.01583166792988777, -0.0002553015947341919, 0.06236741691827774, -0.0389697402715683, -0.02120368182659149, -0.09736765921115875, 0.026904448866844177, -0.005332056432962418, -0.10552310943603516, 0.08812673389911652, 0.009326308965682983, -0.006019853055477142, -0.08018489927053452, 0.021022941917181015, 0.049953579902648926, -0.0428997240960598, -0.16011479496955872, -0.10330456495285034, 0.03169439360499382, -0.05761684477329254, 0.06548461318016052, -0.02391151525080204, -0.025021500885486603, 0.06773284077644348, -0.018145304173231125, -0.02461090311408043, -0.01210550032556057, -0.029869109392166138, -0.07176285237073898, -0.005887717008590698, 0.031301483511924744, -0.05596642196178436, -0.06208429113030434, 0.019079942256212234, 0.0444810688495636, -0.09431186318397522, 0.042394790798425674, -0.09355145692825317, -0.04745592176914215, -0.11919211596250534, -0.0017254576086997986, -0.0399644672870636, -0.1044105812907219, -0.03747072070837021, 0.03017301857471466, -0.04812752082943916, -0.0727221667766571, 0.05434884876012802, -0.1405887007713318, -0.03778189793229103, 0.02978564240038395, -0.024839801713824272, -0.03199885040521622, -0.11313368380069733, -0.08213594555854797, -0.030725043267011642, -0.005344804376363754, -0.11886153370141983, -0.030171841382980347, -0.10492401570081711, -0.05231596156954765, 0.07615455985069275, -0.0756358876824379, 0.04373127967119217, -0.08718693256378174, 0.021857500076293945, -0.023645736277103424, 0.0007566977292299271, -0.020516473799943924, -0.05587267130613327, -0.04720691591501236, 0.0049680303782224655, -1.2862257957458496, -0.009936422109603882, -0.07416459918022156, -0.06695801019668579, -0.14670169353485107, -0.07804343104362488, 0.049520909786224365, -0.19463030993938446, -0.002882853150367737, -0.012916218489408493, 0.00767376646399498, 0.0582837276160717, -0.09829776734113693, 0.0022475123405456543, -0.07967379689216614, 0.00034708529710769653, -0.024594565853476524, -0.09087704122066498, -0.10872669517993927, -0.09895053505897522, 0.045321300625801086, -0.020423930138349533, 0.010073581710457802, -0.010636823251843452, 0.030689310282468796, 0.009848307818174362, -0.05464987829327583, 0.011456772685050964, -0.014948338270187378, -0.0013650581240653992, -0.015651050955057144, -0.029482262209057808, -0.006773263216018677, -0.05493436008691788, -0.025068707764148712, -0.06628639250993729, -0.037188947200775146, -0.06735057383775711, 0.0274018794298172, -0.07367458939552307, -0.06291142106056213, -0.3307529091835022, -0.027676284313201904, -0.026437148451805115, -0.007797721773386002, -0.05947978049516678, -0.023882301524281502, 0.05342835932970047, 0.005197495222091675, 0.05247193202376366, 0.008436482399702072, -0.014085172675549984, -0.04367288202047348, 0.00575057789683342, -0.11726657301187515, 0.012297406792640686, 0.03177376836538315, -0.02962104044854641, -0.009406603872776031, -0.05707690864801407, 0.045749492943286896, -0.03448709100484848, -0.1624399721622467, 0.022795777767896652, 0.0062712132930755615, -0.035468995571136475, -0.004522029310464859, -0.04140479862689972, -0.023556813597679138, 0.0031661614775657654, -0.04219426214694977, -0.07030399143695831, -0.0652841255068779, 0.022442642599344254, -0.017239252105355263, 0.06689171493053436, 0.044440656900405884, -0.08991589397192001, -0.1212250143289566, -0.006174873560667038, -0.038408055901527405, -0.005800236016511917, -0.012326162308454514, -0.03167609125375748, -0.0577387735247612, -0.0799223855137825, -0.025563081726431847, 0.00356241874396801, 0.0057569630444049835, 0.024029608815908432, 0.025557082146406174, -0.11638405919075012, 0.05551194027066231, 0.01408388838171959, -0.005437683314085007, -0.18170574307441711, -0.01895471289753914, 0.01494869589805603, 0.016443174332380295, -0.06390269100666046, -0.0874740481376648, 0.011056125164031982, -0.008214019238948822, 0.024897202849388123, -0.09881085157394409, -0.005750827491283417, -0.028241144493222237, -0.013653136789798737, 0.05222972109913826, -0.08914799988269806, -0.02142595872282982, -0.019335906952619553, -0.03908644989132881, -0.08259965479373932, -0.03529848903417587, -0.0848856195807457, -0.05395282804965973, 0.010210776701569557, -0.1308826208114624, -0.11990777403116226, -0.0675596222281456, -0.0013353973627090454, -0.02810003235936165, -0.01260453462600708, 0.04433998093008995, -0.09460984170436859, -0.02895243838429451, -0.05407615751028061, -0.04866820573806763, -0.05070260912179947, -0.09160669893026352, 0.06099352240562439, 0.009749393910169601, -0.05902023985981941, -0.00021528080105781555, 0.018561094999313354, 0.0027698464691638947, -0.02224266156554222, -0.003215748816728592, -0.0016652122139930725, -0.03861816227436066, -0.1106581911444664, 0.003628421574831009, -0.05150292068719864, -0.011135987937450409, -0.07147690653800964, -0.0215458907186985, -0.08809303492307663, -0.04457325115799904, 0.032460927963256836, 0.018005460500717163, -0.11258754134178162, -0.02038254588842392, -0.08165133744478226, -0.0357389934360981, -0.04336582496762276, -0.04926662892103195, -0.03510882705450058, 0.12105555832386017, 0.01753988116979599, -0.09073600172996521, 0.13156236708164215, -0.10461065173149109, 0.03479383885860443, -0.03082331269979477, -0.030472487211227417, -0.06614820659160614, -0.02033582329750061, -0.023177344352006912, 0.06205883249640465, -0.008830998092889786, -0.020236864686012268, -0.027262073010206223, -0.04341587796807289, -0.02420460432767868, -0.029235970228910446, -0.005591895431280136, -0.0878731906414032, -0.046121060848236084, -0.10785636305809021, 0.0043541863560676575, -0.00736373383551836, -0.029281090945005417, -0.03844379633665085, -0.03049841709434986, 9.511696815490723, 0.012708283960819244, -0.017662538215517998, 0.08592113107442856, -0.014151506125926971, 0.10511234402656555, -0.015244808048009872, -0.0015395469963550568, 0.027680277824401855, -0.05892179161310196, -0.054080285131931305, -0.0021876879036426544, 0.0064392127096652985, 0.01579488255083561, -0.04750680550932884, -0.038177490234375, -0.03390820696949959, -0.11430707573890686, -0.006366651505231857, 0.014349155128002167, -0.0995204895734787, -0.1254384070634842, -0.002630205824971199, -0.02443426474928856, -0.001880653202533722, -0.05554579943418503, -0.14674963057041168, 0.0190720334649086, -0.040130507200956345, -0.03103621117770672, -0.051288217306137085, 0.027031563222408295, -0.06685608625411987, -0.1590934693813324, -0.03298752382397652, -0.006153542548418045, -0.035862479358911514, -0.03747688978910446, 0.01797974854707718, -0.06037817895412445, 0.11503437161445618, 0.05372078716754913, 0.07145465910434723, -0.08586379885673523, 0.057561084628105164, -0.11303051561117172, 0.04259819909930229, -0.03455401211977005, -0.10971896350383759, -0.028993727639317513, -0.010222967714071274, -0.03226547688245773, -0.08165273815393448, -0.09665092080831528, -0.08475619554519653, 0.05366777256131172, 0.0012212656438350677, -0.014116480946540833, -0.03965968266129494, -0.11647304892539978, -0.023461628705263138, 0.001591615378856659, -0.06250666826963425, -0.04348617419600487, -0.13940536975860596, -0.012336879968643188, 0.004157461225986481, -0.042787402868270874, -0.09519016742706299, 0.0037725940346717834, 0.04539552703499794, -0.14700838923454285, -0.0039373114705085754, 0.018529944121837616, -0.10227257013320923, -0.04307081550359726, -0.05401737987995148, -0.017686722800135612, -0.012264236807823181, 0.0337630920112133, -0.047940462827682495, -0.004683053120970726, -0.11140317469835281, 0.014415595680475235, -0.04029124975204468, -0.025283224880695343, 0.003168724477291107, 0.007863111793994904, -0.03126287832856178, 0.02378196269273758, 0.018382253125309944, 0.10834504663944244, -0.05715164914727211, -0.08247561752796173, -0.038814887404441833, -0.05246346443891525, -0.09082791209220886, -0.0718393623828888, -0.035316191613674164, -0.032987501472234726, 0.0022423788905143738, 0.05108797550201416, -0.0050169602036476135, 0.036086611449718475, 0.09463644027709961, 0.06177250295877457, -0.0018494948744773865, -0.03494777902960777, 0.00014076381921768188, 0.06943423300981522, -0.03698387369513512, -0.08437120914459229, -0.014308959245681763, -0.0012518465518951416, 0.1119852364063263, -0.04777824133634567, -0.11033953726291656, -0.0019834190607070923, 0.07511374354362488, 0.03346188738942146, 0.04567580670118332, 0.01607615500688553, -0.11978744715452194, -0.027684614062309265, -0.11810372769832611, -0.07236332446336746, -0.1397903859615326, 0.016643911600112915, -0.0331784263253212, -0.15928933024406433, -0.02797050029039383, -0.04082926735281944, -0.07776840031147003, -0.0303192101418972, -0.0415252260863781, 0.0378422848880291, 0.005039233714342117, -0.04772216081619263, -0.07244144380092621, 0.041318800300359726, -0.05782885104417801, -0.08810093998908997, -0.09117284417152405, 0.020644333213567734, -0.04842957854270935, 0.07138752192258835, -0.09315599501132965, -0.030347615480422974, -0.014692461118102074, 0.012297019362449646, -0.030841020867228508, -0.05644162371754646, -0.03532044216990471, 0.011230461299419403, -0.08223026245832443, -0.0036413308698683977, -0.007380046881735325, 0.034203000366687775, -0.09255249053239822, 0.04423877224326134, 0.060940004885196686, 0.011710966005921364, -0.010275512933731079, 0.035095978528261185, 0.07766351103782654, -0.04137932136654854, -0.016768595203757286, 0.006906972266733646, 0.018900811672210693, -0.0460333451628685, 0.0159543976187706, -0.0911673903465271, -0.043929167091846466, -0.05668472498655319, -0.0702163577079773, -0.05017535388469696, 0.002804253250360489, -0.028781134635210037, 0.029742106795310974, -0.06264495104551315, -0.08493393659591675, 0.04035978019237518, -0.011198554188013077, -0.1074059009552002, -0.07598087936639786, 0.004927773028612137, -0.03577883169054985, -0.03508898615837097, -0.05987321585416794, -0.007907357066869736, -0.04161803796887398, 0.0496324822306633, -0.007396377623081207, 0.018260382115840912, -0.03228478878736496, 0.048785243183374405, -0.13792762160301208, 0.01161137968301773, -0.12799783051013947, 0.1062384843826294, 0.030416078865528107, -0.11721818149089813, -0.016323678195476532, 0.004907097667455673, -0.07348863035440445, -0.0072594694793224335, 0.07206277549266815, -0.0043105557560920715, 0.026900101453065872, 0.024687379598617554, -0.024702273309230804, -0.10472437739372253, -0.0008615627884864807, -0.00041065365076065063, -0.05675722286105156, 0.07124345004558563, 0.015517156571149826, -0.10255411267280579, -0.07821338623762131, -0.07205431908369064, -0.09731519222259521, -0.018231790512800217, 0.01595139503479004, -0.09178575873374939, -0.04620959609746933, -0.08433802425861359, 0.06261785328388214, -0.04674501344561577, 0.06106457859277725, -0.055348098278045654, 0.03103753924369812, 0.045758165419101715, -0.07093961536884308, -0.021314993500709534, -0.03924371674656868, -0.1147492527961731, -0.08267130702733994, -0.10385733842849731, 0.049228817224502563, -0.05383247882127762, 0.043704669922590256, -0.008862257935106754, 0.03573630377650261, -0.04555238038301468, 0.03954708203673363, -0.05152963101863861, 0.06565128266811371, 0.02781396359205246, -0.10509750992059708, -0.027832865715026855, -0.08941000699996948, 0.045785918831825256, -0.0719776451587677, -0.010678455233573914, 0.05125325173139572, -0.014066819101572037, -0.051749397069215775, -0.07179045677185059, 0.014541033655405045, -0.09485235810279846, -0.038350168615579605, 11.287851333618164, -0.029930628836154938, -0.04560215026140213, 0.025073770433664322, 0.006781280040740967, -0.08128298819065094, -0.012401331216096878, -0.034972645342350006, -0.08954479545354843, -0.04072831571102142, 0.08077380061149597, 0.008074220269918442, -0.0040908195078372955, -0.031033067032694817, -0.054836951196193695, -0.025922289118170738, -0.05300864204764366, -0.0361945703625679, -0.09700566530227661, 0.0520981065928936, -0.07447227835655212, -0.000743325799703598, 0.05252262204885483, -0.044181447476148605, -0.035932913422584534, -0.07800751179456711, 0.027212809771299362, -0.02503916621208191, -0.033798858523368835, -0.05120507627725601, -0.07306331396102905, 0.013345491141080856, -0.01511010155081749, 0.011410340666770935, -0.11327668279409409, -0.12855148315429688, -0.09100376814603806, -0.1417641043663025, 0.061741217970848083, -0.04440200701355934, -0.04910893738269806, -0.05162432789802551, -0.035466134548187256, -0.005076397210359573, 0.025091376155614853, -0.011416910216212273, -0.0531083382666111, 0.005889177322387695, -0.025228161364793777, -0.012193311005830765, 2.117170810699463, -0.04591729864478111, -0.05332637578248978, -0.014630578458309174, 0.020192302763462067, 0.00895405188202858, -0.03372953459620476, -0.06997473537921906, 0.042270414531230927, -0.13257011771202087, -0.010397452861070633, 0.07432204484939575, -0.05972758308053017, 0.02712666243314743, -0.09573117643594742, -0.0459117628633976, 0.054088324308395386, 0.01033525075763464, -0.07756026089191437, -0.0573279969394207, -0.09461336582899094, -0.07104150205850601, 0.03087412565946579, -0.0755431279540062, -0.01948397606611252, -0.09401027113199234, -0.14414411783218384, -0.10270333290100098, -0.1282731294631958, -0.026937298476696014, 0.006660958752036095, -0.05013681575655937, 0.03520514443516731, -0.018865492194890976, -0.07723785936832428, -0.11757329851388931, -0.13403189182281494, 0.03882896900177002, 0.047330886125564575, -0.05185893923044205, -0.028897013515233994, -0.043104786425828934, -0.033359259366989136, 0.037933316081762314, 0.0051291584968566895, -0.007171565666794777, -0.03743106126785278, -0.06549471616744995, -0.07547686994075775, -0.01974053680896759, -0.06976394355297089, 0.040482427924871445, 0.022465495392680168, -0.010050546377897263, -0.06386978924274445, -0.09068262577056885, 0.013001222163438797, -0.5061623454093933, 0.01514441892504692, -0.10592415928840637, -0.1009058952331543, -0.013493342325091362, -0.0081452876329422, 0.05691017583012581, -0.013348311185836792, -0.019968848675489426, 0.0162680484354496, -0.00032053887844085693, -0.0708085224032402, -0.022595316171646118, 0.033268459141254425, -0.02201848104596138, -0.07893199473619461, -0.04948145151138306, -0.13430513441562653, -0.036458536982536316, -0.09840817749500275, 0.014265051111578941, -0.015589304268360138, -0.1338047981262207, 0.045229971408843994, -0.04788099229335785, -0.025537531822919846, -0.07517781108617783, -0.08555106818675995, -0.007906990125775337, -0.02957303822040558, 0.010964028537273407, -0.020436502993106842, -0.029916172847151756, -0.11473263800144196, -0.006825808435678482, 0.02279839664697647, -0.07680626213550568, -0.1289168894290924, -0.036375224590301514, -0.008558662608265877, 0.038188349455595016, 0.05001077800989151, -0.06132357940077782, 0.003073018044233322, -0.03531203791499138, -0.05414225533604622, -0.02295578643679619, -0.10979865491390228, -0.0023830197751522064, 0.004488952457904816, -0.14693303406238556, -0.12939082086086273, 0.010291974991559982, -0.02933291532099247, -0.03568476065993309, -0.004800055176019669, -0.08759105205535889, -0.014052346348762512, -0.05588751286268234, 0.023363064974546432, -0.14744287729263306, -0.07429006695747375, -0.03524835780262947, -0.016594327986240387, 0.016994066536426544, -0.12251798808574677, 0.06691444665193558, 0.07293897867202759, 0.00367133691906929, -0.08075784891843796, -0.024078847840428352, -0.07485633343458176, 0.0333530530333519, 0.006173543632030487, -0.03900264948606491, -0.0828024223446846, 0.15890845656394958, -0.024385899305343628, -0.09161840379238129, -0.0452105849981308, 0.0020252764225006104, -0.06520378589630127, -0.05568908154964447, 0.0324629545211792, -0.08278405666351318, -0.1623374968767166, -0.06765606254339218, -0.002903810702264309, 0.025996964424848557, -0.04645310714840889, -0.07042078673839569, -0.0372580923140049, -0.14910362660884857, -0.019087843596935272, -0.061901651322841644, -0.000333152711391449, -0.02184946835041046, -0.06425124406814575, -0.01904168725013733, -0.04197186231613159, -0.1291770190000534, -0.0017940811812877655, -0.06490001082420349, 5.783754825592041, 0.02361913025379181, -0.03773896396160126, -0.08691199123859406, -0.05382503569126129, -0.044729091227054596, -0.06611819565296173, 0.02773626334965229, -0.044927503913640976, -0.03338519111275673, 0.034677907824516296, -0.06282204389572144, -0.001370500773191452, 0.04648745805025101, -0.08068066835403442]\n"
          ],
          "name": "stdout"
        }
      ]
    },
    {
      "cell_type": "markdown",
      "metadata": {
        "id": "P1Q2hNAeLFsJ"
      },
      "source": [
        "### Reduce embeddings"
      ]
    },
    {
      "cell_type": "code",
      "metadata": {
        "colab": {
          "base_uri": "https://localhost:8080/"
        },
        "id": "iorXkPEe2oIY",
        "outputId": "aee6b0ee-e43b-4e05-82fd-308bbe3cf099"
      },
      "source": [
        "from sklearn.manifold import TSNE\n",
        "import numpy as np\n",
        "from sklearn.decomposition import PCA\n",
        "\n",
        "# reduced_embeddings = TSNE(verbose=COMMENT_DIMENSIONS).fit_transform(comment_embeddings)\n",
        "\n",
        "pca = PCA(n_components = COMMENT_DIMENSIONS)\n",
        "samples = np.array(comment_embeddings)\n",
        "reduced_embeddings = pca.fit_transform(samples).tolist()\n",
        "\n",
        "print(len(reduced_embeddings), len(reduced_embeddings[0]), reduced_embeddings[0])"
      ],
      "execution_count": 16,
      "outputs": [
        {
          "output_type": "stream",
          "text": [
            "11048 20 [7.845292310613456, 4.628665314575266, 0.8785070598723065, -1.7030493792400954, 0.7023583855166133, 0.25813270612300493, -0.18706157316442965, -0.033971972069033365, -0.049833672665746016, -0.00440830595213049, -0.0285312353973593, 0.008130980707560647, 0.009532910365475782, 0.07594895259281183, -0.0360898977566427, 0.004935803769604501, 0.044994615366270155, 0.0418614366719351, 0.007468988061556442, -0.017554697436681015]\n"
          ],
          "name": "stdout"
        }
      ]
    },
    {
      "cell_type": "markdown",
      "metadata": {
        "id": "cvh3N8k-MGcd"
      },
      "source": [
        "### Save and load reduced embeddings"
      ]
    },
    {
      "cell_type": "code",
      "metadata": {
        "id": "XviRo1efLXZ2"
      },
      "source": [
        "import json\n",
        "with open('reduced-embeddings.json', 'w') as file1, open('/content/drive/MyDrive/DL-project/reduced-embeddings.json', 'w') as file2:\n",
        "    json.dump(reduced_embeddings, file1)\n",
        "    json.dump(reduced_embeddings, file2)"
      ],
      "execution_count": 20,
      "outputs": []
    },
    {
      "cell_type": "code",
      "metadata": {
        "id": "Horo_Cw5L8KK"
      },
      "source": [
        "reduced_embeddings = []\n",
        "with open('reduced_embeddings.json', 'r') as file:\n",
        "    reduced_embeddings = json.load(file)"
      ],
      "execution_count": null,
      "outputs": []
    },
    {
      "cell_type": "markdown",
      "metadata": {
        "id": "MAyWdcHNTmIf"
      },
      "source": [
        "### Move embeddings to dictionary"
      ]
    },
    {
      "cell_type": "code",
      "metadata": {
        "colab": {
          "base_uri": "https://localhost:8080/"
        },
        "id": "AmSY4IvZTqtM",
        "outputId": "f44f471a-9523-4742-cc08-387d22f6a0b3"
      },
      "source": [
        "info2embedding = {}\n",
        "for i in range(len(reduced_embeddings)):\n",
        "    info2embedding[comment_infos[i]] = reduced_embeddings[i]\n",
        "\n",
        "for key in info2embedding:\n",
        "    print(key, ':\\n', info2embedding[key])\n",
        "    break"
      ],
      "execution_count": 19,
      "outputs": [
        {
          "output_type": "stream",
          "text": [
            "('Afghanistan', 'positive', 23) :\n",
            " [7.845292310613456, 4.628665314575266, 0.8785070598723065, -1.7030493792400954, 0.7023583855166133, 0.25813270612300493, -0.18706157316442965, -0.033971972069033365, -0.049833672665746016, -0.00440830595213049, -0.0285312353973593, 0.008130980707560647, 0.009532910365475782, 0.07594895259281183, -0.0360898977566427, 0.004935803769604501, 0.044994615366270155, 0.0418614366719351, 0.007468988061556442, -0.017554697436681015]\n"
          ],
          "name": "stdout"
        }
      ]
    },
    {
      "cell_type": "markdown",
      "metadata": {
        "id": "eAZsJbZFU6Nr"
      },
      "source": [
        "# 4. Creating Pandas dataframe"
      ]
    },
    {
      "cell_type": "code",
      "metadata": {
        "colab": {
          "base_uri": "https://localhost:8080/"
        },
        "id": "eKPE4LjpVCYA",
        "outputId": "8aa0ec04-da4c-49ec-ef20-ce35bddb9d4d"
      },
      "source": [
        "features = {'time_idx': [], 'country': [], 'region': [], 'confirmed-cases': []}\n",
        "\n",
        "for log_type in ['positive', 'negative']:\n",
        "    for category in category_dic:\n",
        "        features[log_type + '-' + category] = []\n",
        "    for measure in measure_dic:\n",
        "        features[log_type + '-' + measure] = []\n",
        "    for i in range(COMMENT_DIMENSIONS):\n",
        "        features[log_type + '-comment-embedding' + str(i)] = []\n",
        "\n",
        "dataframe = pd.DataFrame(features)\n",
        "\n",
        "for country in tqdm(regulations):\n",
        "    for day in range(number_of_days):\n",
        "\n",
        "        new_entry = {}\n",
        "        new_entry['country'] = country\n",
        "        new_entry['time_idx'] = day\n",
        "        new_entry['region'] = country2region[country]\n",
        "        new_entry['confirmed-cases'] = time_series_confirmed_cases[country][day]\n",
        "\n",
        "        for log_type in ['positive', 'negative']:\n",
        "\n",
        "            for category in category_dic:\n",
        "                new_entry[log_type + '-' + category] = 0\n",
        "            for index in regulations[country][log_type][day]:\n",
        "                category = dataset['CATEGORY'][index]\n",
        "                new_entry[log_type + '-' + category] += 1\n",
        "\n",
        "            for measure in measure_dic:\n",
        "                new_entry[log_type + '-' + measure] = 0\n",
        "            for index in regulations[country][log_type][day]:\n",
        "                measure = dataset['MEASURE'][index]\n",
        "                new_entry[log_type + '-' + measure] += 1\n",
        "            \n",
        "            embedding = [0 for i in range(COMMENT_DIMENSIONS)]\n",
        "            if (country, log_type, day) in info2embedding:\n",
        "                embedding = info2embedding[(country, log_type, day)]\n",
        "            for i in range(COMMENT_DIMENSIONS):\n",
        "                new_entry[log_type + '-comment-embedding' + str(i)] = embedding[i]\n",
        "        \n",
        "        dataframe = dataframe.append(new_entry, ignore_index=True)\n",
        "\n",
        "print(dataframe.info())\n",
        "dataframe.to_excel('data.xlsx', sheet_name='main', index=False)\n",
        "dataframe.to_excel('/content/drive/MyDrive/DL-project/data.xlsx', sheet_name='main', index=False)"
      ],
      "execution_count": 23,
      "outputs": [
        {
          "output_type": "stream",
          "text": [
            "100%|██████████| 175/175 [1:23:39<00:00, 28.68s/it]\n"
          ],
          "name": "stderr"
        },
        {
          "output_type": "stream",
          "text": [
            "<class 'pandas.core.frame.DataFrame'>\n",
            "RangeIndex: 74200 entries, 0 to 74199\n",
            "Columns: 126 entries, time_idx to negative-comment-embedding19\n",
            "dtypes: float64(124), object(2)\n",
            "memory usage: 71.3+ MB\n",
            "None\n"
          ],
          "name": "stdout"
        }
      ]
    },
    {
      "cell_type": "markdown",
      "metadata": {
        "id": "6-8ZeCKctsO_"
      },
      "source": [
        "# 5. Testing TFT usage"
      ]
    },
    {
      "cell_type": "markdown",
      "metadata": {
        "id": "PmvsAiNy7hvw"
      },
      "source": [
        "### Reading data file"
      ]
    },
    {
      "cell_type": "code",
      "metadata": {
        "colab": {
          "base_uri": "https://localhost:8080/"
        },
        "id": "clf_hb25untG",
        "outputId": "8ac5475b-7ca5-4772-c370-3d79a4f4353f"
      },
      "source": [
        "xl_file = pd.ExcelFile('data.xlsx')\n",
        "\n",
        "sheets = {sheet_name: xl_file.parse(sheet_name) \n",
        "          for sheet_name in xl_file.sheet_names}\n",
        "\n",
        "data = sheets['main']\n",
        "\n",
        "print('\\n', dataframe.info(), '\\n')"
      ],
      "execution_count": 24,
      "outputs": [
        {
          "output_type": "stream",
          "text": [
            "<class 'pandas.core.frame.DataFrame'>\n",
            "RangeIndex: 74200 entries, 0 to 74199\n",
            "Columns: 126 entries, time_idx to negative-comment-embedding19\n",
            "dtypes: float64(124), object(2)\n",
            "memory usage: 71.3+ MB\n",
            "\n",
            " None \n",
            "\n"
          ],
          "name": "stdout"
        }
      ]
    },
    {
      "cell_type": "markdown",
      "metadata": {
        "id": "5OSvmmaD7nPG"
      },
      "source": [
        "### Entering training data"
      ]
    },
    {
      "cell_type": "code",
      "metadata": {
        "colab": {
          "base_uri": "https://localhost:8080/",
          "height": 1000
        },
        "id": "WbnzUv4RuV4v",
        "outputId": "26bcf276-b6a9-49ea-fdba-9423007bb118"
      },
      "source": [
        "max_prediction_length = 15\n",
        "max_encoder_length = 60\n",
        "training_cutoff = data[\"time_idx\"].max() - max_prediction_length\n",
        "\n",
        "feature_list = []\n",
        "for log_type in ['positive', 'negative']:\n",
        "    for category in category_dic:\n",
        "        feature_list.append(log_type + '-' + category)\n",
        "    for measure in measure_dic:\n",
        "        feature_list.append(log_type + '-' + measure) \n",
        "    for i in range(COMMENT_DIMENSIONS):\n",
        "        feature_list.append(log_type + '-comment-embedding' + str(i)) \n",
        "\n",
        "training = TimeSeriesDataSet(\n",
        "    data[lambda x: x.time_idx <= training_cutoff],\n",
        "    time_idx=\"time_idx\",\n",
        "    target=\"confirmed-cases\",\n",
        "    group_ids=[\"country\"],\n",
        "    min_encoder_length=max_encoder_length // 2,  # keep encoder length long (as it is in the validation set)\n",
        "    max_encoder_length=max_encoder_length,\n",
        "    min_prediction_length=1,\n",
        "    max_prediction_length=max_prediction_length,\n",
        "    static_categoricals=[\"region\"],\n",
        "    static_reals=[],\n",
        "    time_varying_known_categoricals=[],  # We can further add information like \"special_days\" and \"month\"\n",
        "    variable_groups={},  # group of categorical variables can be treated as one variable\n",
        "    time_varying_known_reals=[\"time_idx\"],\n",
        "    time_varying_unknown_categoricals=[],\n",
        "    time_varying_unknown_reals=feature_list,\n",
        "    add_relative_time_idx=True,\n",
        "    add_target_scales=True,\n",
        "    add_encoder_length=True,\n",
        ")\n",
        "\n",
        "# create validation set (predict=True) which means to predict the last max_prediction_length points in time\n",
        "# for each series\n",
        "validation = TimeSeriesDataSet.from_dataset(training, data, predict=True, stop_randomization=True)\n",
        "\n",
        "# create dataloaders for model\n",
        "batch_size = 128  # set this between 32 to 128\n",
        "train_dataloader = training.to_dataloader(train=True, batch_size=batch_size, num_workers=0)\n",
        "val_dataloader = validation.to_dataloader(train=False, batch_size=batch_size * 10, num_workers=0)"
      ],
      "execution_count": 25,
      "outputs": [
        {
          "output_type": "stream",
          "text": [
            "/usr/local/lib/python3.7/dist-packages/pytorch_forecasting/data/timeseries.py:517: UserWarning: Target scales will be only added for continous targets\n",
            "  warnings.warn(\"Target scales will be only added for continous targets\", UserWarning)\n"
          ],
          "name": "stderr"
        },
        {
          "output_type": "error",
          "ename": "KeyError",
          "evalue": "ignored",
          "traceback": [
            "\u001b[0;31m---------------------------------------------------------------------------\u001b[0m",
            "\u001b[0;31mKeyError\u001b[0m                                  Traceback (most recent call last)",
            "\u001b[0;32m/usr/local/lib/python3.7/dist-packages/pytorch_forecasting/data/encoders.py\u001b[0m in \u001b[0;36mtransform\u001b[0;34m(self, y, return_norm, target_scale, ignore_na)\u001b[0m\n\u001b[1;32m    131\u001b[0m                 \u001b[0;32mtry\u001b[0m\u001b[0;34m:\u001b[0m\u001b[0;34m\u001b[0m\u001b[0;34m\u001b[0m\u001b[0m\n\u001b[0;32m--> 132\u001b[0;31m                     \u001b[0mencoded\u001b[0m \u001b[0;34m=\u001b[0m \u001b[0;34m[\u001b[0m\u001b[0mself\u001b[0m\u001b[0;34m.\u001b[0m\u001b[0mclasses_\u001b[0m\u001b[0;34m[\u001b[0m\u001b[0mv\u001b[0m\u001b[0;34m]\u001b[0m \u001b[0;32mfor\u001b[0m \u001b[0mv\u001b[0m \u001b[0;32min\u001b[0m \u001b[0my\u001b[0m\u001b[0;34m]\u001b[0m\u001b[0;34m\u001b[0m\u001b[0;34m\u001b[0m\u001b[0m\n\u001b[0m\u001b[1;32m    133\u001b[0m                 \u001b[0;32mexcept\u001b[0m \u001b[0mKeyError\u001b[0m \u001b[0;32mas\u001b[0m \u001b[0me\u001b[0m\u001b[0;34m:\u001b[0m\u001b[0;34m\u001b[0m\u001b[0;34m\u001b[0m\u001b[0m\n",
            "\u001b[0;32m/usr/local/lib/python3.7/dist-packages/pytorch_forecasting/data/encoders.py\u001b[0m in \u001b[0;36m<listcomp>\u001b[0;34m(.0)\u001b[0m\n\u001b[1;32m    131\u001b[0m                 \u001b[0;32mtry\u001b[0m\u001b[0;34m:\u001b[0m\u001b[0;34m\u001b[0m\u001b[0;34m\u001b[0m\u001b[0m\n\u001b[0;32m--> 132\u001b[0;31m                     \u001b[0mencoded\u001b[0m \u001b[0;34m=\u001b[0m \u001b[0;34m[\u001b[0m\u001b[0mself\u001b[0m\u001b[0;34m.\u001b[0m\u001b[0mclasses_\u001b[0m\u001b[0;34m[\u001b[0m\u001b[0mv\u001b[0m\u001b[0;34m]\u001b[0m \u001b[0;32mfor\u001b[0m \u001b[0mv\u001b[0m \u001b[0;32min\u001b[0m \u001b[0my\u001b[0m\u001b[0;34m]\u001b[0m\u001b[0;34m\u001b[0m\u001b[0;34m\u001b[0m\u001b[0m\n\u001b[0m\u001b[1;32m    133\u001b[0m                 \u001b[0;32mexcept\u001b[0m \u001b[0mKeyError\u001b[0m \u001b[0;32mas\u001b[0m \u001b[0me\u001b[0m\u001b[0;34m:\u001b[0m\u001b[0;34m\u001b[0m\u001b[0;34m\u001b[0m\u001b[0m\n",
            "\u001b[0;31mKeyError\u001b[0m: 6057",
            "\nDuring handling of the above exception, another exception occurred:\n",
            "\u001b[0;31mKeyError\u001b[0m                                  Traceback (most recent call last)",
            "\u001b[0;32m<ipython-input-25-57dfd8753c8b>\u001b[0m in \u001b[0;36m<module>\u001b[0;34m()\u001b[0m\n\u001b[1;32m     35\u001b[0m \u001b[0;31m# create validation set (predict=True) which means to predict the last max_prediction_length points in time\u001b[0m\u001b[0;34m\u001b[0m\u001b[0;34m\u001b[0m\u001b[0;34m\u001b[0m\u001b[0m\n\u001b[1;32m     36\u001b[0m \u001b[0;31m# for each series\u001b[0m\u001b[0;34m\u001b[0m\u001b[0;34m\u001b[0m\u001b[0;34m\u001b[0m\u001b[0m\n\u001b[0;32m---> 37\u001b[0;31m \u001b[0mvalidation\u001b[0m \u001b[0;34m=\u001b[0m \u001b[0mTimeSeriesDataSet\u001b[0m\u001b[0;34m.\u001b[0m\u001b[0mfrom_dataset\u001b[0m\u001b[0;34m(\u001b[0m\u001b[0mtraining\u001b[0m\u001b[0;34m,\u001b[0m \u001b[0mdata\u001b[0m\u001b[0;34m,\u001b[0m \u001b[0mpredict\u001b[0m\u001b[0;34m=\u001b[0m\u001b[0;32mTrue\u001b[0m\u001b[0;34m,\u001b[0m \u001b[0mstop_randomization\u001b[0m\u001b[0;34m=\u001b[0m\u001b[0;32mTrue\u001b[0m\u001b[0;34m)\u001b[0m\u001b[0;34m\u001b[0m\u001b[0;34m\u001b[0m\u001b[0m\n\u001b[0m\u001b[1;32m     38\u001b[0m \u001b[0;34m\u001b[0m\u001b[0m\n\u001b[1;32m     39\u001b[0m \u001b[0;31m# create dataloaders for model\u001b[0m\u001b[0;34m\u001b[0m\u001b[0;34m\u001b[0m\u001b[0;34m\u001b[0m\u001b[0m\n",
            "\u001b[0;32m/usr/local/lib/python3.7/dist-packages/pytorch_forecasting/data/timeseries.py\u001b[0m in \u001b[0;36mfrom_dataset\u001b[0;34m(cls, dataset, data, stop_randomization, predict, **update_kwargs)\u001b[0m\n\u001b[1;32m   1098\u001b[0m         \"\"\"\n\u001b[1;32m   1099\u001b[0m         return cls.from_parameters(\n\u001b[0;32m-> 1100\u001b[0;31m             \u001b[0mdataset\u001b[0m\u001b[0;34m.\u001b[0m\u001b[0mget_parameters\u001b[0m\u001b[0;34m(\u001b[0m\u001b[0;34m)\u001b[0m\u001b[0;34m,\u001b[0m \u001b[0mdata\u001b[0m\u001b[0;34m,\u001b[0m \u001b[0mstop_randomization\u001b[0m\u001b[0;34m=\u001b[0m\u001b[0mstop_randomization\u001b[0m\u001b[0;34m,\u001b[0m \u001b[0mpredict\u001b[0m\u001b[0;34m=\u001b[0m\u001b[0mpredict\u001b[0m\u001b[0;34m,\u001b[0m \u001b[0;34m**\u001b[0m\u001b[0mupdate_kwargs\u001b[0m\u001b[0;34m\u001b[0m\u001b[0;34m\u001b[0m\u001b[0m\n\u001b[0m\u001b[1;32m   1101\u001b[0m         )\n\u001b[1;32m   1102\u001b[0m \u001b[0;34m\u001b[0m\u001b[0m\n",
            "\u001b[0;32m/usr/local/lib/python3.7/dist-packages/pytorch_forecasting/data/timeseries.py\u001b[0m in \u001b[0;36mfrom_parameters\u001b[0;34m(cls, parameters, data, stop_randomization, predict, **update_kwargs)\u001b[0m\n\u001b[1;32m   1143\u001b[0m         \u001b[0mparameters\u001b[0m\u001b[0;34m.\u001b[0m\u001b[0mupdate\u001b[0m\u001b[0;34m(\u001b[0m\u001b[0mupdate_kwargs\u001b[0m\u001b[0;34m)\u001b[0m\u001b[0;34m\u001b[0m\u001b[0;34m\u001b[0m\u001b[0m\n\u001b[1;32m   1144\u001b[0m \u001b[0;34m\u001b[0m\u001b[0m\n\u001b[0;32m-> 1145\u001b[0;31m         \u001b[0mnew\u001b[0m \u001b[0;34m=\u001b[0m \u001b[0mcls\u001b[0m\u001b[0;34m(\u001b[0m\u001b[0mdata\u001b[0m\u001b[0;34m,\u001b[0m \u001b[0;34m**\u001b[0m\u001b[0mparameters\u001b[0m\u001b[0;34m)\u001b[0m\u001b[0;34m\u001b[0m\u001b[0;34m\u001b[0m\u001b[0m\n\u001b[0m\u001b[1;32m   1146\u001b[0m         \u001b[0;32mreturn\u001b[0m \u001b[0mnew\u001b[0m\u001b[0;34m\u001b[0m\u001b[0;34m\u001b[0m\u001b[0m\n\u001b[1;32m   1147\u001b[0m \u001b[0;34m\u001b[0m\u001b[0m\n",
            "\u001b[0;32m/usr/local/lib/python3.7/dist-packages/pytorch_forecasting/data/timeseries.py\u001b[0m in \u001b[0;36m__init__\u001b[0;34m(self, data, time_idx, target, group_ids, weight, max_encoder_length, min_encoder_length, min_prediction_idx, min_prediction_length, max_prediction_length, static_categoricals, static_reals, time_varying_known_categoricals, time_varying_known_reals, time_varying_unknown_categoricals, time_varying_unknown_reals, variable_groups, dropout_categoricals, constant_fill_strategy, allow_missings, lags, add_relative_time_idx, add_target_scales, add_encoder_length, target_normalizer, categorical_encoders, scalers, randomize_length, predict_mode)\u001b[0m\n\u001b[1;32m    428\u001b[0m \u001b[0;34m\u001b[0m\u001b[0m\n\u001b[1;32m    429\u001b[0m         \u001b[0;31m# preprocess data\u001b[0m\u001b[0;34m\u001b[0m\u001b[0;34m\u001b[0m\u001b[0;34m\u001b[0m\u001b[0m\n\u001b[0;32m--> 430\u001b[0;31m         \u001b[0mdata\u001b[0m \u001b[0;34m=\u001b[0m \u001b[0mself\u001b[0m\u001b[0;34m.\u001b[0m\u001b[0m_preprocess_data\u001b[0m\u001b[0;34m(\u001b[0m\u001b[0mdata\u001b[0m\u001b[0;34m)\u001b[0m\u001b[0;34m\u001b[0m\u001b[0;34m\u001b[0m\u001b[0m\n\u001b[0m\u001b[1;32m    431\u001b[0m         \u001b[0;32mfor\u001b[0m \u001b[0mtarget\u001b[0m \u001b[0;32min\u001b[0m \u001b[0mself\u001b[0m\u001b[0;34m.\u001b[0m\u001b[0mtarget_names\u001b[0m\u001b[0;34m:\u001b[0m\u001b[0;34m\u001b[0m\u001b[0;34m\u001b[0m\u001b[0m\n\u001b[1;32m    432\u001b[0m             \u001b[0;32massert\u001b[0m \u001b[0mtarget\u001b[0m \u001b[0;32mnot\u001b[0m \u001b[0;32min\u001b[0m \u001b[0mself\u001b[0m\u001b[0;34m.\u001b[0m\u001b[0mscalers\u001b[0m\u001b[0;34m,\u001b[0m \u001b[0;34m\"Target normalizer is separate and not in scalers.\"\u001b[0m\u001b[0;34m\u001b[0m\u001b[0;34m\u001b[0m\u001b[0m\n",
            "\u001b[0;32m/usr/local/lib/python3.7/dist-packages/pytorch_forecasting/data/timeseries.py\u001b[0m in \u001b[0;36m_preprocess_data\u001b[0;34m(self, data)\u001b[0m\n\u001b[1;32m    732\u001b[0m \u001b[0;34m\u001b[0m\u001b[0m\n\u001b[1;32m    733\u001b[0m             \u001b[0;32melif\u001b[0m \u001b[0misinstance\u001b[0m\u001b[0;34m(\u001b[0m\u001b[0mself\u001b[0m\u001b[0;34m.\u001b[0m\u001b[0mtarget_normalizer\u001b[0m\u001b[0;34m,\u001b[0m \u001b[0mNaNLabelEncoder\u001b[0m\u001b[0;34m)\u001b[0m\u001b[0;34m:\u001b[0m\u001b[0;34m\u001b[0m\u001b[0;34m\u001b[0m\u001b[0m\n\u001b[0;32m--> 734\u001b[0;31m                 \u001b[0mdata\u001b[0m\u001b[0;34m[\u001b[0m\u001b[0mself\u001b[0m\u001b[0;34m.\u001b[0m\u001b[0mtarget\u001b[0m\u001b[0;34m]\u001b[0m \u001b[0;34m=\u001b[0m \u001b[0mself\u001b[0m\u001b[0;34m.\u001b[0m\u001b[0mtarget_normalizer\u001b[0m\u001b[0;34m.\u001b[0m\u001b[0mtransform\u001b[0m\u001b[0;34m(\u001b[0m\u001b[0mdata\u001b[0m\u001b[0;34m[\u001b[0m\u001b[0mself\u001b[0m\u001b[0;34m.\u001b[0m\u001b[0mtarget\u001b[0m\u001b[0;34m]\u001b[0m\u001b[0;34m)\u001b[0m\u001b[0;34m\u001b[0m\u001b[0;34m\u001b[0m\u001b[0m\n\u001b[0m\u001b[1;32m    735\u001b[0m                 \u001b[0;31m# overwrite target because it requires encoding (continuous targets should not be normalized)\u001b[0m\u001b[0;34m\u001b[0m\u001b[0;34m\u001b[0m\u001b[0;34m\u001b[0m\u001b[0m\n\u001b[1;32m    736\u001b[0m                 \u001b[0mdata\u001b[0m\u001b[0;34m[\u001b[0m\u001b[0;34mf\"__target__{self.target}\"\u001b[0m\u001b[0;34m]\u001b[0m \u001b[0;34m=\u001b[0m \u001b[0mdata\u001b[0m\u001b[0;34m[\u001b[0m\u001b[0mself\u001b[0m\u001b[0;34m.\u001b[0m\u001b[0mtarget\u001b[0m\u001b[0;34m]\u001b[0m\u001b[0;34m\u001b[0m\u001b[0;34m\u001b[0m\u001b[0m\n",
            "\u001b[0;32m/usr/local/lib/python3.7/dist-packages/pytorch_forecasting/data/encoders.py\u001b[0m in \u001b[0;36mtransform\u001b[0;34m(self, y, return_norm, target_scale, ignore_na)\u001b[0m\n\u001b[1;32m    133\u001b[0m                 \u001b[0;32mexcept\u001b[0m \u001b[0mKeyError\u001b[0m \u001b[0;32mas\u001b[0m \u001b[0me\u001b[0m\u001b[0;34m:\u001b[0m\u001b[0;34m\u001b[0m\u001b[0;34m\u001b[0m\u001b[0m\n\u001b[1;32m    134\u001b[0m                     raise KeyError(\n\u001b[0;32m--> 135\u001b[0;31m                         \u001b[0;34mf\"Unknown category '{e.args[0]}' encountered. Set `add_nan=True` to allow unknown categories\"\u001b[0m\u001b[0;34m\u001b[0m\u001b[0;34m\u001b[0m\u001b[0m\n\u001b[0m\u001b[1;32m    136\u001b[0m                     )\n\u001b[1;32m    137\u001b[0m \u001b[0;34m\u001b[0m\u001b[0m\n",
            "\u001b[0;31mKeyError\u001b[0m: \"Unknown category '6057' encountered. Set `add_nan=True` to allow unknown categories\""
          ]
        }
      ]
    }
  ]
}